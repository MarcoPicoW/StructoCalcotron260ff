{
 "cells": [
  {
   "cell_type": "code",
   "execution_count": 1,
   "metadata": {},
   "outputs": [],
   "source": [
    "import numpy, scipy, math, handcalcs.render, forallpeople, pandas, sympy\n",
    "from math import sqrt, pi, sin, tan, cos, atan\n",
    "forallpeople.environment('structural', top_level=True)\n",
    "handcalcs.save_config()\n",
    "from sympy.abc import x, y"
   ]
  },
  {
   "cell_type": "markdown",
   "metadata": {},
   "source": [
    "# Eigengewicht"
   ]
  },
  {
   "cell_type": "code",
   "execution_count": 2,
   "metadata": {},
   "outputs": [
    {
     "data": {
      "text/latex": [
       "\\[\n",
       "\\begin{aligned}\n",
       "\\gamma_{b} &= 25.000\\ \\mathrm{kN/m³} \\; \n",
       " &A_{1} &= 169000.000\\ \\mathrm{mm}^{2} \\; \n",
       " &A_{2} &= 331250.000\\ \\mathrm{mm}^{2} \\; \n",
       "\\\\[10pt]\n",
       " A_{3} &= 1.880\\ \\mathrm{m}^{2} \\; \n",
       " &A_{4} &= 170553.924\\ \\mathrm{mm}^{2} \\; \n",
       " &A_{5} &= 331250.000\\ \\mathrm{mm}^{2} \\; \n",
       "\\\\[10pt]\n",
       " A_{6} &= 180000.000\\ \\mathrm{mm}^{2} \\; \n",
       " &A_{voll} &= 2.891\\ \\mathrm{m}^{2} \\; \n",
       " &A_{Holkasten} &= 2.380\\ \\mathrm{m}^{2} \\; \n",
       "\\\\[10pt]\n",
       "\\end{aligned}\n",
       "\\]"
      ],
      "text/plain": [
       "<IPython.core.display.Latex object>"
      ]
     },
     "metadata": {},
     "output_type": "display_data"
    }
   ],
   "source": [
    "%%render params \n",
    "gamma_b = 25       *kN/m**3\n",
    "A_1 = .169000      *m**2\n",
    "A_2 = .331250      *m**2\n",
    "A_3 = 1.880000     *m**2\n",
    "A_4 = .054289 *pi  *m**2\n",
    "A_5 = .331250      *m**2\n",
    "A_6 = .180000      *m**2\n",
    "A_voll = A_1 + A_2 + A_3 + A_5 + A_6\n",
    "A_Holkasten = A_1 + A_2 + A_3 - (3 * A_4) + A_5 + A_6"
   ]
  },
  {
   "cell_type": "code",
   "execution_count": 3,
   "metadata": {},
   "outputs": [
    {
     "data": {
      "text/latex": [
       "\\[\n",
       "\\begin{aligned}\n",
       "g_{k1} &= \\left( A_{1} + A_{2} + A_{3} + A_{5} + A_{6} \\right) \\cdot \\gamma_{b} \\\\&= \\left( 169000.000\\ \\mathrm{mm}^{2} + 331250.000\\ \\mathrm{mm}^{2} + 1.880\\ \\mathrm{m}^{2} + 331250.000\\ \\mathrm{mm}^{2} + 180000.000\\ \\mathrm{mm}^{2} \\right) \\cdot 25.000\\ \\mathrm{kN/m³} \\\\&= 72.287\\ \\mathrm{kN/m}  \\\\[10pt]\n",
       "\\\\[10pt]\n",
       "g_{k2} &= \\left( A_{1} + A_{2} + A_{3} - \\left( 3 \\cdot A_{4} \\right) + A_{5} + A_{6} \\right) \\cdot \\gamma_{b} \\\\&= \\left( 169000.000\\ \\mathrm{mm}^{2} + 331250.000\\ \\mathrm{mm}^{2} + 1.880\\ \\mathrm{m}^{2} - \\left( 3 \\cdot 170553.924\\ \\mathrm{mm}^{2} \\right) + 331250.000\\ \\mathrm{mm}^{2} + 180000.000\\ \\mathrm{mm}^{2} \\right) \\cdot 25.000\\ \\mathrm{kN/m³} \\\\&= 59.496\\ \\mathrm{kN/m}  \\\\[10pt]\n",
       "\\end{aligned}\n",
       "\\]"
      ],
      "text/plain": [
       "<IPython.core.display.Latex object>"
      ]
     },
     "metadata": {},
     "output_type": "display_data"
    }
   ],
   "source": [
    "%%render 3\n",
    "g_k1 = (A_1 + A_2 + A_3 + A_5 + A_6) * gamma_b\n",
    "g_k2 = (A_1 + A_2 + A_3 - (3 * A_4) + A_5 + A_6) * gamma_b"
   ]
  },
  {
   "cell_type": "code",
   "execution_count": 4,
   "metadata": {},
   "outputs": [
    {
     "data": {
      "text/latex": [
       "\\[\n",
       "\\begin{aligned}\n",
       "g_{k1} &= \\left( A_{1} + A_{2} + A_{3} + A_{5} + A_{6} \\right) \\cdot \\gamma_{b} \\\\&= \\left( 169000.000\\ \\mathrm{mm}^{2} + 331250.000\\ \\mathrm{mm}^{2} + 1.880\\ \\mathrm{m}^{2} + 331250.000\\ \\mathrm{mm}^{2} + 180000.000\\ \\mathrm{mm}^{2} \\right) \\cdot 25.000\\ \\mathrm{kN/m³} \\\\&= 72.287\\ \\mathrm{kN/m}  \\\\[10pt]\n",
       "\\\\[10pt]\n",
       "g_{k2} &= \\left( A_{1} + A_{2} + A_{3} - \\left( 3 \\cdot A_{4} \\right) + A_{5} + A_{6} \\right) \\cdot \\gamma_{b} \\\\&= \\left( 169000.000\\ \\mathrm{mm}^{2} + 331250.000\\ \\mathrm{mm}^{2} + 1.880\\ \\mathrm{m}^{2} - \\left( 3 \\cdot 170553.924\\ \\mathrm{mm}^{2} \\right) + 331250.000\\ \\mathrm{mm}^{2} + 180000.000\\ \\mathrm{mm}^{2} \\right) \\cdot 25.000\\ \\mathrm{kN/m³} \\\\&= 59.496\\ \\mathrm{kN/m}  \\\\[10pt]\n",
       "\\end{aligned}\n",
       "\\]"
      ],
      "text/plain": [
       "<IPython.core.display.Latex object>"
      ]
     },
     "metadata": {},
     "output_type": "display_data"
    }
   ],
   "source": [
    "%%render 3\n",
    "g_k1 = (A_1 + A_2 + A_3 + A_5 + A_6) * gamma_b\n",
    "g_k2 = (A_1 + A_2 + A_3 - (3 * A_4) + A_5 + A_6) * gamma_b"
   ]
  },
  {
   "cell_type": "markdown",
   "metadata": {},
   "source": [
    "# Auflasten"
   ]
  },
  {
   "cell_type": "code",
   "execution_count": 5,
   "metadata": {},
   "outputs": [
    {
     "data": {
      "text/latex": [
       "\\[\n",
       "\\begin{aligned}\n",
       "\\gamma_{Gussasphalt} &= 24\\ \\mathrm{kN/m³} \\; \n",
       " &\\mathrm{staerke}_{Gussasphalt} &= 100\\ \\mathrm{mm} \\; \n",
       " &A_{Gussasphalt} &= 350000\\ \\mathrm{mm}^{2} \\; \n",
       "\\\\[10pt]\n",
       " g_{Geleander} &= 1\\ \\mathrm{kN/m} \\; \n",
       " &\\gamma_{unbewBeton} &= 24\\ \\mathrm{kN/m³} \\; \n",
       " &\\mathrm{staerke}_{Beton} &= 120\\ \\mathrm{mm} \\; \n",
       "\\\\[10pt]\n",
       " A_{unbewBeton} &= 180000\\ \\mathrm{mm}^{2} \\;\n",
       "\\end{aligned}\n",
       "\\]"
      ],
      "text/plain": [
       "<IPython.core.display.Latex object>"
      ]
     },
     "metadata": {},
     "output_type": "display_data"
    }
   ],
   "source": [
    "%%render params 0\n",
    "gamma_Gussasphalt = 24 * kN/m**3\n",
    "staerke_Gussasphalt = 100 *mm\n",
    "A_Gussasphalt = staerke_Gussasphalt * 3.5 * m\n",
    "g_Geleander = 1 *kN/m\n",
    "gamma_unbewBeton = 24 *kN/m**3\n",
    "staerke_Beton = 120 *mm\n",
    "A_unbewBeton = 1.5 * staerke_Beton * m"
   ]
  },
  {
   "cell_type": "code",
   "execution_count": 6,
   "metadata": {},
   "outputs": [
    {
     "data": {
      "text/latex": [
       "\\[\n",
       "\\begin{aligned}\n",
       "g_{Gussasphalt} &= \\gamma_{Gussasphalt} \\cdot A_{Gussasphalt}  = 24.000\\ \\mathrm{kN/m³} \\cdot 350000.000\\ \\mathrm{mm}^{2} &= 8.400\\ \\mathrm{kN/m}  \n",
       "\\\\[10pt]\n",
       "g_{unbewBeton} &= \\gamma_{unbewBeton} \\cdot A_{unbewBeton}  = 24.000\\ \\mathrm{kN/m³} \\cdot 180000.000\\ \\mathrm{mm}^{2} &= 4.320\\ \\mathrm{kN/m}  \n",
       "\\\\[10pt]\n",
       "g_{Ak} &= g_{Gussasphalt} + g_{unbewBeton} + 2 \\cdot g_{Geleander}  = 8.400\\ \\mathrm{kN/m} + 4.320\\ \\mathrm{kN/m} + 2 \\cdot 1.000\\ \\mathrm{kN/m} &= 14.720\\ \\mathrm{kN/m}  \n",
       "\\end{aligned}\n",
       "\\]"
      ],
      "text/plain": [
       "<IPython.core.display.Latex object>"
      ]
     },
     "metadata": {},
     "output_type": "display_data"
    }
   ],
   "source": [
    "%%render 3\n",
    "g_Gussasphalt = gamma_Gussasphalt * A_Gussasphalt\n",
    "g_unbewBeton = gamma_unbewBeton * A_unbewBeton\n",
    "g_Ak = g_Gussasphalt + g_unbewBeton + 2 * g_Geleander"
   ]
  },
  {
   "cell_type": "markdown",
   "metadata": {},
   "source": [
    "# LM1"
   ]
  },
  {
   "cell_type": "markdown",
   "metadata": {},
   "source": [
    "## Fahrstreife"
   ]
  },
  {
   "cell_type": "code",
   "execution_count": 7,
   "metadata": {},
   "outputs": [
    {
     "data": {
      "text/latex": [
       "\\[\n",
       "\\begin{aligned}\n",
       "Q_{k1} &= 300.000\\ \\mathrm{kN} \\; \n",
       " &q_{k1} &= 9.000\\ \\mathrm{kPa} \\; \n",
       " &q_{kr} &= 2.500\\ \\mathrm{kPa} \\; \n",
       "\\\\[10pt]\n",
       " \\alpha_{Q1} &= 0.550 \\; \n",
       " &\\alpha_{q1} &= 0.550 \\; \n",
       " &\\alpha_{qr} &= 0.550 \\; \n",
       "\\\\[10pt]\n",
       "\\end{aligned}\n",
       "\\]"
      ],
      "text/plain": [
       "<IPython.core.display.Latex object>"
      ]
     },
     "metadata": {},
     "output_type": "display_data"
    }
   ],
   "source": [
    "%%render params \n",
    "Q_k1 = 300 *kN\n",
    "q_k1 = 9 *kN/m**2\n",
    "q_kr = 2.5 *kN/m**2\n",
    "alpha_Q1 = 0.55\n",
    "alpha_q1 = 0.55\n",
    "alpha_qr = 0.55"
   ]
  },
  {
   "cell_type": "code",
   "execution_count": 8,
   "metadata": {},
   "outputs": [
    {
     "data": {
      "text/latex": [
       "\\[\n",
       "\\begin{aligned}\n",
       "q_{k1l} &= q_{k1} \\cdot \\alpha_{q1} \\cdot 3 \\cdot m  = 9.000\\ \\mathrm{kPa} \\cdot 0.550 \\cdot 3 \\cdot m &= 14.850\\ \\mathrm{kN/m}  \n",
       "\\\\[10pt]\n",
       "q_{krl} &= q_{kr} \\cdot \\alpha_{qr} \\cdot 2 \\cdot m  = 2.500\\ \\mathrm{kPa} \\cdot 0.550 \\cdot 2 \\cdot m &= 2.750\\ \\mathrm{kN/m}  \n",
       "\\\\[10pt]\n",
       "Q_{k1l} &= Q_{k1} \\cdot \\alpha_{Q1}  = 300.000\\ \\mathrm{kN} \\cdot 0.550 &= 165.000\\ \\mathrm{kN}  \n",
       "\\end{aligned}\n",
       "\\]"
      ],
      "text/plain": [
       "<IPython.core.display.Latex object>"
      ]
     },
     "metadata": {},
     "output_type": "display_data"
    }
   ],
   "source": [
    "%%render  3\n",
    "q_k1l = q_k1 * alpha_q1 * 3 * m\n",
    "q_krl = q_kr * alpha_qr * 2 * m\n",
    "Q_k1l = Q_k1 * alpha_Q1"
   ]
  },
  {
   "cell_type": "markdown",
   "metadata": {},
   "source": [
    "## Anfahrtkraft SIA 261"
   ]
  },
  {
   "cell_type": "code",
   "execution_count": 9,
   "metadata": {},
   "outputs": [
    {
     "data": {
      "text/latex": [
       "\\[\n",
       "\\begin{aligned}\n",
       "b_{1} &= 3.000\\ \\mathrm{m} \\; \\;\\textrm{(Breite fiktivestreife)}\n",
       " &l &= 43.400\\ \\mathrm{m} \\; \\;\\textrm{(Länge der Brücke)}\n",
       "\\end{aligned}\n",
       "\\]"
      ],
      "text/plain": [
       "<IPython.core.display.Latex object>"
      ]
     },
     "metadata": {},
     "output_type": "display_data"
    }
   ],
   "source": [
    "%%render params \n",
    "b_1 = 3*m # Breite fiktivestreife\n",
    "l = 43.4 *m # Länge der Brücke"
   ]
  },
  {
   "cell_type": "code",
   "execution_count": 10,
   "metadata": {},
   "outputs": [
    {
     "data": {
      "text/latex": [
       "\\[\n",
       "\\begin{aligned}\n",
       "Q_{Ak} &= 1.2 \\cdot \\alpha_{Q1} \\cdot Q_{k1} + 0.1 \\cdot \\alpha_{q1} \\cdot q_{k1} \\cdot b_{1} \\cdot l \\\\&= 1.2 \\cdot 0.550 \\cdot 300.000\\ \\mathrm{kN} + 0.1 \\cdot 0.550 \\cdot 9.000\\ \\mathrm{kPa} \\cdot 3.000\\ \\mathrm{m} \\cdot 43.400\\ \\mathrm{m} \\\\&= 262.449\\ \\mathrm{kN}  \\\\[10pt]\n",
       "\\end{aligned}\n",
       "\\]"
      ],
      "text/plain": [
       "<IPython.core.display.Latex object>"
      ]
     },
     "metadata": {},
     "output_type": "display_data"
    }
   ],
   "source": [
    "%%render   3\n",
    "Q_Ak = 1.2 * alpha_Q1 * Q_k1 + 0.1 * alpha_q1 * q_k1 * b_1 * l"
   ]
  },
  {
   "cell_type": "markdown",
   "metadata": {},
   "source": [
    "## Anfahrtkraft SIA 269/1"
   ]
  },
  {
   "cell_type": "code",
   "execution_count": 11,
   "metadata": {},
   "outputs": [
    {
     "data": {
      "text/latex": [
       "\\[\n",
       "\\begin{aligned}\n",
       "Q_{Ak} &= 0.8 \\cdot Q_{k1} + 0.07 \\cdot q_{k1} \\cdot b_{1} \\cdot l  = 0.8 \\cdot 300.000\\ \\mathrm{kN} + 0.07 \\cdot 9.000\\ \\mathrm{kPa} \\cdot 3.000\\ \\mathrm{m} \\cdot 43.400\\ \\mathrm{m} &= 322.026\\ \\mathrm{kN}  \n",
       "\\end{aligned}\n",
       "\\]"
      ],
      "text/plain": [
       "<IPython.core.display.Latex object>"
      ]
     },
     "metadata": {},
     "output_type": "display_data"
    }
   ],
   "source": [
    "%%render   3\n",
    "Q_Ak = 0.8  * Q_k1 + 0.07  * q_k1 * b_1 * l"
   ]
  },
  {
   "cell_type": "markdown",
   "metadata": {},
   "source": [
    "## Zentrifugalkraft "
   ]
  },
  {
   "cell_type": "code",
   "execution_count": 12,
   "metadata": {},
   "outputs": [],
   "source": [
    "# r < 1500 m, ergo = 0 kN"
   ]
  },
  {
   "cell_type": "markdown",
   "metadata": {},
   "source": [
    "# Wind"
   ]
  },
  {
   "cell_type": "code",
   "execution_count": 13,
   "metadata": {},
   "outputs": [
    {
     "data": {
      "text/latex": [
       "\\[\n",
       "\\begin{aligned}\n",
       "q_{p0} &= 900.000\\ \\mathrm{Pa} \\; \n",
       " &z &= 10.000\\ \\mathrm{m} \\; \n",
       " &z_{g} &= 450.000\\ \\mathrm{m} \\; \\;\\textrm{(Geleande 3)}\n",
       "\\\\[10pt]\n",
       " \\alpha_{r} &= 0.230 \\; \n",
       " &h &= 1.080\\ \\mathrm{m} \\; \n",
       " &b &= 5.700\\ \\mathrm{m} \\; \n",
       "\\\\[10pt]\n",
       " \\mathrm{Neigung} &= 1.432 \\; \n",
       " &c_{red} &= 1 \\; \n",
       " &c_{d} &= 1 \\; \n",
       "\\\\[10pt]\n",
       " \\mathrm{verhealtiniss} &= 0.189 \\; \n",
       " &\\vartheta &= -9.432 \\; \\;\\textrm{(Brücke < 30m über Boden)}\n",
       "\\end{aligned}\n",
       "\\]"
      ],
      "text/plain": [
       "<IPython.core.display.Latex object>"
      ]
     },
     "metadata": {},
     "output_type": "display_data"
    }
   ],
   "source": [
    "%%render params \n",
    "q_p0 = 0.9 * kN/m**2\n",
    "z = 10 * m\n",
    "z_g = 450 * m # Geleande 3\n",
    "alpha_r = 0.23\n",
    "h = 1.08 *m\n",
    "b = 5.7*m\n",
    "Neigung = atan(2.5/100)*(180/pi)\n",
    "c_red = 1 \n",
    "c_d = 1\n",
    "verhealtiniss = h/b \n",
    "vartheta = -Neigung - 8 #Brücke < 30m über Boden"
   ]
  },
  {
   "cell_type": "code",
   "execution_count": null,
   "metadata": {},
   "outputs": [
    {
     "data": {
      "text/latex": [
       "\\[\n",
       "\\begin{aligned}\n",
       "c_{h} &= 1.6 \\cdot \\left( \\left( \\frac{ z }{ z_{g} } \\right) ^{ \\alpha_{r} } + 0.375 \\right) ^{ 2 }  = 1.6 \\cdot \\left( \\left( \\frac{ 10.000\\ \\mathrm{m} }{ 450.000\\ \\mathrm{m} } \\right) ^{ 0.230 } + 0.375 \\right) ^{ 2 } &= 1.003  \n",
       "\\\\[10pt]\n",
       "q_{p} &= c_{h} \\cdot q_{p0}  = 1.003 \\cdot 900.000\\ \\mathrm{Pa} &= 902.440\\ \\mathrm{Pa}  \n",
       "\\end{aligned}\n",
       "\\]"
      ],
      "text/plain": [
       "<IPython.core.display.Latex object>"
      ]
     },
     "metadata": {},
     "output_type": "display_data"
    }
   ],
   "source": [
    "%%render\n",
    "c_h = 1.6 * (((z/z_g)**alpha_r)+0.375)**2\n",
    "q_p = c_h * q_p0"
   ]
  },
  {
   "cell_type": "code",
   "execution_count": 15,
   "metadata": {},
   "outputs": [
    {
     "name": "stdout",
     "output_type": "stream",
     "text": [
      "     h:b  h_1:b    v  c_f1  c_f3  e_v/h  e_h/v\n",
      "0  0.110   0.00 -9.5  1.55 -0.79   0.59  -0.20\n",
      "1  0.282   0.00 -9.5  1.38 -0.61   0.84  -0.20\n",
      "2  0.110   0.35 -9.5  1.04  0.28   0.00  -0.01\n",
      "3  0.282   0.35 -9.5  0.87  0.14   0.86   0.04\n",
      "4  0.110   0.00 -6.5  1.45 -0.34   1.41  -0.26\n",
      "5  0.282   0.00 -6.5  1.42 -0.61   0.92  -0.22\n",
      "6  0.110   0.35 -6.5  1.11  0.63  -0.59  -0.09\n",
      "7  0.282   0.35 -6.5  0.98  0.29   0.68   0.04\n"
     ]
    }
   ],
   "source": [
    "wind = pandas.read_csv(\"Wind.CSV\")\n",
    "print(wind)"
   ]
  },
  {
   "cell_type": "code",
   "execution_count": 16,
   "metadata": {},
   "outputs": [
    {
     "name": "stdout",
     "output_type": "stream",
     "text": [
      "   h_1:b    v   c_f1   c_f3  e_v/h  e_h/v\n",
      "0   0.00 -9.5  1.473 -0.709  0.703 -0.200\n",
      "1   0.35 -9.5  0.963  0.217  0.388  0.013\n",
      "2   0.00 -6.5  1.436 -0.462  1.189 -0.242\n",
      "3   0.35 -6.5  1.051  0.476 -0.016 -0.031\n"
     ]
    }
   ],
   "source": [
    "hb_real = 0.1877\n",
    "list_1 =[]\n",
    "for i in range(4):\n",
    "    c_f1 = wind.at[i*2, \"c_f1\"] + (((wind.at[(i*2)+1, \"c_f1\"] - wind.at[i*2, \"c_f1\"]) / (wind.at[(i*2)+1, \"h:b\"] - wind.at[(i*2), \"h:b\"])) * (hb_real - wind.at[(i*2), \"h:b\"]))\n",
    "    c_f3 = wind.at[i*2, \"c_f3\"] + (((wind.at[(i*2)+1, \"c_f3\"] - wind.at[i*2, \"c_f3\"]) / (wind.at[(i*2)+1, \"h:b\"] - wind.at[(i*2), \"h:b\"])) * (hb_real - wind.at[(i*2), \"h:b\"]))\n",
    "    e_vh = wind.at[i*2, \"e_v/h\"] + (((wind.at[(i*2)+1, \"e_v/h\"] - wind.at[i*2, \"e_v/h\"]) / (wind.at[(i*2)+1, \"h:b\"] - wind.at[(i*2), \"h:b\"])) * (hb_real - wind.at[(i*2), \"h:b\"]))\n",
    "    e_hv = wind.at[i*2, \"e_h/v\"] + (((wind.at[(i*2)+1, \"e_h/v\"] - wind.at[i*2, \"e_h/v\"]) / (wind.at[(i*2)+1, \"h:b\"] - wind.at[(i*2), \"h:b\"])) * (hb_real - wind.at[(i*2), \"h:b\"]))\n",
    "    h_1b = wind.at[i*2, \"h_1:b\"]\n",
    "    vartheta = wind.at[i*2, \"v\"]\n",
    "    single_list = [float(h_1b), float(vartheta), float(c_f1), float(c_f3), float(e_vh), float(e_hv)]\n",
    "    list_1.append(single_list)\n",
    "wind01877 = pandas.DataFrame(list_1 , columns= [\"h_1:b\",   \"v\",  \"c_f1\",  \"c_f3\",  \"e_v/h\",  \"e_h/v\"])\n",
    "print(round(wind01877, 3))"
   ]
  },
  {
   "cell_type": "markdown",
   "metadata": {},
   "source": [
    "## ohne Verkeher"
   ]
  },
  {
   "cell_type": "markdown",
   "metadata": {},
   "source": [
    "### $\\vartheta = 10$"
   ]
  },
  {
   "cell_type": "code",
   "execution_count": 17,
   "metadata": {},
   "outputs": [
    {
     "data": {
      "text/latex": [
       "\\[\n",
       "\\begin{aligned}\n",
       "q_{1k} &= c_{red} \\cdot c_{d} \\cdot \\mathrm{wind01877.at}  = 1 \\cdot 1 \\cdot wind01877.at &= 1.436\\ \\mathrm{kN/m}  \n",
       "\\\\[10pt]\n",
       "e_{v} &= 759.171\\ \\mathrm{mm} \\; \n",
       "\\\\[10pt]\n",
       "q_{3k} &= c_{red} \\cdot c_{d} \\cdot \\mathrm{wind01877.at}  = 1 \\cdot 1 \\cdot wind01877.at &= -3.645\\ \\mathrm{kN/m}  \n",
       "\\\\[10pt]\n",
       "e_{h} &= -1.140\\ \\mathrm{m} \\; \n",
       "\\end{aligned}\n",
       "\\]"
      ],
      "text/plain": [
       "<IPython.core.display.Latex object>"
      ]
     },
     "metadata": {},
     "output_type": "display_data"
    }
   ],
   "source": [
    "%%render  3\n",
    "q_1k = c_red * c_d * wind01877.at[0, \"c_f1\"] * q_p * h\n",
    "e_v = wind01877.at[0, \"e_v/h\"] * h\n",
    "q_3k = c_red * c_d * wind01877.at[0, \"c_f3\"] * q_p * b\n",
    "e_h = wind01877.at[0, \"e_h/v\"] * b"
   ]
  },
  {
   "cell_type": "markdown",
   "metadata": {},
   "source": [
    "### $\\vartheta = 6$"
   ]
  },
  {
   "cell_type": "code",
   "execution_count": 18,
   "metadata": {},
   "outputs": [
    {
     "data": {
      "text/latex": [
       "\\[\n",
       "\\begin{aligned}\n",
       "q_{1k} &= c_{red} \\cdot c_{d} \\cdot \\mathrm{wind01877.at}  = 1 \\cdot 1 \\cdot wind01877.at &= 1.400\\ \\mathrm{kN/m}  \n",
       "\\\\[10pt]\n",
       "e_{v} &= 1.284\\ \\mathrm{m} \\; \n",
       "\\\\[10pt]\n",
       "q_{3k} &= c_{red} \\cdot c_{d} \\cdot \\mathrm{wind01877.at}  = 1 \\cdot 1 \\cdot wind01877.at &= -2.376\\ \\mathrm{kN/m}  \n",
       "\\\\[10pt]\n",
       "e_{h} &= -1.379\\ \\mathrm{m} \\; \n",
       "\\end{aligned}\n",
       "\\]"
      ],
      "text/plain": [
       "<IPython.core.display.Latex object>"
      ]
     },
     "metadata": {},
     "output_type": "display_data"
    }
   ],
   "source": [
    "%%render  3\n",
    "q_1k = c_red * c_d * wind01877.at[2, \"c_f1\"] * q_p * h\n",
    "e_v = wind01877.at[2, \"e_v/h\"] * h\n",
    "q_3k = c_red * c_d * wind01877.at[2, \"c_f3\"] * q_p * b\n",
    "e_h = wind01877.at[2, \"e_h/v\"] * b"
   ]
  },
  {
   "cell_type": "markdown",
   "metadata": {},
   "source": [
    "## mit Verkeher"
   ]
  },
  {
   "cell_type": "markdown",
   "metadata": {},
   "source": [
    "### $\\vartheta = 10$"
   ]
  },
  {
   "cell_type": "code",
   "execution_count": 19,
   "metadata": {},
   "outputs": [
    {
     "data": {
      "text/latex": [
       "\\[\n",
       "\\begin{aligned}\n",
       "q_{1k} &= c_{red} \\cdot c_{d} \\cdot \\mathrm{wind01877.at}  = 1 \\cdot 1 \\cdot wind01877.at &= 3.546\\ \\mathrm{kN/m}  \n",
       "\\\\[10pt]\n",
       "e_{v} &= 419.580\\ \\mathrm{mm} \\; \n",
       "\\\\[10pt]\n",
       "q_{3k} &= c_{red} \\cdot c_{d} \\cdot \\mathrm{wind01877.at}  = 1 \\cdot 1 \\cdot wind01877.at &= 1.115\\ \\mathrm{kN/m}  \n",
       "\\\\[10pt]\n",
       "e_{h} &= 71.747\\ \\mathrm{mm} \\; \n",
       "\\end{aligned}\n",
       "\\]"
      ],
      "text/plain": [
       "<IPython.core.display.Latex object>"
      ]
     },
     "metadata": {},
     "output_type": "display_data"
    }
   ],
   "source": [
    "%%render  3\n",
    "q_1k = c_red * c_d * wind01877.at[1, \"c_f1\"] * q_p * (h + 3*m)\n",
    "e_v = wind01877.at[1, \"e_v/h\"] * h\n",
    "q_3k = c_red * c_d * wind01877.at[1, \"c_f3\"] * q_p * b\n",
    "e_h = wind01877.at[1, \"e_h/v\"] * b"
   ]
  },
  {
   "cell_type": "markdown",
   "metadata": {},
   "source": [
    "### $\\vartheta = 6$"
   ]
  },
  {
   "cell_type": "code",
   "execution_count": 20,
   "metadata": {},
   "outputs": [
    {
     "data": {
      "text/latex": [
       "\\[\n",
       "\\begin{aligned}\n",
       "q_{1k} &= c_{red} \\cdot c_{d} \\cdot \\mathrm{wind01877.at}  = 1 \\cdot 1 \\cdot wind01877.at &= 3.871\\ \\mathrm{kN/m}  \n",
       "\\\\[10pt]\n",
       "e_{v} &= -17.588\\ \\mathrm{mm} \\; \n",
       "\\\\[10pt]\n",
       "q_{3k} &= c_{red} \\cdot c_{d} \\cdot \\mathrm{wind01877.at}  = 1 \\cdot 1 \\cdot wind01877.at &= 2.451\\ \\mathrm{kN/m}  \n",
       "\\\\[10pt]\n",
       "e_{h} &= -178.258\\ \\mathrm{mm} \\; \n",
       "\\end{aligned}\n",
       "\\]"
      ],
      "text/plain": [
       "<IPython.core.display.Latex object>"
      ]
     },
     "metadata": {},
     "output_type": "display_data"
    }
   ],
   "source": [
    "%%render  3\n",
    "q_1k = c_red * c_d * wind01877.at[3, \"c_f1\"] * q_p * (h + 3*m)\n",
    "e_v = wind01877.at[3, \"e_v/h\"] * h\n",
    "q_3k = c_red * c_d * wind01877.at[3, \"c_f3\"] * q_p * b\n",
    "e_h = wind01877.at[3, \"e_h/v\"] * b"
   ]
  },
  {
   "cell_type": "markdown",
   "metadata": {},
   "source": [
    "# Schnee"
   ]
  },
  {
   "cell_type": "code",
   "execution_count": 21,
   "metadata": {},
   "outputs": [
    {
     "data": {
      "text/latex": [
       "\\[\n",
       "\\begin{aligned}\n",
       "h_{0} &= 540.000\\ \\mathrm{m} \\; \n",
       " &\\mu_{i} &= 0.800 \\; \n",
       " &C_{e} &= 0.800 \\; \n",
       "\\\\[10pt]\n",
       " C_{T} &= 1 \\;\n",
       "\\end{aligned}\n",
       "\\]"
      ],
      "text/plain": [
       "<IPython.core.display.Latex object>"
      ]
     },
     "metadata": {},
     "output_type": "display_data"
    }
   ],
   "source": [
    "%%render params \n",
    "h_0 = 540 * m\n",
    "mu_i = 0.8 \n",
    "C_e = 0.8\n",
    "C_T = 1"
   ]
  },
  {
   "cell_type": "code",
   "execution_count": 22,
   "metadata": {},
   "outputs": [
    {
     "data": {
      "text/latex": [
       "\\[\n",
       "\\begin{aligned}\n",
       "s_{k} &= \\left( 1 + \\left( \\frac{ h_{0} }{ 350 \\cdot m } \\right) ^{ 2 } \\right) \\cdot 0.4 \\cdot \\frac{ \\mathrm{kN} }{ \\left( m \\right) ^{ 2 } } \\\\&= \\left( 1 + \\left( \\frac{ 540.000\\ \\mathrm{m} }{ 350 \\cdot m } \\right) ^{ 2 } \\right) \\cdot 0.4 \\cdot \\frac{ kN }{ \\left( m \\right) ^{ 2 } } \\\\&= 1.352\\ \\mathrm{kPa}  \\\\[10pt]\n",
       "\\\\[10pt]\n",
       "q_{sk} &= \\mu_{i} \\cdot C_{e} \\cdot C_{T} \\cdot s_{k}  = 0.800 \\cdot 0.800 \\cdot 1 \\cdot 1.352\\ \\mathrm{kPa} &= 865.384\\ \\mathrm{Pa}  \n",
       "\\\\[10pt]\n",
       "q_{sk_{l}} &= q_{sk} \\cdot b  = 865.384\\ \\mathrm{Pa} \\cdot 5.700\\ \\mathrm{m} &= 4.933\\ \\mathrm{kN/m}  \n",
       "\\end{aligned}\n",
       "\\]"
      ],
      "text/plain": [
       "<IPython.core.display.Latex object>"
      ]
     },
     "metadata": {},
     "output_type": "display_data"
    }
   ],
   "source": [
    "%%render  3\n",
    "s_k = (1+((h_0/(350 * m))**2))*0.4 *kN/m**2\n",
    "q_sk = mu_i * C_e * C_T *s_k\n",
    "q_sk_l = q_sk * b"
   ]
  },
  {
   "cell_type": "markdown",
   "metadata": {},
   "source": [
    "# Temperatur"
   ]
  },
  {
   "cell_type": "markdown",
   "metadata": {},
   "source": [
    "## Dehenung"
   ]
  },
  {
   "cell_type": "code",
   "execution_count": 23,
   "metadata": {},
   "outputs": [
    {
     "data": {
      "text/latex": [
       "\\[\n",
       "\\begin{aligned}\n",
       "\\Delta_{T11} &= -20 \\; \n",
       "\\\\[10pt]\n",
       "\\Delta_{T12} &= 20 \\; \n",
       "\\\\[10pt]\n",
       "\\alpha_{T} &= 10 \\cdot \\left( 10 \\right) ^{ \\left( - 6 \\right) } &= 0.00001  \n",
       "\\\\[10pt]\n",
       "\\varepsilon_{T} &= \\Delta_{T11} \\cdot \\alpha_{T} \\cdot 1000  = -20 \\cdot 0.00001 \\cdot 1000 &= -0.20000  \n",
       "\\end{aligned}\n",
       "\\]"
      ],
      "text/plain": [
       "<IPython.core.display.Latex object>"
      ]
     },
     "metadata": {},
     "output_type": "display_data"
    }
   ],
   "source": [
    "%%render 5\n",
    "Delta_T11 = -20 \n",
    "Delta_T12 = 20 \n",
    "alpha_T = 10*10**(-6) \n",
    "varepsilon_T = Delta_T11 * alpha_T * 1000"
   ]
  },
  {
   "cell_type": "markdown",
   "metadata": {},
   "source": [
    "## Krümmung"
   ]
  },
  {
   "cell_type": "code",
   "execution_count": 24,
   "metadata": {},
   "outputs": [
    {
     "name": "stdout",
     "output_type": "stream",
     "text": [
      "\\[\n",
      "\\begin{aligned}\n",
      "\\Delta_{T21} &= 12 \\; \n",
      "\\\\[10pt]\n",
      "\\Delta_{T22} &= -4 \\; \n",
      "\\\\[10pt]\n",
      "\\chi_{TW} &= \\frac{ \\Delta_{T21} \\cdot \\alpha_{T} }{ 0.86 }  = \\frac{ 12 \\cdot 0.0000100000 }{ 0.86 } &= 0.0001395349  \n",
      "\\\\[10pt]\n",
      "\\chi_{TK} &= \\frac{ \\Delta_{T22} \\cdot \\alpha_{T} }{ 0.86 }  = \\frac{ -4 \\cdot 0.0000100000 }{ 0.86 } &= -0.0000465116  \n",
      "\\end{aligned}\n",
      "\\]\n"
     ]
    }
   ],
   "source": [
    "%%tex 10\n",
    "Delta_T21 = 12\n",
    "Delta_T22 = -4\n",
    "chi_TW = (Delta_T21 * alpha_T) / 0.86\n",
    "chi_TK = (Delta_T22 * alpha_T) / 0.86"
   ]
  },
  {
   "cell_type": "markdown",
   "metadata": {},
   "source": [
    "# Anprall"
   ]
  },
  {
   "cell_type": "markdown",
   "metadata": {},
   "source": [
    "## Frontale Anprall an Stützen"
   ]
  },
  {
   "cell_type": "code",
   "execution_count": 25,
   "metadata": {},
   "outputs": [
    {
     "data": {
      "text/latex": [
       "\\[\n",
       "\\begin{aligned}\n",
       "Q_{ha} &= 1000 \\cdot \\mathrm{kN}  = 1000 \\cdot kN &= 1.000\\ \\mathrm{MN}  \n",
       "\\\\[10pt]\n",
       "\\alpha &= 30 \\; \\;\\textrm{(Astra 12008 3.6)}\n",
       "\\end{aligned}\n",
       "\\]"
      ],
      "text/plain": [
       "<IPython.core.display.Latex object>"
      ]
     },
     "metadata": {},
     "output_type": "display_data"
    }
   ],
   "source": [
    "%%render\n",
    "Q_ha= 1000 *kN\n",
    "alpha = 30 # Astra 12008 3.6 "
   ]
  },
  {
   "cell_type": "markdown",
   "metadata": {},
   "source": [
    "## Frontale Anprall am Überbauten"
   ]
  },
  {
   "cell_type": "code",
   "execution_count": 26,
   "metadata": {},
   "outputs": [
    {
     "data": {
      "text/latex": [
       "\\[\n",
       "\\begin{aligned}\n",
       "h_{1} &= 5.260 \\; \n",
       "\\\\[10pt]\n",
       "h_{2} &= 5.440 \\; \n",
       "\\\\[10pt]\n",
       "h_{3} &= 5.960 \\; \n",
       "\\\\[10pt]\n",
       "h_{4} &= 6.420 \\; \n",
       "\\\\[10pt]\n",
       "Q_{k1} &= 500 \\cdot \\mathrm{kN} \\cdot \\left( 6 - h_{1} \\right)  = 500 \\cdot kN \\cdot \\left( 6 - 5.260 \\right) &= 370.000\\ \\mathrm{kN}  \n",
       "\\\\[10pt]\n",
       "Q_{k2} &= 500 \\cdot \\mathrm{kN} \\cdot \\left( 6 - h_{2} \\right)  = 500 \\cdot kN \\cdot \\left( 6 - 5.440 \\right) &= 280.000\\ \\mathrm{kN}  \n",
       "\\\\[10pt]\n",
       "Q_{k3} &= 500 \\cdot \\mathrm{kN} \\cdot \\left( 6 - h_{3} \\right)  = 500 \\cdot kN \\cdot \\left( 6 - 5.960 \\right) &= 20.000\\ \\mathrm{kN}  \n",
       "\\\\[10pt]\n",
       "Q_{k4} &= 500 \\cdot \\mathrm{kN} \\cdot \\left( 6 - h_{4} \\right)  = 500 \\cdot kN \\cdot \\left( 6 - 6.420 \\right) &= -210.000\\ \\mathrm{kN}  \n",
       "\\end{aligned}\n",
       "\\]"
      ],
      "text/plain": [
       "<IPython.core.display.Latex object>"
      ]
     },
     "metadata": {},
     "output_type": "display_data"
    }
   ],
   "source": [
    "%%render\n",
    "h_1 = 5.26 \n",
    "h_2 = 5.44 \n",
    "h_3 = 5.96 \n",
    "h_4 = 6.42  \n",
    "Q_k1 = 500 * kN * (6 - h_1)\n",
    "Q_k2 = 500 * kN * (6 - h_2)\n",
    "Q_k3 = 500 * kN * (6 - h_3)\n",
    "Q_k4 = 500 * kN * (6 - h_4)"
   ]
  },
  {
   "cell_type": "markdown",
   "metadata": {},
   "source": [
    "# Erdbeben"
   ]
  },
  {
   "cell_type": "code",
   "execution_count": 27,
   "metadata": {},
   "outputs": [
    {
     "data": {
      "text/latex": [
       "\\[\n",
       "\\begin{aligned}\n",
       "\\mathrm{Erdbebenzone} &= \\mathrm{Z1b} \\; \\;\\textrm{((SIA 261, Anhang F))}\n",
       "\\\\[10pt]\n",
       "\\mathrm{Bauwerksklasse} &= \\mathrm{II} \\; \\;\\textrm{((SIA 261, Tab. 25))}\n",
       "\\\\[10pt]\n",
       "\\mathrm{Baugrundklasse} &= C \\; \\;\\textrm{((SIA 261, Tab. 24))}\n",
       "\\end{aligned}\n",
       "\\]"
      ],
      "text/plain": [
       "<IPython.core.display.Latex object>"
      ]
     },
     "metadata": {},
     "output_type": "display_data"
    }
   ],
   "source": [
    "%%render\n",
    "Erdbebenzone =\"Z1b\" #(SIA 261, Anhang F)\n",
    "Bauwerksklasse =\"II\" #(SIA 261, Tab. 25)\n",
    "Baugrundklasse =\"C\" #(SIA 261, Tab. 24)"
   ]
  },
  {
   "cell_type": "code",
   "execution_count": 28,
   "metadata": {},
   "outputs": [
    {
     "data": {
      "text/latex": [
       "\\[\n",
       "\\begin{aligned}\n",
       "a_{gd} &= 0.800 \\; \n",
       "\\\\[10pt]\n",
       "&\\text{Since, } \\mathrm{Erdbebenzone} \\rightarrow \\left( \\textrm{Z1b} \\right) :   \\\\[10pt]\n",
       "\\\\[10pt]\n",
       "a_{gd} &= 0.800 \\; \n",
       "\\\\[10pt]\n",
       "a_{gd} &= 0.800 \\; \n",
       "\\\\[10pt]\n",
       "a_{gd} &= 0.800 \\; \n",
       "\\\\[10pt]\n",
       "a_{gd} &= 0.800 \\; \n",
       "\\\\[10pt]\n",
       "\\gamma_{F} &= 1.200 \\; \n",
       "\\\\[10pt]\n",
       "&\\text{Since, } \\mathrm{Bauwerksklasse} \\rightarrow \\left( \\textrm{II} \\right) :   \\\\[10pt]\n",
       "\\\\[10pt]\n",
       "\\gamma_{F} &= 1.200 \\; \n",
       "\\\\[10pt]\n",
       "\\gamma_{F} &= 1.200 \\; \n",
       "\\end{aligned}\n",
       "\\]"
      ],
      "text/plain": [
       "<IPython.core.display.Latex object>"
      ]
     },
     "metadata": {},
     "output_type": "display_data"
    }
   ],
   "source": [
    "%%render\n",
    "if Erdbebenzone == \"Z1a\":\n",
    "    a_gd = 0.6\n",
    "elif Erdbebenzone == \"Z1b\":\n",
    "    a_gd = 0.8\n",
    "elif Erdbebenzone == \"Z2\":\n",
    "    a_gd = 1\n",
    "elif Erdbebenzone == \"Z3a\":\n",
    "    a_gd = 1.3\n",
    "elif Erdbebenzone == \"Z3b\":\n",
    "    a_gd = 1.6\n",
    "if Bauwerksklasse == \"I\":\n",
    "    gamma_F = 1\n",
    "elif Bauwerksklasse == \"II\":\n",
    "    gamma_F = 1.2\n",
    "elif Bauwerksklasse == \"III\":\n",
    "    gamma_F = 1.5 "
   ]
  },
  {
   "cell_type": "code",
   "execution_count": 29,
   "metadata": {},
   "outputs": [
    {
     "data": {
      "text/latex": [
       "\\[\n",
       "\\begin{aligned}\n",
       "a_{gd} &= 0.8 \\; \n",
       "\\\\[10pt]\n",
       "S &= 1.4 \\; \n",
       "\\\\[10pt]\n",
       "T_{B} &= 0.1 \\; \n",
       "\\\\[10pt]\n",
       "T_{C} &= 0.4 \\; \n",
       "\\\\[10pt]\n",
       "T_{D} &= 2.0 \\; \n",
       "\\\\[10pt]\n",
       "\\gamma_{F} &= 1.2 \\; \n",
       "\\\\[10pt]\n",
       "c &= 0.8 \\cdot m  = 0.8 \\cdot m &= 800.0\\ \\mathrm{mm}  \n",
       "\\\\[10pt]\n",
       "b &= 2.35 \\cdot m  = 2.35 \\cdot m &= 2.4\\ \\mathrm{m}  \n",
       "\\\\[10pt]\n",
       "I &= \\left( \\frac{ \\pi }{ 64 } \\right) \\cdot c \\cdot \\left( b \\right) ^{ 3 }  = \\left( \\frac{ 3.1 }{ 64 } \\right) \\cdot 800.0\\ \\mathrm{mm} \\cdot \\left( 2.4\\ \\mathrm{m} \\right) ^{ 3 } &= 509639959490.1\\ \\mathrm{mm}^{4}  \n",
       "\\\\[10pt]\n",
       "E &= 35033 \\cdot \\frac{ N }{ \\left( \\mathrm{mm} \\right) ^{ 2 } }  = 35033 \\cdot \\frac{ N }{ \\left( mm \\right) ^{ 2 } } &= 35.0\\ \\mathrm{GPa}  \n",
       "\\\\[10pt]\n",
       "\\mathrm{EI} &= E \\cdot I  = 35.0\\ \\mathrm{GPa} \\cdot 509639959490.1\\ \\mathrm{mm}^{4} &= 17.9\\ \\mathrm{GN} \\cdot \\mathrm{m²}  \n",
       "\\\\[10pt]\n",
       "l &= 5.8 \\cdot m  = 5.8 \\cdot m &= 5.8\\ \\mathrm{m}  \n",
       "\\end{aligned}\n",
       "\\]"
      ],
      "text/plain": [
       "<IPython.core.display.Latex object>"
      ]
     },
     "metadata": {},
     "output_type": "display_data"
    }
   ],
   "source": [
    "%%render 1\n",
    "a_gd\n",
    "S = 1.45\n",
    "T_B = 0.1\n",
    "T_C = 0.4\n",
    "T_D = 2.0\n",
    "gamma_F\n",
    "c = 0.8 * m\n",
    "b = 2.35 * m\n",
    "I = (pi/64) * c * b**3\n",
    "E = 35033 * N/mm**2\n",
    "EI = E * I\n",
    "l = 5.8 * m"
   ]
  },
  {
   "cell_type": "code",
   "execution_count": 30,
   "metadata": {},
   "outputs": [
    {
     "data": {
      "text/latex": [
       "\\[\n",
       "\\begin{aligned}\n",
       "d &= 0.5 \\cdot 25.4 \\cdot \\mathrm{mm}  = 0.5 \\cdot 25.4 \\cdot mm &= 12.700\\ \\mathrm{mm}  \n",
       "\\\\[10pt]\n",
       "A &= \\left( \\frac{ \\left( d \\right) ^{ 2 } }{ 4 } \\right) \\cdot \\pi  = \\left( \\frac{ \\left( 12.700\\ \\mathrm{mm} \\right) ^{ 2 } }{ 4 } \\right) \\cdot 3.142 &= 126.677\\ \\mathrm{mm}^{2}  \n",
       "\\\\[10pt]\n",
       "A_{p} &= A \\cdot 30  = 126.677\\ \\mathrm{mm}^{2} \\cdot 30 &= 3800.306\\ \\mathrm{mm}^{2}  \n",
       "\\\\[10pt]\n",
       "\\mathrm{tot} &= A_{p} \\cdot 4  = 3800.306\\ \\mathrm{mm}^{2} \\cdot 4 &= 15201.224\\ \\mathrm{mm}^{2}  \n",
       "\\end{aligned}\n",
       "\\]"
      ],
      "text/plain": [
       "<IPython.core.display.Latex object>"
      ]
     },
     "metadata": {},
     "output_type": "display_data"
    }
   ],
   "source": [
    "%%render\n",
    "d = 0.5 *25.4 *mm\n",
    "A = (d**2 /4) * pi\n",
    "A_p = A *30\n",
    "tot = A_p *4"
   ]
  },
  {
   "cell_type": "code",
   "execution_count": null,
   "metadata": {},
   "outputs": [],
   "source": []
  }
 ],
 "metadata": {
  "kernelspec": {
   "display_name": "Python 3",
   "language": "python",
   "name": "python3"
  },
  "language_info": {
   "codemirror_mode": {
    "name": "ipython",
    "version": 3
   },
   "file_extension": ".py",
   "mimetype": "text/x-python",
   "name": "python",
   "nbconvert_exporter": "python",
   "pygments_lexer": "ipython3",
   "version": "3.10.10"
  }
 },
 "nbformat": 4,
 "nbformat_minor": 2
}

{
 "cells": [
  {
   "cell_type": "code",
   "execution_count": 7,
   "metadata": {},
   "outputs": [],
   "source": [
    "\n",
    "import numpy as np, scipy, math, handcalcs.render, forallpeople, pandas as pd, csv, os, math\n",
    "from math import sqrt, pi, sin, tan, cos, atan\n",
    "forallpeople.environment('structural', top_level=True)\n",
    "handcalcs.save_config()\n",
    "cm = 10 *mm\n",
    "t = 1000 * kg\n",
    "def cot(x):\n",
    "    cotx = 1/tan(x)\n",
    "    return cotx\n"
   ]
  },
  {
   "cell_type": "code",
   "execution_count": 8,
   "metadata": {},
   "outputs": [
    {
     "data": {
      "text/latex": [
       "\\[\n",
       "\\begin{aligned}\n",
       "E_{s} &= 205.00\\ \\mathrm{GPa} \\; \n",
       " &f_{sd} &= 390.00\\ \\mathrm{MPa} \\; \n",
       " &\\varepsilon_{ud} &= 0.02 \\; \n",
       "\\\\[10pt]\n",
       " A_{su} &= 1328.00\\ \\mathrm{mm}^{2} \\; \n",
       " &A_{so} &= 2853.00\\ \\mathrm{mm}^{2} \\; \n",
       " &A_{sw} &= 628.00\\ \\mathrm{mm}^{2} \\; \n",
       "\\\\[10pt]\n",
       " s &= 200.00\\ \\mathrm{mm} \\; \n",
       " &\\alpha &= 0.44 \\; \n",
       " &E_{p} &= 195.00\\ \\mathrm{GPa} \\; \n",
       "\\\\[10pt]\n",
       " f_{pd} &= 1.39\\ \\mathrm{GPa} \\; \n",
       " &f_{pk} &= 1.86\\ \\mathrm{GPa} \\; \n",
       " &A_{p} &= 10800.00\\ \\mathrm{mm}^{2} \\; \n",
       "\\\\[10pt]\n",
       " P_{inf} &= 10.66\\ \\mathrm{MN} \\; \n",
       " &P_{0} &= 14.06\\ \\mathrm{MN} \\; \n",
       " &E_{cm} &= 30.00\\ \\mathrm{GPa} \\; \n",
       "\\\\[10pt]\n",
       " f_{cd} &= 22.00\\ \\mathrm{MPa} \\; \n",
       " &\\tau_{cd} &= 1.20\\ \\mathrm{MPa} \\; \n",
       " &h &= 870.00\\ \\mathrm{mm} \\; \n",
       "\\\\[10pt]\n",
       " b_{o} &= 5.00\\ \\mathrm{m} \\; \n",
       " &b_{u} &= 2.35\\ \\mathrm{m} \\; \n",
       " &l &= 43.40\\ \\mathrm{m} \\; \n",
       "\\\\[10pt]\n",
       " c_{nom} &= 45.00\\ \\mathrm{mm} \\; \n",
       " &e_{z} &= 105.00\\ \\mathrm{mm} \\; \n",
       " &\\Sigma_{\\phi_{H}} &= 107.00\\ \\mathrm{mm} \\; \n",
       "\\\\[10pt]\n",
       " k_{H} &= 0.80 \\; \n",
       " &b_{wnom} &= 164.40\\ \\mathrm{mm} \\; \n",
       " &k_{c} &= 0.55 \\; \\;\\textrm{(SIA 262 4.2.1.7)}\n",
       "\\\\[10pt]\n",
       " d_{s} &= 825.00\\ \\mathrm{mm} \\; \n",
       " &b_{r} &= 0.00\\ \\mathrm{m} \\; \\;\\textrm{(Lagerbreite)}\n",
       " &d_{k} &= 770.00\\ \\mathrm{mm} \\; \n",
       "\\\\[10pt]\n",
       " t_{k} &= 96.25\\ \\mathrm{mm} \\; \n",
       " &d_{eff} &= 773.75\\ \\mathrm{mm} \\; \n",
       " &b_{eff} &= 2.25\\ \\mathrm{m} \\; \n",
       "\\\\[10pt]\n",
       " A_{k} &= 1.74\\ \\mathrm{m}^{2} \\; \n",
       " &u_{k} &= 6.05\\ \\mathrm{m} \\;\n",
       "\\end{aligned}\n",
       "\\]"
      ],
      "text/plain": [
       "<IPython.core.display.Latex object>"
      ]
     },
     "metadata": {},
     "output_type": "display_data"
    }
   ],
   "source": [
    "%%render params 2\n",
    "E_s = 205000 *N/mm**2\n",
    "f_sd = 390 *N/mm**2\n",
    "varepsilon_ud = 0.02\n",
    "\n",
    "A_su = 1328 * mm**2\n",
    "A_so = 2853 * mm**2\n",
    "A_sw = 628 *mm**2\n",
    "s = 0.2 *m\n",
    "alpha = 25/180 * pi\n",
    "\n",
    "E_p = 195000 *N/mm**2\n",
    "f_pd = 1390 *N/mm**2\n",
    "f_pk = 1860 *N/mm**2\n",
    "A_p = 4 * 2700 * mm**2\n",
    "P_inf = 10660 * kN\n",
    "P_0 = 14060 * kN\n",
    "\n",
    "E_cm = 30000 * N/mm**2\n",
    "f_cd = 22 * N/mm**2\n",
    "tau_cd = 1.2   *N/mm**2\n",
    "\n",
    "h = 0.87*m\n",
    "b_o = 5 *m\n",
    "b_u = 2.35 *m\n",
    "l = 43.4 * m\n",
    "c_nom = 45*mm\n",
    "e_z = 105 *mm\n",
    "\n",
    "\n",
    "\n",
    "\n",
    "Sigma_phi_H = 107 * mm \n",
    "k_H = 0.8\n",
    "b_wnom = (0.25 * m) - k_H * Sigma_phi_H\n",
    "k_c = 0.55 # SIA 262 4.2.1.7\n",
    "\n",
    "d_s = (h - c_nom) \n",
    "\n",
    "b_r = 0 * mm # Lagerbreite\n",
    "\n",
    "d_k = h - 2*c_nom - 10*mm\n",
    "t_k = d_k/8\n",
    "d_eff = h - t_k\n",
    "b_eff = b_u - t_k\n",
    "A_k = (h-t_k) * (b_u- t_k)\n",
    "u_k = 2*b_eff + 2*d_eff"
   ]
  },
  {
   "cell_type": "code",
   "execution_count": 9,
   "metadata": {},
   "outputs": [
    {
     "data": {
      "text/latex": [
       "\\[\n",
       "\\begin{aligned}\n",
       "V_{z} &= 2257.68 \\cdot \\mathrm{kN}  = 2257.68 \\cdot kN &= 2.25768\\ \\mathrm{MN}  \n",
       "\\\\[10pt]\n",
       "T_{x} &= 1065.76 \\cdot \\mathrm{kN} \\cdot m  = 1065.76 \\cdot kN \\cdot m &= 1.06576\\ \\mathrm{MN} \\cdot \\mathrm{m}  \n",
       "\\\\[10pt]\n",
       "z &= 0.48 \\cdot m  = 0.48 \\cdot m &= 480.00000\\ \\mathrm{mm}  \n",
       "\\\\[10pt]\n",
       "L_{hebel} &= 1.35 \\cdot m  = 1.35 \\cdot m &= 1.35000\\ \\mathrm{m}  \n",
       "\\\\[10pt]\n",
       "A_{s} &= 78.54 \\cdot \\left( \\mathrm{mm} \\right) ^{ 2 }  = 78.54 \\cdot \\left( mm \\right) ^{ 2 } &= 78.54000\\ \\mathrm{mm}^{2}  \n",
       "\\\\[10pt]\n",
       "s &= 200 \\cdot \\mathrm{mm}  = 200 \\cdot mm &= 200.00000\\ \\mathrm{mm}  \n",
       "\\\\[10pt]\n",
       "b &= 0.238 \\cdot m  = 0.238 \\cdot m &= 238.00000\\ \\mathrm{mm}  \n",
       "\\\\[10pt]\n",
       "h &= 0.75 \\cdot m  = 0.75 \\cdot m &= 750.00000\\ \\mathrm{mm}  \n",
       "\\end{aligned}\n",
       "\\]"
      ],
      "text/plain": [
       "<IPython.core.display.Latex object>"
      ]
     },
     "metadata": {},
     "output_type": "display_data"
    }
   ],
   "source": [
    "%%render 5\n",
    "\n",
    "V_z = 2257.68\t    *kN\n",
    "T_x = 1065.76 *kN*m\n",
    "z = 0.48 *m\n",
    "\n",
    "L_hebel = 1.35 *m\n",
    "A_s = 78.54 *mm**2\n",
    "s = 200 *mm\n",
    "b = 0.238 * m\n",
    "h = 0.75 *m\n"
   ]
  },
  {
   "cell_type": "code",
   "execution_count": 10,
   "metadata": {},
   "outputs": [
    {
     "data": {
      "text/latex": [
       "\\[\n",
       "\\begin{aligned}\n",
       "R &= V_{z} + \\frac{ T_{x} }{ L_{hebel} }  = 2.25768\\ \\mathrm{MN} + \\frac{ 1.06576\\ \\mathrm{MN} \\cdot \\mathrm{m} }{ 1.35000\\ \\mathrm{m} } &= 3.04713\\ \\mathrm{MN}  \n",
       "\\\\[10pt]\n",
       "n_{erf} &= \\frac{ 0.5 \\cdot R \\cdot \\left( \\frac{ b }{ h } \\right) }{ A_{s} \\cdot f_{sd} }  = \\frac{ 0.5 \\cdot 3.04713\\ \\mathrm{MN} \\cdot \\left( \\frac{ 238.00000\\ \\mathrm{mm} }{ 750.00000\\ \\mathrm{mm} } \\right) }{ 78.54000\\ \\mathrm{mm}^{2} \\cdot 390.00000\\ \\mathrm{MPa} } &= 15.78416  \n",
       "\\\\[10pt]\n",
       "n_{mitwirk} &= \\frac{ z \\cdot \\operatorname{cot} \\left( \\alpha \\right) }{ s } + 1  = \\frac{ 480.00000\\ \\mathrm{mm} \\cdot \\operatorname{cot} \\left( 0.43633 \\right) }{ 200.00000\\ \\mathrm{mm} } + 1 &= 6.14682  \n",
       "\\end{aligned}\n",
       "\\]"
      ],
      "text/plain": [
       "<IPython.core.display.Latex object>"
      ]
     },
     "metadata": {},
     "output_type": "display_data"
    }
   ],
   "source": [
    "%%render 5  \n",
    "R = V_z + T_x/ L_hebel \n",
    "n_erf = (0.5* R * (b/h))/ (A_s * f_sd)\n",
    "n_mitwirk = (z * cot(alpha))/ s  +1"
   ]
  },
  {
   "cell_type": "code",
   "execution_count": 11,
   "metadata": {},
   "outputs": [],
   "source": [
    "if (n_mitwirk- round(n_mitwirk)) > 0.5:\n",
    "    n_mitwirk =round(n_mitwirk)-1\n",
    "\n",
    "else:\n",
    "    n_mitwirk =round(n_mitwirk)\n",
    "\n",
    "if (n_erf - round(n_erf)) > 0.5:\n",
    "    n_erf = round(n_erf) - 1\n",
    "else:\n",
    "    n_erf = round(n_erf)"
   ]
  },
  {
   "cell_type": "code",
   "execution_count": 12,
   "metadata": {},
   "outputs": [
    {
     "data": {
      "text/latex": [
       "\\[\n",
       "\\begin{aligned}\n",
       "n &= \\frac{ n_{mitwirk} }{ n_{erf} }  = \\frac{ 6 }{ 16 } &= 0.375  \n",
       "\\end{aligned}\n",
       "\\]"
      ],
      "text/plain": [
       "<IPython.core.display.Latex object>"
      ]
     },
     "metadata": {},
     "output_type": "display_data"
    }
   ],
   "source": [
    "%%render\n",
    "n =  n_mitwirk/n_erf"
   ]
  }
 ],
 "metadata": {
  "kernelspec": {
   "display_name": "Python 3",
   "language": "python",
   "name": "python3"
  },
  "language_info": {
   "codemirror_mode": {
    "name": "ipython",
    "version": 3
   },
   "file_extension": ".py",
   "mimetype": "text/x-python",
   "name": "python",
   "nbconvert_exporter": "python",
   "pygments_lexer": "ipython3",
   "version": "3.10.10"
  }
 },
 "nbformat": 4,
 "nbformat_minor": 2
}

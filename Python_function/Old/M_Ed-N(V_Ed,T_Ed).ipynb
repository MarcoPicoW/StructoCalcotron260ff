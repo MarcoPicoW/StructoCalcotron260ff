{
 "cells": [
  {
   "cell_type": "code",
   "execution_count": 7,
   "metadata": {},
   "outputs": [],
   "source": [
    "import numpy, scipy, math, handcalcs.render, forallpeople\n",
    "from math import sqrt, pi, sin, tan, cos\n",
    "forallpeople.environment('structural', top_level=True)\n",
    "handcalcs.save_config()\n",
    "cm = 10 *mm\n",
    "t = 1000 * kg\n",
    "def cot(x):\n",
    "    cotx = 1/tan(x)\n",
    "    return cotx"
   ]
  },
  {
   "cell_type": "code",
   "execution_count": 8,
   "metadata": {},
   "outputs": [
    {
     "data": {
      "text/latex": [
       "\n",
       "\\begin{align*}\n",
       "M_{yEd} &= -4.34\\ \\mathrm{MN} \\cdot \\mathrm{m} \\; \n",
       " &N_{Rd} &= 652.00\\ \\mathrm{kN} \\; \n",
       " &V_{Ed} &= 1.99\\ \\mathrm{MN} \\; \n",
       " &T_{Ed} &= 648.00\\ \\mathrm{kN} \\cdot \\mathrm{m} \\; \n",
       "\\\\[10pt]\n",
       "\\end{align*}\n"
      ],
      "text/plain": [
       "<IPython.core.display.Latex object>"
      ]
     },
     "metadata": {},
     "output_type": "display_data"
    }
   ],
   "source": [
    "%%render params 2\n",
    "M_yEd = -4341 *kN*m\n",
    "N_Rd = 652 *kN\n",
    "V_Ed = 1994 *kN\n",
    "T_Ed = 648 *kN*m"
   ]
  },
  {
   "cell_type": "code",
   "execution_count": 9,
   "metadata": {},
   "outputs": [],
   "source": [
    "E_s = 205000 *N/mm**2\n",
    "f_sd = 390 *N/mm**2\n",
    "varepsilon_ud = 0.02\n",
    "\n",
    "E_p = 195000 *N/mm**2\n",
    "f_pd = 1390 *N/mm**2\n",
    "f_pk = 1860 *N/mm**2\n",
    "A_p = 4 * 2700 * mm**2\n",
    "P_inf = 10660 * kN\n",
    "\n",
    "E_cm = 30000 * N/mm**2\n",
    "f_cd = 22 * N/mm**2\n",
    "tau_cd = 1.2   *N/mm**2\n",
    "\n",
    "h = 0.87*m\n",
    "b_o = 5 *m\n",
    "b_u = 2.35 *m\n",
    "c_nom = 45*mm\n",
    "\n",
    "\n",
    "A_sw = 628 *mm**2\n",
    "s = 0.2 *m\n",
    "alpha = 25/180 * pi\n",
    "\n",
    "Sigma_phi_H = 107 * mm * 4\n",
    "k_H = 0.8\n",
    "b_wnom = b_u - k_H * Sigma_phi_H   \n",
    "k_c = 0.55 # SIA 262 4.2.1.7\n",
    "\n",
    "d_p = (h - 0.23 * m) \n",
    "beta_p = 0.8/180* pi\n",
    "\n",
    "z = 0.49 * m #aus fagus\n",
    "z_sup = 0.36 * m\n",
    "z_inf = 0.51 * m\n",
    "\n",
    "b_r = 0 * mm # Lagerbreite\n",
    "abstand = z * (cot(alpha))\n",
    "d_k = h - 2*c_nom - 10*mm\n",
    "t_k = d_k/8\n",
    "d_eff = h - t_k\n",
    "b_eff = b_u - t_k\n",
    "A_k = d_eff * b_eff\n",
    "u_k = 2*b_eff + 2*d_eff"
   ]
  },
  {
   "cell_type": "code",
   "execution_count": 10,
   "metadata": {},
   "outputs": [
    {
     "data": {
      "text/latex": [
       "\n",
       "\\begin{align}\n",
       "F_{tdVz} &= V_{Ed} \\cdot \\frac{ \\operatorname{cot} \\left( \\alpha \\right) }{ 2 }  = 1.994\\ \\mathrm{MN} \\cdot \\frac{ \\operatorname{cot} \\left( 0.436 \\right) }{ 2 } &= 2.138\\ \\mathrm{MN}  \n",
       "\\\\[10pt]\n",
       "F_{TdTx} &= \\frac{ T_{Ed} }{ 2 \\cdot A_{k} } \\cdot u_{k} \\cdot \\operatorname{cot} \\left( \\alpha \\right)  = \\frac{ 648.000\\ \\mathrm{kN} \\cdot \\mathrm{m} }{ 2 \\cdot 1.744\\ \\mathrm{m}^{2} } \\cdot 6.055\\ \\mathrm{m} \\cdot \\operatorname{cot} \\left( 0.436 \\right) &= 2.413\\ \\mathrm{MN}  \n",
       "\\\\[10pt]\n",
       "N_{eff} &= N_{Rd} + F_{TdTx}  = 652.000\\ \\mathrm{kN} + 2.413\\ \\mathrm{MN} &= 3.065\\ \\mathrm{MN}  \n",
       "\\\\[10pt]\n",
       "M_{eff} &= M_{yEd} - F_{tdVz} \\cdot z  = -4.341\\ \\mathrm{MN} \\cdot \\mathrm{m} - 2.138\\ \\mathrm{MN} \\cdot 490.000\\ \\mathrm{mm} &= -5.389\\ \\mathrm{MN} \\cdot \\mathrm{m}  \n",
       "\\end{align}\n"
      ],
      "text/plain": [
       "<IPython.core.display.Latex object>"
      ]
     },
     "metadata": {},
     "output_type": "display_data"
    }
   ],
   "source": [
    "%%render\n",
    "F_tdVz = V_Ed * cot(alpha) /2\n",
    "F_TdTx = T_Ed/(2* A_k) * u_k * cot(alpha)\n",
    "N_eff = N_Rd + F_TdTx\n",
    "M_eff = M_yEd - F_tdVz * z"
   ]
  },
  {
   "cell_type": "code",
   "execution_count": 11,
   "metadata": {},
   "outputs": [
    {
     "data": {
      "text/latex": [
       "\n",
       "\\begin{align*}\n",
       "M_{yEd} &= 8.14\\ \\mathrm{MN} \\cdot \\mathrm{m} \\; \n",
       " &N_{Rd} &= 652.00\\ \\mathrm{kN} \\; \n",
       " &V_{Ed} &= 0.00\\ \\mathrm{N} \\; \n",
       " &T_{Ed} &= 648.00\\ \\mathrm{kN} \\cdot \\mathrm{m} \\; \n",
       "\\\\[10pt]\n",
       "\\end{align*}\n"
      ],
      "text/plain": [
       "<IPython.core.display.Latex object>"
      ]
     },
     "metadata": {},
     "output_type": "display_data"
    }
   ],
   "source": [
    "%%render params 2\n",
    "M_yEd = 8142 *kN*m\n",
    "N_Rd = 652 *kN\n",
    "V_Ed = 0 *kN\n",
    "T_Ed = 648 *kN*m"
   ]
  },
  {
   "cell_type": "code",
   "execution_count": 12,
   "metadata": {},
   "outputs": [
    {
     "data": {
      "text/latex": [
       "\n",
       "\\begin{align}\n",
       "F_{tdVz} &= V_{Ed} \\cdot \\frac{ \\operatorname{cot} \\left( \\alpha \\right) }{ 2 }  = 0.000\\ \\mathrm{N} \\cdot \\frac{ \\operatorname{cot} \\left( 0.436 \\right) }{ 2 } &= 0.000\\ \\mathrm{N}  \n",
       "\\\\[10pt]\n",
       "F_{TdTx} &= \\frac{ T_{Ed} }{ 2 \\cdot A_{k} } \\cdot u_{k} \\cdot \\operatorname{cot} \\left( \\alpha \\right)  = \\frac{ 648.000\\ \\mathrm{kN} \\cdot \\mathrm{m} }{ 2 \\cdot 1.744\\ \\mathrm{m}^{2} } \\cdot 6.055\\ \\mathrm{m} \\cdot \\operatorname{cot} \\left( 0.436 \\right) &= 2.413\\ \\mathrm{MN}  \n",
       "\\\\[10pt]\n",
       "N_{eff} &= N_{Rd} + F_{TdTx}  = 652.000\\ \\mathrm{kN} + 2.413\\ \\mathrm{MN} &= 3.065\\ \\mathrm{MN}  \n",
       "\\\\[10pt]\n",
       "M_{eff} &= M_{yEd} + F_{tdVz} \\cdot z  = 8.142\\ \\mathrm{MN} \\cdot \\mathrm{m} + 0.000\\ \\mathrm{N} \\cdot 490.000\\ \\mathrm{mm} &= 8.142\\ \\mathrm{MN} \\cdot \\mathrm{m}  \n",
       "\\end{align}\n"
      ],
      "text/plain": [
       "<IPython.core.display.Latex object>"
      ]
     },
     "metadata": {},
     "output_type": "display_data"
    }
   ],
   "source": [
    "%%render\n",
    "F_tdVz = V_Ed * cot(alpha) /2\n",
    "F_TdTx = T_Ed/(2* A_k) * u_k * cot(alpha)\n",
    "N_eff = N_Rd + F_TdTx\n",
    "M_eff = M_yEd + F_tdVz * z"
   ]
  }
 ],
 "metadata": {
  "kernelspec": {
   "display_name": "Python 3",
   "language": "python",
   "name": "python3"
  },
  "language_info": {
   "codemirror_mode": {
    "name": "ipython",
    "version": 3
   },
   "file_extension": ".py",
   "mimetype": "text/x-python",
   "name": "python",
   "nbconvert_exporter": "python",
   "pygments_lexer": "ipython3",
   "version": "3.11.9"
  }
 },
 "nbformat": 4,
 "nbformat_minor": 2
}

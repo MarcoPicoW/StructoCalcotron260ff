{
 "cells": [
  {
   "cell_type": "code",
   "execution_count": 30,
   "metadata": {},
   "outputs": [],
   "source": [
    "import numpy as np, scipy, math, handcalcs.render, forallpeople, pandas as pd, csv, os, math\n",
    "from math import sqrt, pi, sin, tan, cos, atan\n",
    "forallpeople.environment('structural', top_level=True)\n",
    "handcalcs.save_config()\n",
    "cm = 10 *mm\n",
    "t = 1000 * kg\n",
    "def cot(x):\n",
    "    cotx = 1/tan(x)\n",
    "    return cotx"
   ]
  },
  {
   "cell_type": "code",
   "execution_count": 31,
   "metadata": {},
   "outputs": [
    {
     "data": {
      "text/latex": [
       "\\[\n",
       "\\begin{aligned}\n",
       "G &= 1408.3 \\cdot \\mathrm{kN}  = 1408.3 \\cdot kN &= 1.408\\ \\mathrm{MN}  \n",
       "\\\\[10pt]\n",
       "\\mathrm{gli} &= 1718.1 \\cdot \\mathrm{kN}  = 1718.1 \\cdot kN &= 1.718\\ \\mathrm{MN}  \n",
       "\\\\[10pt]\n",
       "h &= 6.75 \\cdot m  = 6.75 \\cdot m &= 6.750\\ \\mathrm{m}  \n",
       "\\\\[10pt]\n",
       "\\mathrm{lx} &= 5.2 \\cdot m  = 5.2 \\cdot m &= 5.200\\ \\mathrm{m}  \n",
       "\\\\[10pt]\n",
       "\\mathrm{ly} &= 5.9 \\cdot m  = 5.9 \\cdot m &= 5.900\\ \\mathrm{m}  \n",
       "\\\\[10pt]\n",
       "\\mathrm{Fzd} &= 805.5 \\cdot \\mathrm{kN}  = 805.5 \\cdot kN &= 805.500\\ \\mathrm{kN}  \n",
       "\\\\[10pt]\n",
       "\\mathrm{Rz} &= G + \\mathrm{gli} + \\mathrm{Fzd}  = 1.408\\ \\mathrm{MN} + 1.718\\ \\mathrm{MN} + 805.500\\ \\mathrm{kN} &= 3.932\\ \\mathrm{MN}  \n",
       "\\end{aligned}\n",
       "\\]"
      ],
      "text/plain": [
       "<IPython.core.display.Latex object>"
      ]
     },
     "metadata": {},
     "output_type": "display_data"
    }
   ],
   "source": [
    "%%render \n",
    "G = 1408.3 *kN\n",
    "gli = 1718.1 *kN \n",
    "h = 6.75 *m\n",
    "lx = 5.2* m\n",
    "ly = 5.9 *m\n",
    "Fzd = 805.5*kN\n",
    "\n",
    "Rz = G+gli+Fzd"
   ]
  },
  {
   "cell_type": "code",
   "execution_count": 32,
   "metadata": {},
   "outputs": [
    {
     "data": {
      "text/latex": [
       "\\[\n",
       "\\begin{aligned}\n",
       "\\mathrm{Fx} &= 985.6 \\cdot \\mathrm{kN}  = 985.6 \\cdot kN &= 985.600\\ \\mathrm{kN}  \n",
       "\\\\[10pt]\n",
       "\\mathrm{Fy} &= 0 \\cdot \\mathrm{kN}  = 0 \\cdot kN &= 0.000\\ \\mathrm{N}  \n",
       "\\\\[10pt]\n",
       "\\mathrm{eFzx} &= 1.75 \\cdot m  = 1.75 \\cdot m &= 1.750\\ \\mathrm{m}  \n",
       "\\\\[10pt]\n",
       "\\mathrm{eFzy} &= 2.95 \\cdot m  = 2.95 \\cdot m &= 2.950\\ \\mathrm{m}  \n",
       "\\\\[10pt]\n",
       "\\mathrm{erx} &= \\frac{ \\left( G \\cdot \\frac{ \\mathrm{lx} }{ 2 } \\right) + \\left( \\mathrm{gli} \\cdot \\frac{ \\mathrm{lx} }{ 2 } \\right) + \\left( \\mathrm{Fzd} \\cdot \\mathrm{eFzx} \\right) - \\left( \\mathrm{Fx} \\cdot h \\right) }{ \\mathrm{Rz} }  = \\frac{ \\left( 1.408\\ \\mathrm{MN} \\cdot \\frac{ 5.200\\ \\mathrm{m} }{ 2 } \\right) + \\left( 1.718\\ \\mathrm{MN} \\cdot \\frac{ 5.200\\ \\mathrm{m} }{ 2 } \\right) + \\left( 805.500\\ \\mathrm{kN} \\cdot 1.750\\ \\mathrm{m} \\right) - \\left( 985.600\\ \\mathrm{kN} \\cdot 6.750\\ \\mathrm{m} \\right) }{ 3.932\\ \\mathrm{MN} } &= 733.860\\ \\mathrm{mm}  \n",
       "\\\\[10pt]\n",
       "\\mathrm{ex} &= \\left( \\frac{ \\mathrm{lx} }{ 2 } \\right) - \\mathrm{erx}  = \\left( \\frac{ 5.200\\ \\mathrm{m} }{ 2 } \\right) - 733.860\\ \\mathrm{mm} &= 1.866\\ \\mathrm{m}  \n",
       "\\\\[10pt]\n",
       "\\mathrm{ery} &= \\frac{ \\left( G \\cdot \\frac{ \\mathrm{ly} }{ 2 } \\right) + \\left( \\mathrm{gli} \\cdot \\frac{ \\mathrm{ly} }{ 2 } \\right) + \\left( \\mathrm{Fzd} \\cdot \\mathrm{eFzy} \\right) - \\left( \\mathrm{Fy} \\cdot h \\right) }{ \\mathrm{Rz} }  = \\frac{ \\left( 1.408\\ \\mathrm{MN} \\cdot \\frac{ 5.900\\ \\mathrm{m} }{ 2 } \\right) + \\left( 1.718\\ \\mathrm{MN} \\cdot \\frac{ 5.900\\ \\mathrm{m} }{ 2 } \\right) + \\left( 805.500\\ \\mathrm{kN} \\cdot 2.950\\ \\mathrm{m} \\right) - \\left( 0.000\\ \\mathrm{N} \\cdot 6.750\\ \\mathrm{m} \\right) }{ 3.932\\ \\mathrm{MN} } &= 2.950\\ \\mathrm{m}  \n",
       "\\\\[10pt]\n",
       "\\mathrm{ey} &= \\left( \\frac{ \\mathrm{ly} }{ 2 } \\right) - \\mathrm{ery}  = \\left( \\frac{ 5.900\\ \\mathrm{m} }{ 2 } \\right) - 2.950\\ \\mathrm{m} &= 0.000\\ \\mathrm{m}  \n",
       "\\end{aligned}\n",
       "\\]"
      ],
      "text/plain": [
       "<IPython.core.display.Latex object>"
      ]
     },
     "metadata": {},
     "output_type": "display_data"
    }
   ],
   "source": [
    "%%render short\n",
    "Fx =  985.6*kN\n",
    "Fy =  0*kN\n",
    "eFzx= 1.75 * m\n",
    "eFzy = 2.95*m\n",
    "erx = ((G*lx/2)+(gli*lx/2)+(Fzd * eFzx) - (Fx * h))/ Rz\n",
    "ex = (lx/2)-erx\n",
    "ery = ((G*ly/2)+(gli*ly/2)+(Fzd * eFzy) - (Fy * h))/ Rz\n",
    "ey = (ly/2)-ery"
   ]
  },
  {
   "cell_type": "code",
   "execution_count": 33,
   "metadata": {},
   "outputs": [
    {
     "data": {
      "text/latex": [
       "\\[\n",
       "\\begin{aligned}\n",
       "\\mathrm{Fx} &= 0 \\cdot \\mathrm{kN}  = 0 \\cdot kN &= 0.000\\ \\mathrm{N}  \n",
       "\\\\[10pt]\n",
       "\\mathrm{Fy} &= 492.8 \\cdot \\mathrm{kN}  = 492.8 \\cdot kN &= 492.800\\ \\mathrm{kN}  \n",
       "\\\\[10pt]\n",
       "\\mathrm{eFzx} &= 1.75 \\cdot m  = 1.75 \\cdot m &= 1.750\\ \\mathrm{m}  \n",
       "\\\\[10pt]\n",
       "\\mathrm{eFzy} &= 2.95 \\cdot m  = 2.95 \\cdot m &= 2.950\\ \\mathrm{m}  \n",
       "\\\\[10pt]\n",
       "\\mathrm{erx} &= \\frac{ \\left( G \\cdot \\frac{ \\mathrm{lx} }{ 2 } \\right) + \\left( \\mathrm{gli} \\cdot \\frac{ \\mathrm{lx} }{ 2 } \\right) + \\left( \\mathrm{Fzd} \\cdot \\mathrm{eFzx} \\right) - \\left( \\mathrm{Fx} \\cdot h \\right) }{ \\mathrm{Rz} } \\\\&= \\frac{ \\left( 1.408\\ \\mathrm{MN} \\cdot \\frac{ 5.200\\ \\mathrm{m} }{ 2 } \\right) + \\left( 1.718\\ \\mathrm{MN} \\cdot \\frac{ 5.200\\ \\mathrm{m} }{ 2 } \\right) + \\left( 805.500\\ \\mathrm{kN} \\cdot 1.750\\ \\mathrm{m} \\right) - \\left( 0.000\\ \\mathrm{N} \\cdot 6.750\\ \\mathrm{m} \\right) }{ 3.932\\ \\mathrm{MN} } \\\\&= 2.426\\ \\mathrm{m}  \\\\[10pt]\n",
       "\\\\[10pt]\n",
       "\\mathrm{ex} &= \\left( \\frac{ \\mathrm{lx} }{ 2 } \\right) - \\mathrm{erx}  = \\left( \\frac{ 5.200\\ \\mathrm{m} }{ 2 } \\right) - 2.426\\ \\mathrm{m} &= 174.133\\ \\mathrm{mm}  \n",
       "\\\\[10pt]\n",
       "\\mathrm{ery} &= \\frac{ \\left( G \\cdot \\frac{ \\mathrm{ly} }{ 2 } \\right) + \\left( \\mathrm{gli} \\cdot \\frac{ \\mathrm{ly} }{ 2 } \\right) + \\left( \\mathrm{Fzd} \\cdot \\mathrm{eFzy} \\right) - \\left( \\mathrm{Fy} \\cdot h \\right) }{ \\mathrm{Rz} } \\\\&= \\frac{ \\left( 1.408\\ \\mathrm{MN} \\cdot \\frac{ 5.900\\ \\mathrm{m} }{ 2 } \\right) + \\left( 1.718\\ \\mathrm{MN} \\cdot \\frac{ 5.900\\ \\mathrm{m} }{ 2 } \\right) + \\left( 805.500\\ \\mathrm{kN} \\cdot 2.950\\ \\mathrm{m} \\right) - \\left( 492.800\\ \\mathrm{kN} \\cdot 6.750\\ \\mathrm{m} \\right) }{ 3.932\\ \\mathrm{MN} } \\\\&= 2.104\\ \\mathrm{m}  \\\\[10pt]\n",
       "\\\\[10pt]\n",
       "\\mathrm{ey} &= \\left( \\frac{ \\mathrm{ly} }{ 2 } \\right) - \\mathrm{ery}  = \\left( \\frac{ 5.900\\ \\mathrm{m} }{ 2 } \\right) - 2.104\\ \\mathrm{m} &= 846.003\\ \\mathrm{mm}  \n",
       "\\end{aligned}\n",
       "\\]"
      ],
      "text/plain": [
       "<IPython.core.display.Latex object>"
      ]
     },
     "metadata": {},
     "output_type": "display_data"
    }
   ],
   "source": [
    "%%render\n",
    "Fx =  0*kN\n",
    "Fy =  492.8*kN\n",
    "eFzx= 1.75 * m\n",
    "eFzy = 2.95*m\n",
    "erx = ((G*lx/2)+(gli*lx/2)+(Fzd * eFzx) - (Fx * h))/ Rz\n",
    "ex = (lx/2)-erx\n",
    "ery = ((G*ly/2)+(gli*ly/2)+(Fzd * eFzy) - (Fy * h))/ Rz\n",
    "ey = (ly/2)-ery"
   ]
  },
  {
   "cell_type": "code",
   "execution_count": 34,
   "metadata": {},
   "outputs": [
    {
     "data": {
      "text/latex": [
       "\\[\n",
       "\\begin{aligned}\n",
       "\\mathrm{Fx} &= 985.6 \\cdot \\mathrm{kN}  = 985.6 \\cdot kN &= 985.60\\ \\mathrm{kN}  \n",
       "\\\\[10pt]\n",
       "\\mathrm{Fy} &= 147.8 \\cdot \\mathrm{kN}  = 147.8 \\cdot kN &= 147.80\\ \\mathrm{kN}  \n",
       "\\\\[10pt]\n",
       "\\mathrm{eFzx} &= 1.75 \\cdot m  = 1.75 \\cdot m &= 1.75\\ \\mathrm{m}  \n",
       "\\\\[10pt]\n",
       "\\mathrm{eFzy} &= 2.95 \\cdot m  = 2.95 \\cdot m &= 2.95\\ \\mathrm{m}  \n",
       "\\\\[10pt]\n",
       "\\mathrm{erx} &= \\frac{ \\left( G \\cdot \\frac{ \\mathrm{lx} }{ 2 } \\right) + \\left( \\mathrm{gli} \\cdot \\frac{ \\mathrm{lx} }{ 2 } \\right) + \\left( \\mathrm{Fzd} \\cdot \\mathrm{eFzx} \\right) - \\left( \\mathrm{Fx} \\cdot h \\right) }{ \\mathrm{Rz} }  = \\frac{ \\left( 1.41\\ \\mathrm{MN} \\cdot \\frac{ 5.20\\ \\mathrm{m} }{ 2 } \\right) + \\left( 1.72\\ \\mathrm{MN} \\cdot \\frac{ 5.20\\ \\mathrm{m} }{ 2 } \\right) + \\left( 805.50\\ \\mathrm{kN} \\cdot 1.75\\ \\mathrm{m} \\right) - \\left( 985.60\\ \\mathrm{kN} \\cdot 6.75\\ \\mathrm{m} \\right) }{ 3.93\\ \\mathrm{MN} } &= 733.86\\ \\mathrm{mm}  \n",
       "\\\\[10pt]\n",
       "\\mathrm{ex} &= \\left( \\frac{ \\mathrm{lx} }{ 2 } \\right) - \\mathrm{erx}  = \\left( \\frac{ 5.20\\ \\mathrm{m} }{ 2 } \\right) - 733.86\\ \\mathrm{mm} &= 1.87\\ \\mathrm{m}  \n",
       "\\\\[10pt]\n",
       "\\mathrm{ery} &= \\frac{ \\left( G \\cdot \\frac{ \\mathrm{ly} }{ 2 } \\right) + \\left( \\mathrm{gli} \\cdot \\frac{ \\mathrm{ly} }{ 2 } \\right) + \\left( \\mathrm{Fzd} \\cdot \\mathrm{eFzy} \\right) - \\left( \\mathrm{Fy} \\cdot h \\right) }{ \\mathrm{Rz} }  = \\frac{ \\left( 1.41\\ \\mathrm{MN} \\cdot \\frac{ 5.90\\ \\mathrm{m} }{ 2 } \\right) + \\left( 1.72\\ \\mathrm{MN} \\cdot \\frac{ 5.90\\ \\mathrm{m} }{ 2 } \\right) + \\left( 805.50\\ \\mathrm{kN} \\cdot 2.95\\ \\mathrm{m} \\right) - \\left( 147.80\\ \\mathrm{kN} \\cdot 6.75\\ \\mathrm{m} \\right) }{ 3.93\\ \\mathrm{MN} } &= 2.70\\ \\mathrm{m}  \n",
       "\\\\[10pt]\n",
       "\\mathrm{ey} &= \\left( \\frac{ \\mathrm{ly} }{ 2 } \\right) - \\mathrm{ery}  = \\left( \\frac{ 5.90\\ \\mathrm{m} }{ 2 } \\right) - 2.70\\ \\mathrm{m} &= 253.73\\ \\mathrm{mm}  \n",
       "\\\\[10pt]\n",
       "\\mathrm{ed} &= \\left( \\frac{ \\mathrm{ex} }{ \\mathrm{lx} } \\right) ^{ 2 } + \\left( \\frac{ \\mathrm{ey} }{ \\mathrm{ly} } \\right) ^{ 2 }  = \\left( \\frac{ 1.87\\ \\mathrm{m} }{ 5.20\\ \\mathrm{m} } \\right) ^{ 2 } + \\left( \\frac{ 253.73\\ \\mathrm{mm} }{ 5.90\\ \\mathrm{m} } \\right) ^{ 2 } &= 0.13  \n",
       "\\\\[10pt]\n",
       "\\mathrm{ok} &= \\mathrm{ed} \\lt \\frac{ 1 }{ 9 }  = 0.13 \\lt \\frac{ 1 }{ 9 } &= False  \n",
       "\\end{aligned}\n",
       "\\]"
      ],
      "text/plain": [
       "<IPython.core.display.Latex object>"
      ]
     },
     "metadata": {},
     "output_type": "display_data"
    }
   ],
   "source": [
    "%%render short 2\n",
    "Fx =  985.6   *kN\n",
    "Fy =  147.8   *kN\n",
    "eFzx= 1.75 * m\n",
    "eFzy = 2.95*m\n",
    "erx = ((G*lx/2)+(gli*lx/2)+(Fzd * eFzx) - (Fx * h))/ Rz\n",
    "ex = (lx/2)-erx\n",
    "ery = ((G*ly/2)+(gli*ly/2)+(Fzd * eFzy) - (Fy * h))/ Rz\n",
    "ey = (ly/2)-ery\n",
    "ed = (ex/lx)**2 + (ey/ly)**2\n",
    "ok = ed< 1/9"
   ]
  },
  {
   "cell_type": "code",
   "execution_count": 35,
   "metadata": {},
   "outputs": [
    {
     "data": {
      "text/latex": [
       "\\[\n",
       "\\begin{aligned}\n",
       "\\mathrm{Fx} &= 295.7 \\cdot \\mathrm{kN}  = 295.7 \\cdot kN &= 295.70\\ \\mathrm{kN}  \n",
       "\\\\[10pt]\n",
       "\\mathrm{Fy} &= 492.8 \\cdot \\mathrm{kN}  = 492.8 \\cdot kN &= 492.80\\ \\mathrm{kN}  \n",
       "\\\\[10pt]\n",
       "\\mathrm{eFzx} &= 1.75 \\cdot m  = 1.75 \\cdot m &= 1.75\\ \\mathrm{m}  \n",
       "\\\\[10pt]\n",
       "\\mathrm{eFzy} &= 2.95 \\cdot m  = 2.95 \\cdot m &= 2.95\\ \\mathrm{m}  \n",
       "\\\\[10pt]\n",
       "\\mathrm{erx} &= \\frac{ \\left( G \\cdot \\frac{ \\mathrm{lx} }{ 2 } \\right) + \\left( \\mathrm{gli} \\cdot \\frac{ \\mathrm{lx} }{ 2 } \\right) + \\left( \\mathrm{Fzd} \\cdot \\mathrm{eFzx} \\right) - \\left( \\mathrm{Fx} \\cdot h \\right) }{ \\mathrm{Rz} }  = \\frac{ \\left( 1.41\\ \\mathrm{MN} \\cdot \\frac{ 5.20\\ \\mathrm{m} }{ 2 } \\right) + \\left( 1.72\\ \\mathrm{MN} \\cdot \\frac{ 5.20\\ \\mathrm{m} }{ 2 } \\right) + \\left( 805.50\\ \\mathrm{kN} \\cdot 1.75\\ \\mathrm{m} \\right) - \\left( 295.70\\ \\mathrm{kN} \\cdot 6.75\\ \\mathrm{m} \\right) }{ 3.93\\ \\mathrm{MN} } &= 1.92\\ \\mathrm{m}  \n",
       "\\\\[10pt]\n",
       "\\mathrm{ex} &= \\left( \\frac{ \\mathrm{lx} }{ 2 } \\right) - \\mathrm{erx}  = \\left( \\frac{ 5.20\\ \\mathrm{m} }{ 2 } \\right) - 1.92\\ \\mathrm{m} &= 681.77\\ \\mathrm{mm}  \n",
       "\\\\[10pt]\n",
       "\\mathrm{ery} &= \\frac{ \\left( G \\cdot \\frac{ \\mathrm{ly} }{ 2 } \\right) + \\left( \\mathrm{gli} \\cdot \\frac{ \\mathrm{ly} }{ 2 } \\right) + \\left( \\mathrm{Fzd} \\cdot \\mathrm{eFzy} \\right) - \\left( \\mathrm{Fy} \\cdot h \\right) }{ \\mathrm{Rz} }  = \\frac{ \\left( 1.41\\ \\mathrm{MN} \\cdot \\frac{ 5.90\\ \\mathrm{m} }{ 2 } \\right) + \\left( 1.72\\ \\mathrm{MN} \\cdot \\frac{ 5.90\\ \\mathrm{m} }{ 2 } \\right) + \\left( 805.50\\ \\mathrm{kN} \\cdot 2.95\\ \\mathrm{m} \\right) - \\left( 492.80\\ \\mathrm{kN} \\cdot 6.75\\ \\mathrm{m} \\right) }{ 3.93\\ \\mathrm{MN} } &= 2.10\\ \\mathrm{m}  \n",
       "\\\\[10pt]\n",
       "\\mathrm{ey} &= \\left( \\frac{ \\mathrm{ly} }{ 2 } \\right) - \\mathrm{ery}  = \\left( \\frac{ 5.90\\ \\mathrm{m} }{ 2 } \\right) - 2.10\\ \\mathrm{m} &= 846.00\\ \\mathrm{mm}  \n",
       "\\\\[10pt]\n",
       "\\mathrm{ed} &= \\left( \\frac{ \\mathrm{ex} }{ \\mathrm{lx} } \\right) ^{ 2 } + \\left( \\frac{ \\mathrm{ey} }{ \\mathrm{ly} } \\right) ^{ 2 }  = \\left( \\frac{ 681.77\\ \\mathrm{mm} }{ 5.20\\ \\mathrm{m} } \\right) ^{ 2 } + \\left( \\frac{ 846.00\\ \\mathrm{mm} }{ 5.90\\ \\mathrm{m} } \\right) ^{ 2 } &= 0.04  \n",
       "\\\\[10pt]\n",
       "\\mathrm{ok} &= \\mathrm{ed} \\lt \\frac{ 1 }{ 9 }  = 0.04 \\lt \\frac{ 1 }{ 9 } &= True  \n",
       "\\end{aligned}\n",
       "\\]"
      ],
      "text/plain": [
       "<IPython.core.display.Latex object>"
      ]
     },
     "metadata": {},
     "output_type": "display_data"
    }
   ],
   "source": [
    "%%render short 2\n",
    "Fx =  295.7   *kN\n",
    "Fy =  492.8   *kN\n",
    "eFzx= 1.75 * m\n",
    "eFzy = 2.95*m\n",
    "erx = ((G*lx/2)+(gli*lx/2)+(Fzd * eFzx) - (Fx * h))/ Rz\n",
    "ex = (lx/2)-erx\n",
    "ery = ((G*ly/2)+(gli*ly/2)+(Fzd * eFzy) - (Fy * h))/ Rz\n",
    "ey = (ly/2)-ery\n",
    "ed = (ex/lx)**2 + (ey/ly)**2\n",
    "ok = ed< 1/9"
   ]
  },
  {
   "cell_type": "code",
   "execution_count": 36,
   "metadata": {},
   "outputs": [
    {
     "data": {
      "text/latex": [
       "\\[\n",
       "\\begin{aligned}\n",
       "\\mathrm{Fx} &= 699.8 \\cdot \\mathrm{kN}  = 699.8 \\cdot kN &= 699.80\\ \\mathrm{kN}  \n",
       "\\\\[10pt]\n",
       "\\mathrm{Fy} &= 349.9 \\cdot \\mathrm{kN}  = 349.9 \\cdot kN &= 349.90\\ \\mathrm{kN}  \n",
       "\\\\[10pt]\n",
       "\\mathrm{eFzx} &= 1.75 \\cdot m  = 1.75 \\cdot m &= 1.75\\ \\mathrm{m}  \n",
       "\\\\[10pt]\n",
       "\\mathrm{eFzy} &= 2.95 \\cdot m  = 2.95 \\cdot m &= 2.95\\ \\mathrm{m}  \n",
       "\\\\[10pt]\n",
       "\\mathrm{erx} &= \\frac{ \\left( G \\cdot \\frac{ \\mathrm{lx} }{ 2 } \\right) + \\left( \\mathrm{gli} \\cdot \\frac{ \\mathrm{lx} }{ 2 } \\right) + \\left( \\mathrm{Fzd} \\cdot \\mathrm{eFzx} \\right) - \\left( \\mathrm{Fx} \\cdot h \\right) }{ \\mathrm{Rz} }  = \\frac{ \\left( 1.41\\ \\mathrm{MN} \\cdot \\frac{ 5.20\\ \\mathrm{m} }{ 2 } \\right) + \\left( 1.72\\ \\mathrm{MN} \\cdot \\frac{ 5.20\\ \\mathrm{m} }{ 2 } \\right) + \\left( 805.50\\ \\mathrm{kN} \\cdot 1.75\\ \\mathrm{m} \\right) - \\left( 699.80\\ \\mathrm{kN} \\cdot 6.75\\ \\mathrm{m} \\right) }{ 3.93\\ \\mathrm{MN} } &= 1.22\\ \\mathrm{m}  \n",
       "\\\\[10pt]\n",
       "\\mathrm{ex} &= \\left( \\frac{ \\mathrm{lx} }{ 2 } \\right) - \\mathrm{erx}  = \\left( \\frac{ 5.20\\ \\mathrm{m} }{ 2 } \\right) - 1.22\\ \\mathrm{m} &= 1.38\\ \\mathrm{m}  \n",
       "\\\\[10pt]\n",
       "\\mathrm{ery} &= \\frac{ \\left( G \\cdot \\frac{ \\mathrm{ly} }{ 2 } \\right) + \\left( \\mathrm{gli} \\cdot \\frac{ \\mathrm{ly} }{ 2 } \\right) + \\left( \\mathrm{Fzd} \\cdot \\mathrm{eFzy} \\right) - \\left( \\mathrm{Fy} \\cdot h \\right) }{ \\mathrm{Rz} }  = \\frac{ \\left( 1.41\\ \\mathrm{MN} \\cdot \\frac{ 5.90\\ \\mathrm{m} }{ 2 } \\right) + \\left( 1.72\\ \\mathrm{MN} \\cdot \\frac{ 5.90\\ \\mathrm{m} }{ 2 } \\right) + \\left( 805.50\\ \\mathrm{kN} \\cdot 2.95\\ \\mathrm{m} \\right) - \\left( 349.90\\ \\mathrm{kN} \\cdot 6.75\\ \\mathrm{m} \\right) }{ 3.93\\ \\mathrm{MN} } &= 2.35\\ \\mathrm{m}  \n",
       "\\\\[10pt]\n",
       "\\mathrm{ey} &= \\left( \\frac{ \\mathrm{ly} }{ 2 } \\right) - \\mathrm{ery}  = \\left( \\frac{ 5.90\\ \\mathrm{m} }{ 2 } \\right) - 2.35\\ \\mathrm{m} &= 600.68\\ \\mathrm{mm}  \n",
       "\\\\[10pt]\n",
       "\\mathrm{ed} &= \\left( \\frac{ \\mathrm{ex} }{ \\mathrm{lx} } \\right) ^{ 2 } + \\left( \\frac{ \\mathrm{ey} }{ \\mathrm{ly} } \\right) ^{ 2 }  = \\left( \\frac{ 1.38\\ \\mathrm{m} }{ 5.20\\ \\mathrm{m} } \\right) ^{ 2 } + \\left( \\frac{ 600.68\\ \\mathrm{mm} }{ 5.90\\ \\mathrm{m} } \\right) ^{ 2 } &= 0.08  \n",
       "\\\\[10pt]\n",
       "\\mathrm{ok} &= \\mathrm{ed} \\lt \\frac{ 1 }{ 9 }  = 0.08 \\lt \\frac{ 1 }{ 9 } &= True  \n",
       "\\end{aligned}\n",
       "\\]"
      ],
      "text/plain": [
       "<IPython.core.display.Latex object>"
      ]
     },
     "metadata": {},
     "output_type": "display_data"
    }
   ],
   "source": [
    "%%render short 2\n",
    "Fx =  699.8   *kN\n",
    "Fy =  349.9   *kN\n",
    "eFzx= 1.75 * m\n",
    "eFzy = 2.95*m\n",
    "erx = ((G*lx/2)+(gli*lx/2)+(Fzd * eFzx) - (Fx * h))/ Rz\n",
    "ex = (lx/2)-erx\n",
    "ery = ((G*ly/2)+(gli*ly/2)+(Fzd * eFzy) - (Fy * h))/ Rz\n",
    "ey = (ly/2)-ery\n",
    "ed = (ex/lx)**2 + (ey/ly)**2\n",
    "ok = ed< 1/9"
   ]
  }
 ],
 "metadata": {
  "kernelspec": {
   "display_name": "Python 3",
   "language": "python",
   "name": "python3"
  },
  "language_info": {
   "codemirror_mode": {
    "name": "ipython",
    "version": 3
   },
   "file_extension": ".py",
   "mimetype": "text/x-python",
   "name": "python",
   "nbconvert_exporter": "python",
   "pygments_lexer": "ipython3",
   "version": "3.10.10"
  }
 },
 "nbformat": 4,
 "nbformat_minor": 2
}

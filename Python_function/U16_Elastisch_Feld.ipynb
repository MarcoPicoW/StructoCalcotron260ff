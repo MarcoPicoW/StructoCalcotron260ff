{
 "cells": [
  {
   "cell_type": "code",
   "execution_count": 72,
   "metadata": {},
   "outputs": [],
   "source": [
    "import numpy, scipy, math, handcalcs.render, forallpeople\n",
    "from math import sqrt, pi, sin, tan, cos\n",
    "forallpeople.environment('structural', top_level=True)\n",
    "handcalcs.save_config()\n",
    "cm = 10 *mm\n",
    "t = 1000 * kg\n",
    "def cot(x):\n",
    "    cotx = 1/tan(x)\n",
    "    return cotx"
   ]
  },
  {
   "cell_type": "code",
   "execution_count": 79,
   "metadata": {},
   "outputs": [
    {
     "data": {
      "text/latex": [
       "\\[\n",
       "\\begin{aligned}\n",
       "E_{s} &= 205000 \\cdot \\frac{ N }{ \\left( \\mathrm{mm} \\right) ^{ 2 } }  = 205000 \\cdot \\frac{ N }{ \\left( mm \\right) ^{ 2 } } &= 205.00000\\ \\mathrm{GPa}  \n",
       "\\\\[10pt]\n",
       "A_{s} &= 2 \\cdot 36 \\cdot \\pi \\cdot \\left( \\mathrm{mm} \\right) ^{ 2 }  = 2 \\cdot 36 \\cdot 3.14159 \\cdot \\left( mm \\right) ^{ 2 } &= 226.19467\\ \\mathrm{mm}^{2}  \n",
       "\\\\[10pt]\n",
       "\\varepsilon_{c} &= 0.00300 \\; \n",
       "\\\\[10pt]\n",
       "E_{c} &= 22000 \\cdot \\frac{ N }{ \\left( \\mathrm{mm} \\right) ^{ 2 } }  = 22000 \\cdot \\frac{ N }{ \\left( mm \\right) ^{ 2 } } &= 22.00000\\ \\mathrm{GPa}  \n",
       "\\\\[10pt]\n",
       "d &= 104 \\cdot \\mathrm{mm}  = 104 \\cdot mm &= 104.00000\\ \\mathrm{mm}  \n",
       "\\\\[10pt]\n",
       "b &= 45 \\cdot \\mathrm{mm}  = 45 \\cdot mm &= 45.00000\\ \\mathrm{mm}  \n",
       "\\\\[10pt]\n",
       "x &= d - \\left( \\frac{ d }{ \\varepsilon_{s} + \\varepsilon_{c} } \\right) \\cdot \\varepsilon_{s}  = 104.00000\\ \\mathrm{mm} - \\left( \\frac{ 104.00000\\ \\mathrm{mm} }{ 0.00033 + 0.00300 } \\right) \\cdot 0.00033 &= 24.80695\\ \\mathrm{mm}  \n",
       "\\\\[10pt]\n",
       "\\varepsilon_{s} &= \\frac{ \\varepsilon_{c} \\cdot \\left( E_{c} \\cdot b \\cdot d - 2 \\cdot E_{s} \\cdot A_{s} \\right) }{ 2 \\cdot E_{s} \\cdot A_{s} } \\\\&= \\frac{ 0.00300 \\cdot \\left( 22.00000\\ \\mathrm{GPa} \\cdot 45.00000\\ \\mathrm{mm} \\cdot 104.00000\\ \\mathrm{mm} - 2 \\cdot 205.00000\\ \\mathrm{GPa} \\cdot 226.19467\\ \\mathrm{mm}^{2} \\right) }{ 2 \\cdot 205.00000\\ \\mathrm{GPa} \\cdot 226.19467\\ \\mathrm{mm}^{2} } \\\\&= 0.00033  \\\\[10pt]\n",
       "\\\\[10pt]\n",
       "F_{c} &= \\varepsilon_{c} \\cdot E_{c} \\cdot b \\cdot x \\cdot 0.5  = 0.00300 \\cdot 22.00000\\ \\mathrm{GPa} \\cdot 45.00000\\ \\mathrm{mm} \\cdot 24.80695\\ \\mathrm{mm} \\cdot 0.5 &= 36.83832\\ \\mathrm{kN}  \n",
       "\\\\[10pt]\n",
       "F_{s} &= \\varepsilon_{s} \\cdot E_{s} \\cdot A_{s}  = 0.00033 \\cdot 205.00000\\ \\mathrm{GPa} \\cdot 226.19467\\ \\mathrm{mm}^{2} &= 15.33028\\ \\mathrm{kN}  \n",
       "\\\\[10pt]\n",
       "M_{rd} &= F_{s} \\cdot \\left( d - \\left( x \\cdot 0.5 \\right) \\right)  = 15.33028\\ \\mathrm{kN} \\cdot \\left( 104.00000\\ \\mathrm{mm} - \\left( 24.80695\\ \\mathrm{mm} \\cdot 0.5 \\right) \\right) &= 1.40420\\ \\mathrm{kN} \\cdot \\mathrm{m}  \n",
       "\\\\[10pt]\n",
       "q_{max} &= \\frac{ M_{rd} \\cdot 16 }{ 1.2 \\cdot m \\cdot \\left( 3.22 \\cdot m \\right) ^{ 2 } }  = \\frac{ 1.40420\\ \\mathrm{kN} \\cdot \\mathrm{m} \\cdot 16 }{ 1.2 \\cdot m \\cdot \\left( 3.22 \\cdot m \\right) ^{ 2 } } &= 1.80574\\ \\mathrm{kPa}  \n",
       "\\end{aligned}\n",
       "\\]"
      ],
      "text/plain": [
       "<IPython.core.display.Latex object>"
      ]
     },
     "metadata": {},
     "output_type": "display_data"
    }
   ],
   "source": [
    "%%render 5\n",
    "E_s = 205000 *N/mm**2\n",
    "A_s = 2*36*pi * mm**2\n",
    "varepsilon_c =  0.003\n",
    "E_c = 22000 * N/mm**2\n",
    "d = 104 * mm\n",
    "b = 45 * mm\n",
    "\n",
    "\n",
    "x = d - (d/(varepsilon_s + varepsilon_c))*varepsilon_s \n",
    "varepsilon_s = (varepsilon_c*(E_c*b*d-2*E_s*A_s))/(2*E_s*A_s)\n",
    "F_c = varepsilon_c*E_c*b*x * 0.5\n",
    "F_s = varepsilon_s*E_s*A_s\n",
    "M_rd = F_s * (d-(x * 0.5))\n",
    "q_max = (M_rd*16) / (1.2*m * (3.22*m)**2)"
   ]
  },
  {
   "cell_type": "code",
   "execution_count": 78,
   "metadata": {},
   "outputs": [
    {
     "data": {
      "text/latex": [
       "\\[\n",
       "\\begin{aligned}\n",
       "E_{s} &= 205000 \\cdot \\frac{ N }{ \\left( \\mathrm{mm} \\right) ^{ 2 } }  = 205000 \\cdot \\frac{ N }{ \\left( mm \\right) ^{ 2 } } &= 205.00000\\ \\mathrm{GPa}  \n",
       "\\\\[10pt]\n",
       "A_{s} &= 2 \\cdot 121 \\cdot \\pi \\cdot \\left( \\mathrm{mm} \\right) ^{ 2 }  = 2 \\cdot 121 \\cdot 3.14159 \\cdot \\left( mm \\right) ^{ 2 } &= 760.26542\\ \\mathrm{mm}^{2}  \n",
       "\\\\[10pt]\n",
       "\\varepsilon_{c} &= 0.00300 \\; \n",
       "\\\\[10pt]\n",
       "E_{c} &= 22000 \\cdot \\frac{ N }{ \\left( \\mathrm{mm} \\right) ^{ 2 } }  = 22000 \\cdot \\frac{ N }{ \\left( mm \\right) ^{ 2 } } &= 22.00000\\ \\mathrm{GPa}  \n",
       "\\\\[10pt]\n",
       "d &= 297 \\cdot \\mathrm{mm}  = 297 \\cdot mm &= 297.00000\\ \\mathrm{mm}  \n",
       "\\\\[10pt]\n",
       "b &= 200 \\cdot \\mathrm{mm}  = 200 \\cdot mm &= 200.00000\\ \\mathrm{mm}  \n",
       "\\\\[10pt]\n",
       "x &= d - \\left( \\frac{ d }{ \\varepsilon_{s} + \\varepsilon_{c} } \\right) \\cdot \\varepsilon_{s}  = 297.00000\\ \\mathrm{mm} - \\left( \\frac{ 297.00000\\ \\mathrm{mm} }{ 0.00958 + 0.00300 } \\right) \\cdot 0.00958 &= 70.84291\\ \\mathrm{mm}  \n",
       "\\\\[10pt]\n",
       "\\varepsilon_{s} &= \\frac{ \\varepsilon_{c} \\cdot \\left( E_{c} \\cdot b \\cdot d - 2 \\cdot E_{s} \\cdot A_{s} \\right) }{ 2 \\cdot E_{s} \\cdot A_{s} } \\\\&= \\frac{ 0.00300 \\cdot \\left( 22.00000\\ \\mathrm{GPa} \\cdot 200.00000\\ \\mathrm{mm} \\cdot 297.00000\\ \\mathrm{mm} - 2 \\cdot 205.00000\\ \\mathrm{GPa} \\cdot 760.26542\\ \\mathrm{mm}^{2} \\right) }{ 2 \\cdot 205.00000\\ \\mathrm{GPa} \\cdot 760.26542\\ \\mathrm{mm}^{2} } \\\\&= 0.00958  \\\\[10pt]\n",
       "\\\\[10pt]\n",
       "F_{c} &= \\varepsilon_{c} \\cdot E_{c} \\cdot b \\cdot x \\cdot 0.5  = 0.00300 \\cdot 22.00000\\ \\mathrm{GPa} \\cdot 200.00000\\ \\mathrm{mm} \\cdot 70.84291\\ \\mathrm{mm} \\cdot 0.5 &= 467.56323\\ \\mathrm{kN}  \n",
       "\\\\[10pt]\n",
       "F_{s} &= \\varepsilon_{s} \\cdot E_{s} \\cdot A_{s}  = 0.00958 \\cdot 205.00000\\ \\mathrm{GPa} \\cdot 760.26542\\ \\mathrm{mm}^{2} &= 1.49264\\ \\mathrm{MN}  \n",
       "\\\\[10pt]\n",
       "M_{rd} &= F_{s} \\cdot \\left( d - \\left( x \\cdot 0.5 \\right) \\right)  = 1.49264\\ \\mathrm{MN} \\cdot \\left( 297.00000\\ \\mathrm{mm} - \\left( 70.84291\\ \\mathrm{mm} \\cdot 0.5 \\right) \\right) &= 390.44175\\ \\mathrm{kN} \\cdot \\mathrm{m}  \n",
       "\\\\[10pt]\n",
       "q_{max} &= \\frac{ M_{rd} \\cdot 16 }{ 1.2 \\cdot m \\cdot \\left( 3.22 \\cdot m \\right) ^{ 2 } }  = \\frac{ 390.44175\\ \\mathrm{kN} \\cdot \\mathrm{m} \\cdot 16 }{ 1.2 \\cdot m \\cdot \\left( 3.22 \\cdot m \\right) ^{ 2 } } &= 502.09193\\ \\mathrm{kPa}  \n",
       "\\end{aligned}\n",
       "\\]"
      ],
      "text/plain": [
       "<IPython.core.display.Latex object>"
      ]
     },
     "metadata": {},
     "output_type": "display_data"
    }
   ],
   "source": [
    "%%render 5\n",
    "E_s = 205000 *N/mm**2\n",
    "A_s = 2*121*pi * mm**2\n",
    "varepsilon_c =  0.003\n",
    "E_c = 22000 * N/mm**2\n",
    "d = 297 * mm\n",
    "b = 200 * mm\n",
    "\n",
    "\n",
    "x = d - (d/(varepsilon_s + varepsilon_c))*varepsilon_s \n",
    "varepsilon_s = (varepsilon_c*(E_c*b*d-2*E_s*A_s))/(2*E_s*A_s)\n",
    "F_c = varepsilon_c*E_c*b*x * 0.5\n",
    "F_s = varepsilon_s*E_s*A_s\n",
    "M_rd = F_s * (d-(x * 0.5))\n",
    "q_max = (M_rd*16) / (1.2*m * (3.22*m)**2)"
   ]
  },
  {
   "cell_type": "code",
   "execution_count": null,
   "metadata": {},
   "outputs": [],
   "source": []
  }
 ],
 "metadata": {
  "kernelspec": {
   "display_name": "Python 3",
   "language": "python",
   "name": "python3"
  },
  "language_info": {
   "codemirror_mode": {
    "name": "ipython",
    "version": 3
   },
   "file_extension": ".py",
   "mimetype": "text/x-python",
   "name": "python",
   "nbconvert_exporter": "python",
   "pygments_lexer": "ipython3",
   "version": "3.10.10"
  }
 },
 "nbformat": 4,
 "nbformat_minor": 2
}

{
 "cells": [
  {
   "cell_type": "code",
   "execution_count": 19,
   "metadata": {},
   "outputs": [],
   "source": [
    "import numpy, scipy, math, handcalcs.render, forallpeople\n",
    "from math import sqrt, pi, sin, tan, cos\n",
    "forallpeople.environment('structural', top_level=True)\n",
    "handcalcs.save_config()\n",
    "cm = 10  * mm\n",
    "t = 1000 * kg"
   ]
  },
  {
   "cell_type": "markdown",
   "metadata": {},
   "source": [
    "# Moment rechner"
   ]
  },
  {
   "cell_type": "code",
   "execution_count": 20,
   "metadata": {},
   "outputs": [
    {
     "data": {
      "text/latex": [
       "\\[\n",
       "\\begin{aligned}\n",
       "l &= 1.50\\ \\mathrm{m} \\; \n",
       " &A_{konsole} &= 169000.00\\ \\mathrm{mm}^{2} \\; \n",
       " &\\gamma_{c} &= 25.00\\ \\mathrm{kN/m³} \\; \n",
       "\\\\[10pt]\n",
       " \\gamma_{b} &= 24.00\\ \\mathrm{kN/m³} \\; \n",
       " &\\alpha_{qk1} &= 0.55 \\; \n",
       " &\\alpha_{Qk1} &= 0.55 \\; \n",
       "\\\\[10pt]\n",
       " Q_{k1} &= 300.00\\ \\mathrm{kN} \\; \n",
       " &q_{k1} &= 9.00\\ \\mathrm{kN/m} \\; \n",
       " &g_{1} &= 6.25\\ \\mathrm{kN/m} \\; \n",
       "\\\\[10pt]\n",
       " g_{2} &= 2.40\\ \\mathrm{kN/m} \\; \n",
       " &g_{3} &= 4.75\\ \\mathrm{kN/m} \\; \n",
       " &q_{LM1} &= 4.95\\ \\mathrm{kN/m} \\; \n",
       "\\\\[10pt]\n",
       " Q_{LM1} &= 82.50\\ \\mathrm{kN} \\; \n",
       " &Q_{LM1_{Projeziert}} &= 184.15\\ \\mathrm{kN/m} \\; \n",
       " &G_{4} &= 4.06\\ \\mathrm{kN} \\; \n",
       "\\\\[10pt]\n",
       " G_{5} &= 1.00\\ \\mathrm{kN} \\;\n",
       "\\end{aligned}\n",
       "\\]"
      ],
      "text/plain": [
       "<IPython.core.display.Latex object>"
      ]
     },
     "metadata": {},
     "output_type": "display_data"
    }
   ],
   "source": [
    "%%render params 2\n",
    "l = 1.495 *m\n",
    "A_konsole = 169000 *mm**2\n",
    "gamma_c = 25 *kN/m**3\n",
    "gamma_b = 24 *kN/m**3\n",
    "alpha_qk1 = 0.55\n",
    "alpha_Qk1 = 0.55\n",
    "Q_k1 = 300 *kN\n",
    "q_k1 = 9 *kN/m\n",
    "g_1 = gamma_c *0.25 * m * 1 *m\n",
    "g_2 = gamma_b *0.1  * m * 1 *m\n",
    "g_3 = gamma_c *0.19 * m * 1 *m\n",
    "q_LM1 = alpha_qk1*q_k1\n",
    "Q_LM1 = alpha_Qk1 *Q_k1*0.5\n",
    "Q_LM1_Projeziert = 184.15 * kN/m\n",
    "G_4 = A_konsole * gamma_b * 1*m\n",
    "G_5 = 1 *kN"
   ]
  },
  {
   "cell_type": "code",
   "execution_count": 21,
   "metadata": {},
   "outputs": [
    {
     "data": {
      "text/latex": [
       "\\[\n",
       "\\begin{aligned}\n",
       "V_{Ed} &= \\left( g_{1} \\cdot \\left( 0.77 + 0.55 \\right) \\cdot m + g_{2} \\cdot 0.77 \\cdot m + g_{3} \\cdot 0.55 \\cdot m + G_{4} + G_{5} \\right) \\cdot 1.35 + \\left( q_{LM1} \\cdot \\left( 0.55 + 0.77 \\right) \\cdot m + \\frac{ Q_{LM1} }{ 1.12 } \\right) \\cdot 1.5 \\\\&= \\left( 6.25\\ \\mathrm{kN/m} \\cdot \\left( 0.77 + 0.55 \\right) \\cdot m + 2.40\\ \\mathrm{kN/m} \\cdot 0.77 \\cdot m + 4.75\\ \\mathrm{kN/m} \\cdot 0.55 \\cdot m + 4.06\\ \\mathrm{kN} + 1.00\\ \\mathrm{kN} \\right) \\cdot 1.35 + \\left( 4.95\\ \\mathrm{kN/m} \\cdot \\left( 0.55 + 0.77 \\right) \\cdot m + \\frac{ 82.50\\ \\mathrm{kN} }{ 1.12 } \\right) \\cdot 1.5 \\\\&= 144.28\\ \\mathrm{kN}  \\\\[10pt]\n",
       "\\end{aligned}\n",
       "\\]"
      ],
      "text/plain": [
       "<IPython.core.display.Latex object>"
      ]
     },
     "metadata": {},
     "output_type": "display_data"
    }
   ],
   "source": [
    "%%render 2\n",
    "\n",
    "V_Ed = (g_1 * (0.77+0.55) *m + g_2*0.77*m + g_3 * 0.55 * m + G_4 + G_5)*1.35 +  (q_LM1 * (0.55+0.77)* m + Q_LM1/1.12 ) *1.5\n"
   ]
  },
  {
   "cell_type": "code",
   "execution_count": 22,
   "metadata": {},
   "outputs": [
    {
     "name": "stdout",
     "output_type": "stream",
     "text": [
      "78.488 kN/m\n",
      "47.965 kN/m\n",
      "52.326 kN/m\n"
     ]
    }
   ],
   "source": [
    "alpha =[0.9, 0.55, 0.6]\n",
    "for a in alpha:\n",
    "    Qk = a * 300 * kN\n",
    "    M_Qk= Qk * 1.12 * m\n",
    "    m_Qk = M_Qk/(3.44 * m)\n",
    "    print(m_Qk/(1.12*m))"
   ]
  },
  {
   "cell_type": "markdown",
   "metadata": {},
   "source": [
    "# Biegewiderstand"
   ]
  },
  {
   "cell_type": "code",
   "execution_count": 23,
   "metadata": {},
   "outputs": [
    {
     "data": {
      "text/latex": [
       "\\[\n",
       "\\begin{aligned}\n",
       "m_{Ed} &= 164.50\\ \\mathrm{kN} \\cdot \\mathrm{m} \\; \n",
       " &v_{Ed} &= 142.00\\ \\mathrm{kN/m} \\; \n",
       " &r &= 13.00\\ \\mathrm{mm} \\; \n",
       "\\\\[10pt]\n",
       " r_{d} &= 5.00\\ \\mathrm{mm} \\; \n",
       " &n &= 6.67 \\; \\;\\textrm{(Menge Bewehrung)}\n",
       " &a_{sw} &= 0.00\\ \\mathrm{m}^{2} \\; \n",
       "\\\\[10pt]\n",
       " d_{buegel} &= 0.00\\ \\mathrm{m} \\; \n",
       " &c_{nom} &= 40.00\\ \\mathrm{mm} \\; \n",
       " &f_{sd} &= 390.00\\ \\mathrm{MPa} \\; \n",
       "\\\\[10pt]\n",
       " E_{s} &= 205.00\\ \\mathrm{GPa} \\; \n",
       " &\\varepsilon_{ud} &= 0.03 \\; \n",
       " &h &= 600.00\\ \\mathrm{mm} \\; \n",
       "\\\\[10pt]\n",
       " b &= 1.00\\ \\mathrm{m} \\; \n",
       " &f_{cd} &= 22.00\\ \\mathrm{MPa} \\; \n",
       " &\\tau_{cd} &= 1.20\\ \\mathrm{MPa} \\; \n",
       "\\\\[10pt]\n",
       " \\varepsilon_{c2d} &= 0.00 \\; \n",
       " &k_{g} &= 1.00\\ \\mathrm{mm}^{-1} \\; \n",
       " &\\varepsilon_{sd} &= 0.00 \\; \n",
       "\\\\[10pt]\n",
       " d &= 26.00\\ \\mathrm{mm} \\; \n",
       " &A_{s} &= 3539.53\\ \\mathrm{mm}^{2} \\; \n",
       " &A_{sd} &= 523.60\\ \\mathrm{mm}^{2} \\; \n",
       "\\\\[10pt]\n",
       " \\Theta_{3} &= 0.79 \\; \\;\\textrm{(rad)}\n",
       " &d_{s} &= 557.00\\ \\mathrm{mm} \\; \n",
       " &d_{s} &= 557.00\\ \\mathrm{mm} \\; \n",
       "\\\\[10pt]\n",
       " d_{v} &= 507.00\\ \\mathrm{mm} \\; \n",
       " &x &= 73.82\\ \\mathrm{mm} \\;\n",
       "\\end{aligned}\n",
       "\\]"
      ],
      "text/plain": [
       "<IPython.core.display.Latex object>"
      ]
     },
     "metadata": {},
     "output_type": "display_data"
    }
   ],
   "source": [
    "%%render params 2\n",
    "m_Ed = 164.5     * kN*m\n",
    "v_Ed = 142     * kN/m\n",
    "\n",
    "r = 13          * mm\n",
    "r_d = 5        * mm\n",
    "n = 100/15     # Menge Bewehrung\n",
    "a_sw = 0       * mm**2\n",
    "d_buegel = 0   * mm\n",
    "c_nom = 40     * mm\n",
    "f_sd = 390     * N/mm**2\n",
    "E_s = 205000   * N/mm**2\n",
    "varepsilon_ud = 0.025\n",
    "\n",
    "h = 600        * mm\n",
    "b = 1          * m\n",
    "f_cd = 22      * MPa\n",
    "tau_cd = 1.2   *N/mm**2\n",
    "varepsilon_c2d = 0.003\n",
    "\n",
    "\n",
    "k_g = 1        * 1/mm\n",
    "\n",
    "\n",
    "varepsilon_sd = f_sd / E_s\n",
    "d = r*2\n",
    "A_s = n * r**2 * pi\n",
    "A_sd = n * r_d**2 * pi\n",
    "Theta_3 = (45/180)*pi #rad\n",
    "d_s = (h - c_nom - d_buegel - 0.5*r)\n",
    "d_s = 0.557 *m\n",
    "d_v = (h - 2*c_nom - 2*d_buegel - r)\n",
    "x = ((A_s * f_sd) / (0.85* b * f_cd))"
   ]
  },
  {
   "cell_type": "code",
   "execution_count": 24,
   "metadata": {},
   "outputs": [
    {
     "data": {
      "text/latex": [
       "\\[\n",
       "\\begin{aligned}\n",
       "m_{Rd} &= A_{s} \\cdot f_{sd} \\cdot \\left( d_{s} - \\left( \\frac{ A_{s} \\cdot f_{sd} }{ 0.85 \\cdot 2 \\cdot b \\cdot f_{cd} } \\right) \\right) \\\\&= 3539.53\\ \\mathrm{mm}^{2} \\cdot 390.00\\ \\mathrm{MPa} \\cdot \\left( 557.00\\ \\mathrm{mm} - \\left( \\frac{ 3539.53\\ \\mathrm{mm}^{2} \\cdot 390.00\\ \\mathrm{MPa} }{ 0.85 \\cdot 2 \\cdot 1.00\\ \\mathrm{m} \\cdot 22.00\\ \\mathrm{MPa} } \\right) \\right) \\\\&= 717.94\\ \\mathrm{kN} \\cdot \\mathrm{m}  \\\\[10pt]\n",
       "\\\\[10pt]\n",
       "\\varepsilon_{s} &= \\varepsilon_{c2d} \\cdot \\left( \\frac{ d_{s} - x }{ x } \\right) \\\\&= 0.00 \\cdot \\left( \\frac{ 557.00\\ \\mathrm{mm} - 73.82\\ \\mathrm{mm} }{ 73.82\\ \\mathrm{mm} } \\right) \\\\&= 0.02  \\\\[10pt]\n",
       "\\\\[10pt]\n",
       "Max_{\\varepsilon_{s}} &= \\varepsilon_{s} \\gt \\varepsilon_{ud} \\\\&= 0.02 \\gt 0.03 \\\\&= False  \\\\[10pt]\n",
       "\\\\[10pt]\n",
       "n &= \\frac{ m_{Rd} }{ m_{Ed} } \\\\&= \\frac{ 717.94\\ \\mathrm{kN} \\cdot \\mathrm{m} }{ 164.50\\ \\mathrm{kN} \\cdot \\mathrm{m} } \\\\&= 4.36  \\\\[10pt]\n",
       "\\\\[10pt]\n",
       "\\mathrm{Verformungsv} &= \\frac{ x }{ d_{s} } \\\\&= \\frac{ 73.82\\ \\mathrm{mm} }{ 557.00\\ \\mathrm{mm} } \\\\&= 0.13  \\\\[10pt]\n",
       "\\end{aligned}\n",
       "\\]"
      ],
      "text/plain": [
       "<IPython.core.display.Latex object>"
      ]
     },
     "metadata": {},
     "output_type": "display_data"
    }
   ],
   "source": [
    "%%render Long 2\n",
    "m_Rd = A_s * f_sd * ((d_s)- ((A_s * f_sd) / ( 0.85 * 2 * b * f_cd)))\n",
    "varepsilon_s = varepsilon_c2d *((d_s -x)/x)\n",
    "Max_varepsilon_s = varepsilon_s > varepsilon_ud\n",
    "n = m_Rd/ m_Ed\n",
    "Verformungsv = x/d_s"
   ]
  },
  {
   "cell_type": "markdown",
   "metadata": {},
   "source": [
    "# Querkraftwiderstand"
   ]
  },
  {
   "cell_type": "code",
   "execution_count": 27,
   "metadata": {},
   "outputs": [
    {
     "data": {
      "text/latex": [
       "\\[\n",
       "\\begin{aligned}\n",
       "\\epsilon_{v} &= 0.00101 \\; \n",
       "\\\\[10pt]\n",
       "k_{d} &= \\frac{ 1 }{ 1 + \\left( \\epsilon_{v} \\cdot d_{s} \\cdot k_{g} \\right) } \\\\&= \\frac{ 1 }{ 1 + \\left( 0.00101 \\cdot 557.00000\\ \\mathrm{mm} \\cdot 1.00000\\ \\mathrm{mm}^{-1} \\right) } \\\\&= 0.63997  \\\\[10pt]\n",
       "\\\\[10pt]\n",
       "v_{Rd} &= k_{d} \\cdot \\tau_{cd} \\cdot d_{v} \\\\&= 0.63997 \\cdot 1.20000\\ \\mathrm{MPa} \\cdot 507.00000\\ \\mathrm{mm} \\\\&= 389.35856\\ \\mathrm{kN/m}  \\\\[10pt]\n",
       "\\\\[10pt]\n",
       "n &= \\frac{ v_{Rd} }{ v_{Ed} } \\\\&= \\frac{ 389.35856\\ \\mathrm{kN/m} }{ 142.00000\\ \\mathrm{kN/m} } \\\\&= 2.74196  \\\\[10pt]\n",
       "\\end{aligned}\n",
       "\\]"
      ],
      "text/plain": [
       "<IPython.core.display.Latex object>"
      ]
     },
     "metadata": {},
     "output_type": "display_data"
    }
   ],
   "source": [
    "%%render Long 5\n",
    "epsilon_v = 0.00101\n",
    "k_d = 1 / (1 +(epsilon_v * d_s * k_g) )\n",
    "v_Rd = k_d * tau_cd * d_v\n",
    "n = v_Rd/ v_Ed"
   ]
  },
  {
   "cell_type": "code",
   "execution_count": null,
   "metadata": {},
   "outputs": [],
   "source": []
  },
  {
   "cell_type": "markdown",
   "metadata": {},
   "source": [
    "Wobei:\tα = 45°\n",
    "\tfsd  = 450 N/mm2\n",
    "\tfcd = 26.5 N/mm2\n",
    "\tkc = 0.55\n"
   ]
  }
 ],
 "metadata": {
  "kernelspec": {
   "display_name": "Python 3",
   "language": "python",
   "name": "python3"
  },
  "language_info": {
   "codemirror_mode": {
    "name": "ipython",
    "version": 3
   },
   "file_extension": ".py",
   "mimetype": "text/x-python",
   "name": "python",
   "nbconvert_exporter": "python",
   "pygments_lexer": "ipython3",
   "version": "3.10.10"
  }
 },
 "nbformat": 4,
 "nbformat_minor": 2
}

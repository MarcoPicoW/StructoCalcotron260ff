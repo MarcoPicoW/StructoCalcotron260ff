{
 "cells": [
  {
   "cell_type": "code",
   "execution_count": 131,
   "metadata": {},
   "outputs": [],
   "source": [
    "import numpy as np, scipy, math, handcalcs.render, forallpeople, pandas as pd, csv, os, math\n",
    "from math import sqrt, pi, sin, tan, cos, atan\n",
    "forallpeople.environment('structural', top_level=True)\n",
    "handcalcs.save_config()\n",
    "cm = 10 *mm\n",
    "t = 1000 * kg\n",
    "def cot(x):\n",
    "    cotx = 1/tan(x)\n",
    "    return cotx"
   ]
  },
  {
   "cell_type": "code",
   "execution_count": 132,
   "metadata": {},
   "outputs": [
    {
     "data": {
      "text/latex": [
       "\\[\n",
       "\\begin{aligned}\n",
       "A_{sw} &= 2 \\cdot 78.5 \\cdot \\left( \\mathrm{mm} \\right) ^{ 2 }  = 2 \\cdot 78.5 \\cdot \\left( mm \\right) ^{ 2 } &= 157.000\\ \\mathrm{mm}^{2}  \n",
       "\\\\[10pt]\n",
       "s &= 200 \\cdot \\mathrm{mm}  = 200 \\cdot mm &= 200.000\\ \\mathrm{mm}  \n",
       "\\\\[10pt]\n",
       "z &= 480 \\cdot \\mathrm{mm}  = 480 \\cdot mm &= 480.000\\ \\mathrm{mm}  \n",
       "\\\\[10pt]\n",
       "f_{sd} &= 390 \\cdot \\frac{ N }{ \\left( \\mathrm{mm} \\right) ^{ 2 } }  = 390 \\cdot \\frac{ N }{ \\left( mm \\right) ^{ 2 } } &= 390.000\\ \\mathrm{MPa}  \n",
       "\\\\[10pt]\n",
       "\\alpha &= \\mathrm{math.radians} 25  = math.radians 25 &= 0.436  \n",
       "\\\\[10pt]\n",
       "V_{Rds} &= \\left( \\left( \\frac{ A_{sw} }{ s } \\right) \\cdot z \\cdot f_{sd} \\cdot \\operatorname{cot} \\left( \\alpha \\right) \\right)  = \\left( \\left( \\frac{ 157.000\\ \\mathrm{mm}^{2} }{ 200.000\\ \\mathrm{mm} } \\right) \\cdot 480.000\\ \\mathrm{mm} \\cdot 390.000\\ \\mathrm{MPa} \\cdot \\operatorname{cot} \\left( 0.436 \\right) \\right) &= 315.140\\ \\mathrm{kN}  \n",
       "\\end{aligned}\n",
       "\\]"
      ],
      "text/plain": [
       "<IPython.core.display.Latex object>"
      ]
     },
     "metadata": {},
     "output_type": "display_data"
    }
   ],
   "source": [
    "%%render\n",
    "A_sw = 2*78.5 *mm**2\n",
    "s = 200*mm\n",
    "z = 480*mm\n",
    "f_sd = 390 * N/mm**2\n",
    "\n",
    "alpha = math.radians(25)\n",
    "V_Rds =  ((A_sw/s) * z * f_sd * (cot(alpha)))\n"
   ]
  },
  {
   "cell_type": "code",
   "execution_count": 133,
   "metadata": {},
   "outputs": [
    {
     "data": {
      "text/latex": [
       "\\[\n",
       "\\begin{aligned}\n",
       "b_{w} &= 214.4 \\cdot \\mathrm{mm}  = 214.4 \\cdot mm &= 214.400\\ \\mathrm{mm}  \n",
       "\\\\[10pt]\n",
       "k_{c} &= 0.550 \\; \n",
       "\\\\[10pt]\n",
       "f_{cd} &= 22 \\cdot \\frac{ N }{ \\left( \\mathrm{mm} \\right) ^{ 2 } }  = 22 \\cdot \\frac{ N }{ \\left( mm \\right) ^{ 2 } } &= 22.000\\ \\mathrm{MPa}  \n",
       "\\\\[10pt]\n",
       "V_{Rdc} &= \\left( b_{w} \\cdot z \\cdot k_{c} \\cdot f_{cd} \\cdot \\sin \\left( \\alpha \\right) \\cdot \\cos \\left( \\alpha \\right) \\right) \\\\&= \\left( 214.400\\ \\mathrm{mm} \\cdot 480.000\\ \\mathrm{mm} \\cdot 0.550 \\cdot 22.000\\ \\mathrm{MPa} \\cdot \\sin \\left( 0.436 \\right) \\cdot \\cos \\left( 0.436 \\right) \\right) \\\\&= 476.953\\ \\mathrm{kN}  \\\\[10pt]\n",
       "\\end{aligned}\n",
       "\\]"
      ],
      "text/plain": [
       "<IPython.core.display.Latex object>"
      ]
     },
     "metadata": {},
     "output_type": "display_data"
    }
   ],
   "source": [
    "%%render\n",
    "b_w = 214.4*mm\n",
    "k_c = 0.55\n",
    "f_cd = 22 * N/mm**2\n",
    "V_Rdc = (b_w * z* k_c* f_cd *sin(alpha)*cos(alpha))"
   ]
  },
  {
   "cell_type": "code",
   "execution_count": 134,
   "metadata": {},
   "outputs": [
    {
     "data": {
      "text/latex": [
       "\\[\n",
       "\\begin{aligned}\n",
       "A_{sw} &= 2 \\cdot 50.3 \\cdot \\left( \\mathrm{mm} \\right) ^{ 2 }  = 2 \\cdot 50.3 \\cdot \\left( mm \\right) ^{ 2 } &= 100.600\\ \\mathrm{mm}^{2}  \n",
       "\\\\[10pt]\n",
       "s &= 200 \\cdot \\mathrm{mm}  = 200 \\cdot mm &= 200.000\\ \\mathrm{mm}  \n",
       "\\\\[10pt]\n",
       "z &= 680 \\cdot \\mathrm{mm}  = 680 \\cdot mm &= 680.000\\ \\mathrm{mm}  \n",
       "\\\\[10pt]\n",
       "f_{sd} &= 390 \\cdot \\frac{ N }{ \\left( \\mathrm{mm} \\right) ^{ 2 } }  = 390 \\cdot \\frac{ N }{ \\left( mm \\right) ^{ 2 } } &= 390.000\\ \\mathrm{MPa}  \n",
       "\\\\[10pt]\n",
       "\\alpha &= \\mathrm{math.radians} 25  = math.radians 25 &= 0.436  \n",
       "\\\\[10pt]\n",
       "V_{Rds} &= \\left( \\left( \\frac{ A_{sw} }{ s } \\right) \\cdot z \\cdot f_{sd} \\cdot \\operatorname{cot} \\left( \\alpha \\right) \\right)  = \\left( \\left( \\frac{ 100.600\\ \\mathrm{mm}^{2} }{ 200.000\\ \\mathrm{mm} } \\right) \\cdot 680.000\\ \\mathrm{mm} \\cdot 390.000\\ \\mathrm{MPa} \\cdot \\operatorname{cot} \\left( 0.436 \\right) \\right) &= 286.068\\ \\mathrm{kN}  \n",
       "\\end{aligned}\n",
       "\\]"
      ],
      "text/plain": [
       "<IPython.core.display.Latex object>"
      ]
     },
     "metadata": {},
     "output_type": "display_data"
    }
   ],
   "source": [
    "%%render\n",
    "A_sw = 2*50.3 *mm**2\n",
    "s = 200*mm\n",
    "z = 680*mm\n",
    "f_sd = 390 * N/mm**2\n",
    "\n",
    "alpha = math.radians(25)\n",
    "V_Rds =  ((A_sw/s) * z * f_sd * (cot(alpha)))\n"
   ]
  },
  {
   "cell_type": "code",
   "execution_count": 135,
   "metadata": {},
   "outputs": [
    {
     "data": {
      "text/latex": [
       "\\[\n",
       "\\begin{aligned}\n",
       "b_{w} &= 149.4 \\cdot \\mathrm{mm}  = 149.4 \\cdot mm &= 149.400\\ \\mathrm{mm}  \n",
       "\\\\[10pt]\n",
       "V_{Rdc} &= \\left( b_{w} \\cdot z \\cdot k_{c} \\cdot f_{cd} \\cdot \\sin \\left( \\alpha \\right) \\cdot \\cos \\left( \\alpha \\right) \\right) \\\\&= \\left( 149.400\\ \\mathrm{mm} \\cdot 680.000\\ \\mathrm{mm} \\cdot 0.550 \\cdot 22.000\\ \\mathrm{MPa} \\cdot \\sin \\left( 0.436 \\right) \\cdot \\cos \\left( 0.436 \\right) \\right) \\\\&= 470.835\\ \\mathrm{kN}  \\\\[10pt]\n",
       "\\end{aligned}\n",
       "\\]"
      ],
      "text/plain": [
       "<IPython.core.display.Latex object>"
      ]
     },
     "metadata": {},
     "output_type": "display_data"
    }
   ],
   "source": [
    "%%render\n",
    "b_w = 149.4*mm\n",
    "V_Rdc = (b_w * z* k_c* f_cd *sin(alpha)*cos(alpha))"
   ]
  },
  {
   "cell_type": "code",
   "execution_count": 186,
   "metadata": {},
   "outputs": [],
   "source": [
    "def Delta_VRdp(betas):\n",
    "    for beta in betas:\n",
    "        Delta_V_RdP = P_inf * sin(beta)\n",
    "        print(Delta_V_RdP)"
   ]
  },
  {
   "cell_type": "code",
   "execution_count": 189,
   "metadata": {},
   "outputs": [
    {
     "name": "stdout",
     "output_type": "stream",
     "text": [
      "284.381 kN\n",
      "33.774 kN\n",
      "204.149 kN\n",
      "31.529 kN\n",
      "881.535 N\n",
      "30.697 kN\n",
      "204.668 kN\n",
      "34.276 kN\n",
      "274.573 kN\n"
     ]
    }
   ],
   "source": [
    "P_inf = 3457 * 0.85* kN\n",
    "betas=[0.096931,0.011494,0.069531,0.010730,0.000300,0.010447,0.069708,0.011665,0.093578]\n",
    "Delta_VRdp(betas)"
   ]
  },
  {
   "cell_type": "code",
   "execution_count": 138,
   "metadata": {},
   "outputs": [
    {
     "data": {
      "text/latex": [
       "\\[\n",
       "\\begin{aligned}\n",
       "E_{s} &= 205.00\\ \\mathrm{GPa} \\; \n",
       " &f_{sd} &= 390.00\\ \\mathrm{MPa} \\; \n",
       " &\\varepsilon_{ud} &= 0.02 \\; \n",
       "\\\\[10pt]\n",
       " A_{su} &= 1328.00\\ \\mathrm{mm}^{2} \\; \n",
       " &A_{so} &= 2853.00\\ \\mathrm{mm}^{2} \\; \n",
       " &A_{sw} &= 628.00\\ \\mathrm{mm}^{2} \\; \n",
       "\\\\[10pt]\n",
       " s &= 200.00\\ \\mathrm{mm} \\; \n",
       " &\\alpha &= 0.44 \\; \n",
       " &E_{p} &= 195.00\\ \\mathrm{GPa} \\; \n",
       "\\\\[10pt]\n",
       " f_{pd} &= 1.39\\ \\mathrm{GPa} \\; \n",
       " &f_{pk} &= 1.86\\ \\mathrm{GPa} \\; \n",
       " &A_{p} &= 10800.00\\ \\mathrm{mm}^{2} \\; \n",
       "\\\\[10pt]\n",
       " P_{inf} &= 10.66\\ \\mathrm{MN} \\; \n",
       " &P_{0} &= 14.06\\ \\mathrm{MN} \\; \n",
       " &E_{cm} &= 30.00\\ \\mathrm{GPa} \\; \n",
       "\\\\[10pt]\n",
       " f_{cd} &= 22.00\\ \\mathrm{MPa} \\; \n",
       " &\\tau_{cd} &= 1.20\\ \\mathrm{MPa} \\; \n",
       " &h &= 870.00\\ \\mathrm{mm} \\; \n",
       "\\\\[10pt]\n",
       " b_{o} &= 5.00\\ \\mathrm{m} \\; \n",
       " &b_{u} &= 2.35\\ \\mathrm{m} \\; \n",
       " &l &= 43.40\\ \\mathrm{m} \\; \n",
       "\\\\[10pt]\n",
       " c_{nom} &= 45.00\\ \\mathrm{mm} \\; \n",
       " &e_{z} &= 105.00\\ \\mathrm{mm} \\; \n",
       " &\\Sigma_{\\phi_{H}} &= 107.00\\ \\mathrm{mm} \\; \n",
       "\\\\[10pt]\n",
       " k_{H} &= 0.80 \\; \n",
       " &b_{wnom} &= 164.40\\ \\mathrm{mm} \\; \n",
       " &k_{c} &= 0.55 \\; \\;\\textrm{(SIA 262 4.2.1.7)}\n",
       "\\\\[10pt]\n",
       " d_{s} &= 825.00\\ \\mathrm{mm} \\; \n",
       " &b_{r} &= 0.00\\ \\mathrm{m} \\; \\;\\textrm{(Lagerbreite)}\n",
       " &d_{k} &= 770.00\\ \\mathrm{mm} \\; \n",
       "\\\\[10pt]\n",
       " t_{k} &= 96.25\\ \\mathrm{mm} \\; \n",
       " &d_{eff} &= 773.75\\ \\mathrm{mm} \\; \n",
       " &b_{eff} &= 2.25\\ \\mathrm{m} \\; \n",
       "\\\\[10pt]\n",
       " A_{k} &= 1.74\\ \\mathrm{m}^{2} \\; \n",
       " &u_{k} &= 6.05\\ \\mathrm{m} \\;\n",
       "\\end{aligned}\n",
       "\\]"
      ],
      "text/plain": [
       "<IPython.core.display.Latex object>"
      ]
     },
     "metadata": {},
     "output_type": "display_data"
    }
   ],
   "source": [
    "%%render params 2\n",
    "E_s = 205000 *N/mm**2\n",
    "f_sd = 390 *N/mm**2\n",
    "varepsilon_ud = 0.02\n",
    "\n",
    "A_su = 1328 * mm**2\n",
    "A_so = 2853 * mm**2\n",
    "A_sw = 628 *mm**2\n",
    "s = 0.2 *m\n",
    "alpha = 25/180 * pi\n",
    "\n",
    "E_p = 195000 *N/mm**2\n",
    "f_pd = 1390 *N/mm**2\n",
    "f_pk = 1860 *N/mm**2\n",
    "A_p = 4 * 2700 * mm**2\n",
    "P_inf = 10660 * kN\n",
    "P_0 = 14060 * kN\n",
    "\n",
    "E_cm = 30000 * N/mm**2\n",
    "f_cd = 22 * N/mm**2\n",
    "tau_cd = 1.2   *N/mm**2\n",
    "\n",
    "h = 0.87*m\n",
    "b_o = 5 *m\n",
    "b_u = 2.35 *m\n",
    "l = 43.4 * m\n",
    "c_nom = 45*mm\n",
    "e_z = 105 *mm\n",
    "\n",
    "\n",
    "\n",
    "\n",
    "Sigma_phi_H = 107 * mm \n",
    "k_H = 0.8\n",
    "b_wnom = (0.25 * m) - k_H * Sigma_phi_H\n",
    "k_c = 0.55 # SIA 262 4.2.1.7\n",
    "\n",
    "d_s = (h - c_nom) \n",
    "\n",
    "b_r = 0 * mm # Lagerbreite\n",
    "\n",
    "d_k = h - 2*c_nom - 10*mm\n",
    "t_k = d_k/8\n",
    "d_eff = h - t_k\n",
    "b_eff = b_u - t_k\n",
    "A_k = (h-t_k) * (b_u- t_k)\n",
    "u_k = 2*b_eff + 2*d_eff"
   ]
  },
  {
   "cell_type": "code",
   "execution_count": 139,
   "metadata": {},
   "outputs": [
    {
     "name": "stdout",
     "output_type": "stream",
     "text": [
      "[1.46, 9.67, 16.74, 20.67, 21.7, 22.73, 26.66, 33.73, 41.94]\n",
      "     Distanz        ez         x         z  Winkel (z/x)\n",
      "0   1.458265 -0.172661  0.995261 -0.096471      0.096931\n",
      "1   9.670000 -0.442600  0.999945  0.011493      0.011494\n",
      "2  16.741735 -0.129079  0.997612  0.069365      0.069531\n",
      "3  20.670637  0.082647  0.999926  0.010729      0.010730\n",
      "4  21.700000  0.090000  1.000000 -0.000300      0.000300\n",
      "5  22.729363  0.082647  0.999926 -0.010447      0.010447\n",
      "6  26.658265 -0.129079  0.997612 -0.069541      0.069708\n",
      "7  33.730000 -0.434450  0.999945 -0.011664      0.011665\n",
      "8  41.941735 -0.181870  0.995629  0.093169      0.093578\n",
      "0    0.096931\n",
      "1    0.011494\n",
      "2    0.069531\n",
      "3    0.010730\n",
      "4    0.000300\n",
      "5    0.010447\n",
      "6    0.069708\n",
      "7    0.011665\n",
      "8    0.093578\n",
      "Name: Winkel (z/x), dtype: float64\n"
     ]
    }
   ],
   "source": [
    "def spannkräfte_print(input_file, ns):\n",
    "    data = pd.read_csv(input_file, sep=r\"\\s+\")\n",
    "    data = data.drop(columns=[\"radius\", \"Länge\", \"ey\", \"y\", \"P0\"])\n",
    "    # Specificare il passo di interpolazione\n",
    "    global winkel\n",
    "    # Creare un intervallo di distanza uniformemente distribuito\n",
    "    distanza_min = data[\"Distanz\"].min()\n",
    "    distanza_max = data[\"Distanz\"].max()\n",
    "    nuove_distanze = ns\n",
    "\n",
    "    # Estrapolare linearmente i dati\n",
    "    interpolated_data = pd.DataFrame()\n",
    "    for colonna in data.columns:\n",
    "        if colonna == \"Distanz\":  # Mantenere la colonna distanza\n",
    "            interpolated_data[colonna] = nuove_distanze\n",
    "        else:  # Interpolare tutte le altre colonne\n",
    "            interpolated_data[colonna] = np.interp(\n",
    "                nuove_distanze, data[\"Distanz\"], data[colonna]\n",
    "            )\n",
    "    interpolated_data[\"Winkel (z/x)\"] = abs(interpolated_data[\"z\"]/interpolated_data[\"x\"])\n",
    "    interpolated_data = interpolated_data.drop_duplicates()\n",
    "    # Salvare i risultati in un nuovo file\n",
    "    print(interpolated_data)\n",
    "    print(interpolated_data[\"Winkel (z/x)\"])\n",
    "alpha = 25\n",
    "alpha = math.radians(alpha)\n",
    "z_1 = 0.68\n",
    "z_2 = 0.48\n",
    "ns = [0 + z_1 * cot(alpha), 9.67, 18.2 - z_1 * cot(alpha), 21.7 - z_2 * cot(alpha), 21.7, 21.7 + z_2 * cot(alpha), 21.7 +3.5 + z_1 * cot(alpha), 21.7*2 - 9.67, 21.7*2 - (z_1 * cot(alpha))]\n",
    "print([round(d,2) for d in ns])\n",
    "spannkräfte_print(\"Trasformatore csv/tabella.txt\" , ns)\n",
    "\n"
   ]
  },
  {
   "cell_type": "markdown",
   "metadata": {},
   "source": [
    "# Bremskraft"
   ]
  },
  {
   "cell_type": "code",
   "execution_count": 140,
   "metadata": {},
   "outputs": [
    {
     "data": {
      "text/latex": [
       "\\[\n",
       "\\begin{aligned}\n",
       "b_{1} &= 3.00\\ \\mathrm{m} \\; \n",
       " &Q_{k1} &= 300.00\\ \\mathrm{kN} \\; \n",
       " &q_{k1} &= 9.00\\ \\mathrm{kPa} \\; \n",
       "\\\\[10pt]\n",
       " q_{kr} &= 2.50\\ \\mathrm{kPa} \\; \n",
       " &\\alpha_{Q1} &= 0.90 \\; \n",
       " &\\alpha_{q1} &= 0.90 \\; \n",
       "\\\\[10pt]\n",
       " \\alpha_{Q1akt} &= 0.55 \\; \n",
       " &\\alpha_{q1akt} &= 0.55 \\; \n",
       " &\\alpha_{Q1aktD} &= 0.60 \\; \n",
       "\\\\[10pt]\n",
       " \\alpha_{q1aktD} &= 0.60 \\;\n",
       "\\end{aligned}\n",
       "\\]"
      ],
      "text/plain": [
       "<IPython.core.display.Latex object>"
      ]
     },
     "metadata": {},
     "output_type": "display_data"
    }
   ],
   "source": [
    "%%render params 2\n",
    "b_1 = 3 *m\n",
    "Q_k1 = 300 *kN \n",
    "q_k1 = 9.0 *kN/m**2\n",
    "q_kr = 2.5 *kN/m**2\n",
    "alpha_Q1 = 0.9\n",
    "alpha_q1 = 0.9\n",
    "alpha_Q1akt = 0.55\n",
    "alpha_q1akt = 0.55\n",
    "alpha_Q1aktD = 0.6\n",
    "alpha_q1aktD = 0.6\n"
   ]
  },
  {
   "cell_type": "markdown",
   "metadata": {},
   "source": [
    "## SIA 261"
   ]
  },
  {
   "cell_type": "code",
   "execution_count": 141,
   "metadata": {},
   "outputs": [
    {
     "data": {
      "text/latex": [
       "\\[\n",
       "\\begin{aligned}\n",
       "\\mathrm{QA}_{k} &= 1.2 \\cdot \\alpha_{Q1} \\cdot Q_{k1} + 0.1 \\cdot \\alpha_{q1} \\cdot q_{k1} \\cdot b_{1} \\cdot l \\\\&= 1.2 \\cdot 0.90 \\cdot 300.00\\ \\mathrm{kN} + 0.1 \\cdot 0.90 \\cdot 9.00\\ \\mathrm{kPa} \\cdot 3.00\\ \\mathrm{m} \\cdot 43.40\\ \\mathrm{m} \\\\&= 429.46\\ \\mathrm{kN}  \\\\[10pt]\n",
       "\\\\[10pt]\n",
       "\\mathrm{QA}_{k1} &= 1.2 \\cdot \\alpha_{Q1} \\cdot Q_{k1} \\\\&= 1.2 \\cdot 0.90 \\cdot 300.00\\ \\mathrm{kN} \\\\&= 324.00\\ \\mathrm{kN}  \\\\[10pt]\n",
       "\\\\[10pt]\n",
       "\\mathrm{qA}_{k1} &= 0.1 \\cdot \\alpha_{q1} \\cdot q_{k1} \\cdot b_{1} \\cdot l \\\\&= 0.1 \\cdot 0.90 \\cdot 9.00\\ \\mathrm{kPa} \\cdot 3.00\\ \\mathrm{m} \\cdot 43.40\\ \\mathrm{m} \\\\&= 105.46\\ \\mathrm{kN}  \\\\[10pt]\n",
       "\\end{aligned}\n",
       "\\]"
      ],
      "text/plain": [
       "<IPython.core.display.Latex object>"
      ]
     },
     "metadata": {},
     "output_type": "display_data"
    }
   ],
   "source": [
    "%%render long 2\n",
    "QA_k = 1.2 * alpha_Q1 * Q_k1 + 0.1 * alpha_q1 * q_k1 * b_1 * l\n",
    "QA_k1 = 1.2 * alpha_Q1 * Q_k1\n",
    "qA_k1 = 0.1 * alpha_q1 * q_k1 * b_1 * l"
   ]
  },
  {
   "cell_type": "markdown",
   "metadata": {},
   "source": [
    "## SIA 269/1"
   ]
  },
  {
   "cell_type": "code",
   "execution_count": 142,
   "metadata": {},
   "outputs": [
    {
     "data": {
      "text/latex": [
       "\\[\n",
       "\\begin{aligned}\n",
       "\\mathrm{QA}_{k} &= 1.2 \\cdot \\alpha_{Q1akt} \\cdot Q_{k1} + 0.1 \\cdot \\alpha_{q1akt} \\cdot q_{k1} \\cdot b_{1} \\cdot l  = 1.2 \\cdot 0.55 \\cdot 300.00\\ \\mathrm{kN} + 0.1 \\cdot 0.55 \\cdot 9.00\\ \\mathrm{kPa} \\cdot 3.00\\ \\mathrm{m} \\cdot 43.40\\ \\mathrm{m} &= 262.45\\ \\mathrm{kN}  \n",
       "\\\\[10pt]\n",
       "\\mathrm{QA}_{kakt} &= 0.8 \\cdot Q_{k1} + 0.07 \\cdot q_{k1} \\cdot b_{1} \\cdot l  = 0.8 \\cdot 300.00\\ \\mathrm{kN} + 0.07 \\cdot 9.00\\ \\mathrm{kPa} \\cdot 3.00\\ \\mathrm{m} \\cdot 43.40\\ \\mathrm{m} &= 322.03\\ \\mathrm{kN}  \n",
       "\\\\[10pt]\n",
       "n &= \\frac{ \\mathrm{QA}_{kakt} }{ \\mathrm{QA}_{k} }  = \\frac{ 322.03\\ \\mathrm{kN} }{ 262.45\\ \\mathrm{kN} } &= 1.23  \n",
       "\\end{aligned}\n",
       "\\]"
      ],
      "text/plain": [
       "<IPython.core.display.Latex object>"
      ]
     },
     "metadata": {},
     "output_type": "display_data"
    }
   ],
   "source": [
    "%%render short 2\n",
    "QA_k = 1.2 * alpha_Q1akt * Q_k1 + 0.1 * alpha_q1akt * q_k1 * b_1 * l\n",
    "\n",
    "QA_kakt = 0.8 * Q_k1 + 0.07 * q_k1 * b_1 * l\n",
    "\n",
    "n = QA_kakt/ QA_k"
   ]
  },
  {
   "cell_type": "markdown",
   "metadata": {},
   "source": [
    "### 269/1 Durchstanzen"
   ]
  },
  {
   "cell_type": "code",
   "execution_count": 143,
   "metadata": {},
   "outputs": [
    {
     "data": {
      "text/latex": [
       "\\[\n",
       "\\begin{aligned}\n",
       "\\mathrm{QA}_{k} &= 1.2 \\cdot \\alpha_{Q1aktD} \\cdot Q_{k1} + 0.1 \\cdot \\alpha_{q1aktD} \\cdot q_{k1} \\cdot b_{1} \\cdot l \\\\&= 1.2 \\cdot 0.60000 \\cdot 300.00000\\ \\mathrm{kN} + 0.1 \\cdot 0.60000 \\cdot 9.00000\\ \\mathrm{kPa} \\cdot 3.00000\\ \\mathrm{m} \\cdot 43.40000\\ \\mathrm{m} \\\\&= 286.30800\\ \\mathrm{kN}  \\\\[10pt]\n",
       "\\\\[10pt]\n",
       "\\mathrm{QA}_{kakt} &= 0.8 \\cdot Q_{k1} + 0.07 \\cdot q_{k1} \\cdot b_{1} \\cdot l \\\\&= 0.8 \\cdot 300.00000\\ \\mathrm{kN} + 0.07 \\cdot 9.00000\\ \\mathrm{kPa} \\cdot 3.00000\\ \\mathrm{m} \\cdot 43.40000\\ \\mathrm{m} \\\\&= 322.02600\\ \\mathrm{kN}  \\\\[10pt]\n",
       "\\\\[10pt]\n",
       "n &= \\frac{ \\mathrm{QA}_{kakt} }{ \\mathrm{QA}_{k} } \\\\&= \\frac{ 322.02600\\ \\mathrm{kN} }{ 286.30800\\ \\mathrm{kN} } \\\\&= 1.12475  \\\\[10pt]\n",
       "\\end{aligned}\n",
       "\\]"
      ],
      "text/plain": [
       "<IPython.core.display.Latex object>"
      ]
     },
     "metadata": {},
     "output_type": "display_data"
    }
   ],
   "source": [
    "%%render long 5\n",
    "QA_k = 1.2 * alpha_Q1aktD * Q_k1 + 0.1 * alpha_q1aktD * q_k1 * b_1 * l\n",
    "\n",
    "QA_kakt = 0.8 * Q_k1 + 0.07 * q_k1 * b_1 * l\n",
    "\n",
    "n = QA_kakt/ QA_k"
   ]
  },
  {
   "cell_type": "markdown",
   "metadata": {},
   "source": [
    "# Feld (NS 3)"
   ]
  },
  {
   "cell_type": "markdown",
   "metadata": {},
   "source": [
    "## Biegewiderstand Elastisch"
   ]
  },
  {
   "cell_type": "code",
   "execution_count": 144,
   "metadata": {},
   "outputs": [
    {
     "data": {
      "text/latex": [
       "\\[\n",
       "\\begin{aligned}\n",
       "M_{yEd} &= 6.66\\ \\mathrm{MN} \\cdot \\mathrm{m} \\; \n",
       " &N_{Ed} &= 520.52\\ \\mathrm{kN} \\; \n",
       " &V_{Ed} &= -57.31\\ \\mathrm{kN} \\; \n",
       "\\\\[10pt]\n",
       " T_{Ed} &= -6.49\\ \\mathrm{kN} \\cdot \\mathrm{m} \\; \n",
       " &d_{p} &= 760.00\\ \\mathrm{mm} \\; \n",
       " &\\beta_{p} &= 0.00 \\; \n",
       "\\\\[10pt]\n",
       " z &= 700.00\\ \\mathrm{mm} \\; \\;\\textrm{(aus fagus)}\n",
       " &z_{sup} &= 330.00\\ \\mathrm{mm} \\; \n",
       " &z_{inf} &= 540.00\\ \\mathrm{mm} \\; \n",
       "\\\\[10pt]\n",
       " \\mathrm{abstand} &= 1.50\\ \\mathrm{m} \\; \n",
       " &\\varepsilon_{tot} &= 0.01 \\; \n",
       " &\\varepsilon_{c} &= 0.00 \\; \n",
       "\\\\[10pt]\n",
       "\\end{aligned}\n",
       "\\]"
      ],
      "text/plain": [
       "<IPython.core.display.Latex object>"
      ]
     },
     "metadata": {},
     "output_type": "display_data"
    }
   ],
   "source": [
    "%%render params 2\n",
    "M_yEd = 6661.68 *kN*m\n",
    "N_Ed = 520.52 *kN\n",
    "V_Ed = -57.31 *kN\n",
    "T_Ed = -6.49 *kN*m\n",
    "\n",
    "d_p = 0.76 * m\n",
    "beta_p = 0/180* pi\n",
    "\n",
    "z = 700 * mm #aus fagus\n",
    "z_sup = 0.33 * m\n",
    "z_inf = 0.54 * m\n",
    "abstand = z * (cot(alpha))\n",
    "\n",
    "varepsilon_tot = 0.014\n",
    "varepsilon_c = 0.003"
   ]
  },
  {
   "cell_type": "code",
   "execution_count": 145,
   "metadata": {},
   "outputs": [
    {
     "data": {
      "text/latex": [
       "\\[\n",
       "\\begin{aligned}\n",
       "F_{tdVz} &= V_{Ed} \\cdot \\frac{ \\operatorname{cot} \\left( \\alpha \\right) }{ 2 }  = -57.31\\ \\mathrm{kN} \\cdot \\frac{ \\operatorname{cot} \\left( 0.44 \\right) }{ 2 } &= -61.45\\ \\mathrm{kN}  \n",
       "\\\\[10pt]\n",
       "F_{TdTx} &= \\frac{ T_{Ed} }{ 2 \\cdot A_{k} } \\cdot u_{k} \\cdot \\operatorname{cot} \\left( \\alpha \\right)  = \\frac{ -6.49\\ \\mathrm{kN} \\cdot \\mathrm{m} }{ 2 \\cdot 1.74\\ \\mathrm{m}^{2} } \\cdot 6.05\\ \\mathrm{m} \\cdot \\operatorname{cot} \\left( 0.44 \\right) &= -24.16\\ \\mathrm{kN}  \n",
       "\\\\[10pt]\n",
       "N_{EdEff} &= N_{Ed} + F_{TdTx}  = 520.52\\ \\mathrm{kN} + -24.16\\ \\mathrm{kN} &= 496.36\\ \\mathrm{kN}  \n",
       "\\\\[10pt]\n",
       "M_{EdEff} &= M_{yEd} + F_{tdVz} \\cdot e_{z}  = 6.66\\ \\mathrm{MN} \\cdot \\mathrm{m} + -61.45\\ \\mathrm{kN} \\cdot 105.00\\ \\mathrm{mm} &= 6.66\\ \\mathrm{MN} \\cdot \\mathrm{m}  \n",
       "\\end{aligned}\n",
       "\\]"
      ],
      "text/plain": [
       "<IPython.core.display.Latex object>"
      ]
     },
     "metadata": {},
     "output_type": "display_data"
    }
   ],
   "source": [
    "%%render 2\n",
    "F_tdVz = V_Ed * cot(alpha) /2\n",
    "F_TdTx = T_Ed/(2* A_k) * u_k * cot(alpha)\n",
    "N_EdEff = N_Ed + F_TdTx\n",
    "M_EdEff = M_yEd + F_tdVz * e_z"
   ]
  },
  {
   "cell_type": "code",
   "execution_count": 146,
   "metadata": {},
   "outputs": [
    {
     "data": {
      "text/latex": [
       "\\[\n",
       "\\begin{aligned}\n",
       "\\varepsilon_{p} &= \\left( \\frac{ 0.677 \\cdot f_{pd} \\cdot \\left( \\frac{ P_{inf} }{ P_{0} } \\right) }{ E_{p} } \\right) + \\left( \\varepsilon_{tot} \\cdot \\left( \\frac{ d_{p} }{ h } \\right) \\right) \\\\&= \\left( \\frac{ 0.677 \\cdot 1.39\\ \\mathrm{GPa} \\cdot \\left( \\frac{ 10.66\\ \\mathrm{MN} }{ 14.06\\ \\mathrm{MN} } \\right) }{ 195.00\\ \\mathrm{GPa} } \\right) + \\left( 0.01 \\cdot \\left( \\frac{ 760.00\\ \\mathrm{mm} }{ 870.00\\ \\mathrm{mm} } \\right) \\right) \\\\&= 0.02  \\\\[10pt]\n",
       "\\\\[10pt]\n",
       "\\varepsilon_{s} &= \\left( \\varepsilon_{tot} \\cdot \\left( \\frac{ d_{s} }{ h } \\right) \\right)  = \\left( 0.01 \\cdot \\left( \\frac{ 825.00\\ \\mathrm{mm} }{ 870.00\\ \\mathrm{mm} } \\right) \\right) &= 0.01  \n",
       "\\\\[10pt]\n",
       "\\sigma_{p} &= \\varepsilon_{p} \\cdot E_{p}  = 0.02 \\cdot 195.00\\ \\mathrm{GPa} &= 1.39\\ \\mathrm{GPa}  \n",
       "\\\\[10pt]\n",
       "\\sigma_{s} &= \\varepsilon_{s} \\cdot E_{s}  = 0.01 \\cdot 205.00\\ \\mathrm{GPa} &= 390.00\\ \\mathrm{MPa}  \n",
       "\\\\[10pt]\n",
       "\\sigma_{p} &= 1.39\\ \\mathrm{GPa} \\; \n",
       "\\\\[10pt]\n",
       "\\sigma_{s} &= 390.00\\ \\mathrm{MPa} \\; \n",
       "\\end{aligned}\n",
       "\\]"
      ],
      "text/plain": [
       "<IPython.core.display.Latex object>"
      ]
     },
     "metadata": {},
     "output_type": "display_data"
    }
   ],
   "source": [
    "%%render 2\n",
    "varepsilon_p = ((0.677 * f_pd * (P_inf / P_0))/E_p ) + (varepsilon_tot * (d_p / h))\n",
    "varepsilon_s = (varepsilon_tot * (d_s / h))\n",
    "sigma_p = varepsilon_p * E_p\n",
    "sigma_s = varepsilon_s * E_s\n",
    "if sigma_p > f_pd:\n",
    "     sigma_p = f_pd\n",
    "if sigma_s > f_sd:\n",
    "     sigma_s = f_sd  "
   ]
  },
  {
   "cell_type": "code",
   "execution_count": 147,
   "metadata": {},
   "outputs": [
    {
     "data": {
      "text/latex": [
       "\\[\n",
       "\\begin{aligned}\n",
       "Max_{\\varepsilon_{p}} &= \\varepsilon_{p} \\gt \\varepsilon_{ud}  = 0.0159 \\gt 0.0200 &= False  \n",
       "\\\\[10pt]\n",
       "Max_{\\varepsilon_{s}} &= \\varepsilon_{s} \\gt \\varepsilon_{ud}  = 0.0133 \\gt 0.0200 &= False  \n",
       "\\end{aligned}\n",
       "\\]"
      ],
      "text/plain": [
       "<IPython.core.display.Latex object>"
      ]
     },
     "metadata": {},
     "output_type": "display_data"
    }
   ],
   "source": [
    "%%render short 4\n",
    "Max_varepsilon_p = varepsilon_p > varepsilon_ud\n",
    "Max_varepsilon_s = varepsilon_s > varepsilon_ud\n",
    "#sigma_so = varepsilon_so *E_s"
   ]
  },
  {
   "cell_type": "code",
   "execution_count": 148,
   "metadata": {},
   "outputs": [
    {
     "data": {
      "text/latex": [
       "\\[\n",
       "\\begin{aligned}\n",
       "Z_{sdu} &= \\sigma_{s} \\cdot A_{su}  = 390.00\\ \\mathrm{MPa} \\cdot 1328.00\\ \\mathrm{mm}^{2} &= 517.92\\ \\mathrm{kN}  \n",
       "\\\\[10pt]\n",
       "Z_{pd} &= \\sigma_{p} \\cdot A_{p}  = 1.39\\ \\mathrm{GPa} \\cdot 10800.00\\ \\mathrm{mm}^{2} &= 15.01\\ \\mathrm{MN}  \n",
       "\\\\[10pt]\n",
       "x &= \\left( \\frac{ h \\cdot \\varepsilon_{c} }{ \\varepsilon_{tot} + \\varepsilon_{c} } \\right)  = \\left( \\frac{ 870.00\\ \\mathrm{mm} \\cdot 0.00 }{ 0.01 + 0.00 } \\right) &= 153.53\\ \\mathrm{mm}  \n",
       "\\end{aligned}\n",
       "\\]"
      ],
      "text/plain": [
       "<IPython.core.display.Latex object>"
      ]
     },
     "metadata": {},
     "output_type": "display_data"
    }
   ],
   "source": [
    "%%render 2\n",
    "Z_sdu = sigma_s * A_su\n",
    "Z_pd = sigma_p * A_p\n",
    "x = ((h*varepsilon_c)/(varepsilon_tot + varepsilon_c))"
   ]
  },
  {
   "cell_type": "code",
   "execution_count": 149,
   "metadata": {},
   "outputs": [
    {
     "data": {
      "text/latex": [
       "\\[\n",
       "\\begin{aligned}\n",
       "D_{cd} &= 14.35\\ \\mathrm{MN} \\; \n",
       "\\\\[10pt]\n",
       "Z_{tot} &= Z_{sdu} + Z_{pd} \\\\&= 517.92\\ \\mathrm{kN} + 15.01\\ \\mathrm{MN} \\\\&= 15.53\\ \\mathrm{MN}  \\\\[10pt]\n",
       "\\\\[10pt]\n",
       "M_{Rd} &= D_{cd} \\cdot \\left( z_{sup} - 0.425 \\cdot x \\right) + \\left( d_{s} - z_{sup} \\right) \\cdot Z_{sdu} + Z_{pd} \\cdot \\left( d_{p} - z_{sup} \\right) \\\\&= 14.35\\ \\mathrm{MN} \\cdot \\left( 330.00\\ \\mathrm{mm} - 0.425 \\cdot 153.53\\ \\mathrm{mm} \\right) + \\left( 825.00\\ \\mathrm{mm} - 330.00\\ \\mathrm{mm} \\right) \\cdot 517.92\\ \\mathrm{kN} + 15.01\\ \\mathrm{MN} \\cdot \\left( 760.00\\ \\mathrm{mm} - 330.00\\ \\mathrm{mm} \\right) \\\\&= 10.51\\ \\mathrm{MN} \\cdot \\mathrm{m}  \\\\[10pt]\n",
       "\\\\[10pt]\n",
       "n &= \\frac{ M_{Rd} }{ M_{EdEff} } \\\\&= \\frac{ 10.51\\ \\mathrm{MN} \\cdot \\mathrm{m} }{ 6.66\\ \\mathrm{MN} \\cdot \\mathrm{m} } \\\\&= 1.58  \\\\[10pt]\n",
       "\\\\[10pt]\n",
       "\\mathrm{Verformungsv} &= \\frac{ x }{ d_{s} } \\\\&= \\frac{ 153.53\\ \\mathrm{mm} }{ 825.00\\ \\mathrm{mm} } \\\\&= 0.19  \\\\[10pt]\n",
       "\\end{aligned}\n",
       "\\]"
      ],
      "text/plain": [
       "<IPython.core.display.Latex object>"
      ]
     },
     "metadata": {},
     "output_type": "display_data"
    }
   ],
   "source": [
    "%%render Long  2\n",
    "D_cd = (0.85*x * b_o * f_cd)\n",
    "Z_tot = Z_sdu + Z_pd\n",
    "M_Rd = D_cd * (z_sup - 0.425 * x) + (d_s - z_sup) * Z_sdu + Z_pd * (d_p - z_sup)\n",
    "n = M_Rd/ M_EdEff\n",
    "Verformungsv = x/d_s"
   ]
  },
  {
   "cell_type": "markdown",
   "metadata": {},
   "source": [
    "# Stütze (NS 6)"
   ]
  },
  {
   "cell_type": "markdown",
   "metadata": {},
   "source": [
    "## Biegewiderstand Elastisch"
   ]
  },
  {
   "cell_type": "code",
   "execution_count": 150,
   "metadata": {},
   "outputs": [
    {
     "data": {
      "text/latex": [
       "\\[\n",
       "\\begin{aligned}\n",
       "M_{yEd} &= 5.61\\ \\mathrm{MN} \\cdot \\mathrm{m} \\; \n",
       " &N_{Ed} &= 642.00\\ \\mathrm{kN} \\; \n",
       " &V_{Ed} &= 0.00\\ \\mathrm{N} \\; \n",
       "\\\\[10pt]\n",
       " T_{Ed} &= 719.00\\ \\mathrm{kN} \\cdot \\mathrm{m} \\; \n",
       " &d_{p} &= 645.00\\ \\mathrm{mm} \\; \n",
       " &\\beta_{p} &= 0.00 \\; \n",
       "\\\\[10pt]\n",
       " z &= 490.00\\ \\mathrm{mm} \\; \\;\\textrm{(aus fagus)}\n",
       " &z_{sup} &= 360.00\\ \\mathrm{mm} \\; \n",
       " &z_{inf} &= 510.00\\ \\mathrm{mm} \\; \n",
       "\\\\[10pt]\n",
       " \\mathrm{abstand} &= 1.05\\ \\mathrm{m} \\; \n",
       " &\\varepsilon_{c} &= 0.00 \\;\n",
       "\\end{aligned}\n",
       "\\]"
      ],
      "text/plain": [
       "<IPython.core.display.Latex object>"
      ]
     },
     "metadata": {},
     "output_type": "display_data"
    }
   ],
   "source": [
    "%%render params 2\n",
    "M_yEd = 5608 *kN*m\n",
    "N_Ed = 642 *kN\n",
    "V_Ed = 0 *kN\n",
    "T_Ed = 719 *kN*m\n",
    "\n",
    "d_p = 645 *mm\n",
    "beta_p = 0/180* pi\n",
    "\n",
    "z = 0.49 * m #aus fagus\n",
    "z_sup = 0.36 * m\n",
    "z_inf = 0.51 * m\n",
    "abstand = z * (cot(alpha))\n",
    "\n",
    "varepsilon_c = 0.003"
   ]
  },
  {
   "cell_type": "code",
   "execution_count": 151,
   "metadata": {},
   "outputs": [
    {
     "data": {
      "text/latex": [
       "\\[\n",
       "\\begin{aligned}\n",
       "F_{tdVz} &= V_{Ed} \\cdot \\frac{ \\operatorname{cot} \\left( \\alpha \\right) }{ 2 }  = 0.00\\ \\mathrm{N} \\cdot \\frac{ \\operatorname{cot} \\left( 0.44 \\right) }{ 2 } &= 0.00\\ \\mathrm{N}  \n",
       "\\\\[10pt]\n",
       "F_{TdTx} &= \\frac{ T_{Ed} }{ 2 \\cdot A_{k} } \\cdot u_{k} \\cdot \\operatorname{cot} \\left( \\alpha \\right)  = \\frac{ 719.00\\ \\mathrm{kN} \\cdot \\mathrm{m} }{ 2 \\cdot 1.74\\ \\mathrm{m}^{2} } \\cdot 6.05\\ \\mathrm{m} \\cdot \\operatorname{cot} \\left( 0.44 \\right) &= 2.68\\ \\mathrm{MN}  \n",
       "\\\\[10pt]\n",
       "N_{EdEff} &= N_{Ed} + F_{TdTx}  = 642.00\\ \\mathrm{kN} + 2.68\\ \\mathrm{MN} &= 3.32\\ \\mathrm{MN}  \n",
       "\\\\[10pt]\n",
       "M_{EdEff} &= M_{yEd} + F_{tdVz} \\cdot e_{z}  = 5.61\\ \\mathrm{MN} \\cdot \\mathrm{m} + 0.00\\ \\mathrm{N} \\cdot 105.00\\ \\mathrm{mm} &= 5.61\\ \\mathrm{MN} \\cdot \\mathrm{m}  \n",
       "\\end{aligned}\n",
       "\\]"
      ],
      "text/plain": [
       "<IPython.core.display.Latex object>"
      ]
     },
     "metadata": {},
     "output_type": "display_data"
    }
   ],
   "source": [
    "%%render 2\n",
    "F_tdVz = V_Ed * cot(alpha) /2\n",
    "F_TdTx = T_Ed/(2* A_k) * u_k * cot(alpha)\n",
    "N_EdEff = N_Ed + F_TdTx\n",
    "M_EdEff = M_yEd + F_tdVz * e_z"
   ]
  },
  {
   "cell_type": "code",
   "execution_count": 152,
   "metadata": {},
   "outputs": [
    {
     "data": {
      "text/latex": [
       "\\[\n",
       "\\begin{aligned}\n",
       "x &= \\frac{ A_{so} \\cdot f_{sd} + A_{p} \\cdot f_{pd} - N_{EdEff} }{ 0.85 \\cdot b_{u} \\cdot f_{cd} }  = \\frac{ 2853.000\\ \\mathrm{mm}^{2} \\cdot 390.000\\ \\mathrm{MPa} + 10800.000\\ \\mathrm{mm}^{2} \\cdot 1.390\\ \\mathrm{GPa} - 3.319\\ \\mathrm{MN} }{ 0.85 \\cdot 2.350\\ \\mathrm{m} \\cdot 22.000\\ \\mathrm{MPa} } &= 291.404\\ \\mathrm{mm}  \n",
       "\\\\[10pt]\n",
       "\\varepsilon_{tot} &= \\left( \\frac{ \\varepsilon_{c} }{ x } \\right) \\cdot \\left( h - x \\right)  = \\left( \\frac{ 0.003 }{ 291.404\\ \\mathrm{mm} } \\right) \\cdot \\left( 870.000\\ \\mathrm{mm} - 291.404\\ \\mathrm{mm} \\right) &= 0.006  \n",
       "\\end{aligned}\n",
       "\\]"
      ],
      "text/plain": [
       "<IPython.core.display.Latex object>"
      ]
     },
     "metadata": {},
     "output_type": "display_data"
    }
   ],
   "source": [
    "%%render\n",
    "x = (A_so * f_sd + A_p * f_pd - N_EdEff)/ (0.85*b_u*f_cd)\n",
    "varepsilon_tot = (varepsilon_c/x) *(h - x)"
   ]
  },
  {
   "cell_type": "code",
   "execution_count": 153,
   "metadata": {},
   "outputs": [
    {
     "data": {
      "text/latex": [
       "\\[\n",
       "\\begin{aligned}\n",
       "\\varepsilon_{p} &= \\left( \\frac{ 0.677 \\cdot f_{pd} \\cdot \\left( \\frac{ P_{inf} }{ P_{0} } \\right) }{ E_{p} } \\right) + \\left( \\varepsilon_{tot} \\cdot \\left( \\frac{ d_{p} }{ h } \\right) \\right) \\\\&= \\left( \\frac{ 0.677 \\cdot 1.39\\ \\mathrm{GPa} \\cdot \\left( \\frac{ 10.66\\ \\mathrm{MN} }{ 14.06\\ \\mathrm{MN} } \\right) }{ 195.00\\ \\mathrm{GPa} } \\right) + \\left( 0.01 \\cdot \\left( \\frac{ 645.00\\ \\mathrm{mm} }{ 870.00\\ \\mathrm{mm} } \\right) \\right) \\\\&= 0.01  \\\\[10pt]\n",
       "\\\\[10pt]\n",
       "\\varepsilon_{s} &= \\left( \\varepsilon_{tot} \\cdot \\left( \\frac{ d_{s} }{ h } \\right) \\right)  = \\left( 0.01 \\cdot \\left( \\frac{ 825.00\\ \\mathrm{mm} }{ 870.00\\ \\mathrm{mm} } \\right) \\right) &= 0.01  \n",
       "\\\\[10pt]\n",
       "\\sigma_{p} &= \\varepsilon_{p} \\cdot E_{p}  = 0.01 \\cdot 195.00\\ \\mathrm{GPa} &= 1.39\\ \\mathrm{GPa}  \n",
       "\\\\[10pt]\n",
       "\\sigma_{s} &= \\varepsilon_{s} \\cdot E_{s}  = 0.01 \\cdot 205.00\\ \\mathrm{GPa} &= 390.00\\ \\mathrm{MPa}  \n",
       "\\\\[10pt]\n",
       "\\sigma_{p} &= 1.39\\ \\mathrm{GPa} \\; \n",
       "\\\\[10pt]\n",
       "\\sigma_{s} &= 390.00\\ \\mathrm{MPa} \\; \n",
       "\\end{aligned}\n",
       "\\]"
      ],
      "text/plain": [
       "<IPython.core.display.Latex object>"
      ]
     },
     "metadata": {},
     "output_type": "display_data"
    }
   ],
   "source": [
    "%%render 2\n",
    "varepsilon_p = ((0.677 * f_pd * (P_inf / P_0))/E_p ) + (varepsilon_tot * (d_p / h))\n",
    "varepsilon_s = (varepsilon_tot * (d_s / h))\n",
    "sigma_p = varepsilon_p * E_p\n",
    "sigma_s = varepsilon_s * E_s\n",
    "if sigma_p > f_pd:\n",
    "     sigma_p = f_pd\n",
    "if sigma_s > f_sd:\n",
    "     sigma_s = f_sd  "
   ]
  },
  {
   "cell_type": "code",
   "execution_count": 154,
   "metadata": {},
   "outputs": [
    {
     "data": {
      "text/latex": [
       "\\[\n",
       "\\begin{aligned}\n",
       "Max_{\\varepsilon_{p}} &= \\varepsilon_{p} \\gt \\varepsilon_{ud}  = 0.00807 \\gt 0.02000 &= False  \n",
       "\\\\[10pt]\n",
       "Max_{\\varepsilon_{s}} &= \\varepsilon_{s} \\gt \\varepsilon_{ud}  = 0.00565 \\gt 0.02000 &= False  \n",
       "\\end{aligned}\n",
       "\\]"
      ],
      "text/plain": [
       "<IPython.core.display.Latex object>"
      ]
     },
     "metadata": {},
     "output_type": "display_data"
    }
   ],
   "source": [
    "%%render short 5\n",
    "Max_varepsilon_p = varepsilon_p > varepsilon_ud\n",
    "Max_varepsilon_s = varepsilon_s > varepsilon_ud"
   ]
  },
  {
   "cell_type": "code",
   "execution_count": 155,
   "metadata": {},
   "outputs": [
    {
     "data": {
      "text/latex": [
       "\\[\n",
       "\\begin{aligned}\n",
       "Z_{sdo} &= \\sigma_{s} \\cdot A_{so}  = 390.00\\ \\mathrm{MPa} \\cdot 2853.00\\ \\mathrm{mm}^{2} &= 1.11\\ \\mathrm{MN}  \n",
       "\\\\[10pt]\n",
       "Z_{pd} &= \\sigma_{p} \\cdot A_{p}  = 1.39\\ \\mathrm{GPa} \\cdot 10800.00\\ \\mathrm{mm}^{2} &= 15.01\\ \\mathrm{MN}  \n",
       "\\\\[10pt]\n",
       "x &= \\left( \\frac{ h \\cdot \\varepsilon_{c} }{ \\varepsilon_{tot} + \\varepsilon_{c} } \\right)  = \\left( \\frac{ 870.00\\ \\mathrm{mm} \\cdot 0.00 }{ 0.01 + 0.00 } \\right) &= 291.40\\ \\mathrm{mm}  \n",
       "\\end{aligned}\n",
       "\\]"
      ],
      "text/plain": [
       "<IPython.core.display.Latex object>"
      ]
     },
     "metadata": {},
     "output_type": "display_data"
    }
   ],
   "source": [
    "%%render 2\n",
    "Z_sdo = sigma_s * A_so\n",
    "Z_pd = sigma_p * A_p\n",
    "x = ((h*varepsilon_c)/(varepsilon_tot + varepsilon_c))"
   ]
  },
  {
   "cell_type": "code",
   "execution_count": 156,
   "metadata": {},
   "outputs": [
    {
     "data": {
      "text/latex": [
       "\\[\n",
       "\\begin{aligned}\n",
       "D_{cd} &= 12.81\\ \\mathrm{MN} \\; \n",
       "\\\\[10pt]\n",
       "Z_{tot} &= Z_{sdo} + Z_{pd} \\\\&= 1.11\\ \\mathrm{MN} + 15.01\\ \\mathrm{MN} \\\\&= 16.12\\ \\mathrm{MN}  \\\\[10pt]\n",
       "\\\\[10pt]\n",
       "M_{Rd} &= D_{cd} \\cdot \\left( z_{inf} - 0.425 \\cdot x \\right) + \\left( d_{s} - z_{inf} \\right) \\cdot Z_{sdo} + Z_{pd} \\cdot \\left( d_{p} - z_{inf} \\right) \\\\&= 12.81\\ \\mathrm{MN} \\cdot \\left( 510.00\\ \\mathrm{mm} - 0.425 \\cdot 291.40\\ \\mathrm{mm} \\right) + \\left( 825.00\\ \\mathrm{mm} - 510.00\\ \\mathrm{mm} \\right) \\cdot 1.11\\ \\mathrm{MN} + 15.01\\ \\mathrm{MN} \\cdot \\left( 645.00\\ \\mathrm{mm} - 510.00\\ \\mathrm{mm} \\right) \\\\&= 7.32\\ \\mathrm{MN} \\cdot \\mathrm{m}  \\\\[10pt]\n",
       "\\\\[10pt]\n",
       "n &= \\frac{ M_{Rd} }{ M_{EdEff} } \\\\&= \\frac{ 7.32\\ \\mathrm{MN} \\cdot \\mathrm{m} }{ 5.61\\ \\mathrm{MN} \\cdot \\mathrm{m} } \\\\&= 1.31  \\\\[10pt]\n",
       "\\\\[10pt]\n",
       "\\mathrm{Verformungsv} &= \\frac{ x }{ d_{s} } \\\\&= \\frac{ 291.40\\ \\mathrm{mm} }{ 825.00\\ \\mathrm{mm} } \\\\&= 0.35  \\\\[10pt]\n",
       "\\end{aligned}\n",
       "\\]"
      ],
      "text/plain": [
       "<IPython.core.display.Latex object>"
      ]
     },
     "metadata": {},
     "output_type": "display_data"
    }
   ],
   "source": [
    "%%render  Long  2\n",
    "D_cd = (0.85*x * b_u * f_cd)\n",
    "Z_tot = Z_sdo + Z_pd\n",
    "M_Rd = D_cd * (z_inf - 0.425 * x) + (d_s - z_inf) * Z_sdo + Z_pd * (d_p - z_inf)\n",
    "n = M_Rd/ M_EdEff\n",
    "Verformungsv = x/d_s"
   ]
  },
  {
   "cell_type": "markdown",
   "metadata": {},
   "source": [
    "# Nebem Stütze (NS 5)"
   ]
  },
  {
   "cell_type": "markdown",
   "metadata": {},
   "source": [
    "## Biegewiederstand"
   ]
  },
  {
   "cell_type": "code",
   "execution_count": 157,
   "metadata": {},
   "outputs": [
    {
     "data": {
      "text/latex": [
       "\\[\n",
       "\\begin{aligned}\n",
       "M_{yEd} &= 4.04\\ \\mathrm{MN} \\cdot \\mathrm{m} \\; \n",
       " &N_{Ed} &= 642.00\\ \\mathrm{kN} \\; \n",
       " &V_{Ed} &= 1.97\\ \\mathrm{MN} \\; \n",
       "\\\\[10pt]\n",
       " T_{Ed} &= 644.00\\ \\mathrm{kN} \\cdot \\mathrm{m} \\; \n",
       " &d_{p} &= 640.00\\ \\mathrm{mm} \\; \n",
       " &z &= 290.00\\ \\mathrm{mm} \\; \\;\\textrm{(aus fagus)}\n",
       "\\\\[10pt]\n",
       " z_{sup} &= 330.00\\ \\mathrm{mm} \\; \n",
       " &z_{inf} &= 540.00\\ \\mathrm{mm} \\; \n",
       " &\\mathrm{abstand} &= 621.91\\ \\mathrm{mm} \\; \n",
       "\\\\[10pt]\n",
       " \\varepsilon_{tot} &= 0.01 \\; \n",
       " &\\varepsilon_{c} &= 0.00 \\;\n",
       "\\end{aligned}\n",
       "\\]"
      ],
      "text/plain": [
       "<IPython.core.display.Latex object>"
      ]
     },
     "metadata": {},
     "output_type": "display_data"
    }
   ],
   "source": [
    "%%render params 2\n",
    "M_yEd = 4039 *kN*m\n",
    "N_Ed = 642 *kN\n",
    "V_Ed = 1966 *kN\n",
    "T_Ed = 644 *kN*m\n",
    "\n",
    "d_p = 0.64 * m\n",
    "\n",
    "z = 0.29 * m #aus fagus\n",
    "z_sup = 0.33 * m\n",
    "z_inf = 0.54 * m\n",
    "abstand = z * (cot(alpha))\n",
    "\n",
    "varepsilon_tot = 0.0052\n",
    "varepsilon_c = 0.003"
   ]
  },
  {
   "cell_type": "code",
   "execution_count": 158,
   "metadata": {},
   "outputs": [
    {
     "data": {
      "text/latex": [
       "\\[\n",
       "\\begin{aligned}\n",
       "F_{tdVz} &= V_{Ed} \\cdot \\frac{ \\operatorname{cot} \\left( \\alpha \\right) }{ 2 }  = 1.97\\ \\mathrm{MN} \\cdot \\frac{ \\operatorname{cot} \\left( 0.44 \\right) }{ 2 } &= 2.11\\ \\mathrm{MN}  \n",
       "\\\\[10pt]\n",
       "F_{TdTx} &= \\frac{ T_{Ed} }{ 2 \\cdot A_{k} } \\cdot u_{k} \\cdot \\operatorname{cot} \\left( \\alpha \\right)  = \\frac{ 644.00\\ \\mathrm{kN} \\cdot \\mathrm{m} }{ 2 \\cdot 1.74\\ \\mathrm{m}^{2} } \\cdot 6.05\\ \\mathrm{m} \\cdot \\operatorname{cot} \\left( 0.44 \\right) &= 2.40\\ \\mathrm{MN}  \n",
       "\\\\[10pt]\n",
       "N_{EdEff} &= N_{Ed} + F_{TdTx}  = 642.00\\ \\mathrm{kN} + 2.40\\ \\mathrm{MN} &= 3.04\\ \\mathrm{MN}  \n",
       "\\\\[10pt]\n",
       "M_{EdEff} &= M_{yEd} + F_{tdVz} \\cdot e_{z}  = 4.04\\ \\mathrm{MN} \\cdot \\mathrm{m} + 2.11\\ \\mathrm{MN} \\cdot 105.00\\ \\mathrm{mm} &= 4.26\\ \\mathrm{MN} \\cdot \\mathrm{m}  \n",
       "\\end{aligned}\n",
       "\\]"
      ],
      "text/plain": [
       "<IPython.core.display.Latex object>"
      ]
     },
     "metadata": {},
     "output_type": "display_data"
    }
   ],
   "source": [
    "%%render 2\n",
    "F_tdVz = V_Ed * cot(alpha) /2\n",
    "F_TdTx = T_Ed/(2* A_k) * u_k * cot(alpha)\n",
    "N_EdEff = N_Ed + F_TdTx\n",
    "M_EdEff = M_yEd + F_tdVz * e_z"
   ]
  },
  {
   "cell_type": "code",
   "execution_count": 159,
   "metadata": {},
   "outputs": [
    {
     "data": {
      "text/latex": [
       "\\[\n",
       "\\begin{aligned}\n",
       "\\varepsilon_{p} &= \\left( \\frac{ 0.677 \\cdot f_{pd} \\cdot \\left( \\frac{ P_{inf} }{ P_{0} } \\right) }{ E_{p} } \\right) + \\left( \\varepsilon_{tot} \\cdot \\left( \\frac{ d_{p} }{ h } \\right) \\right) \\\\&= \\left( \\frac{ 0.677 \\cdot 1.39\\ \\mathrm{GPa} \\cdot \\left( \\frac{ 10.66\\ \\mathrm{MN} }{ 14.06\\ \\mathrm{MN} } \\right) }{ 195.00\\ \\mathrm{GPa} } \\right) + \\left( 0.01 \\cdot \\left( \\frac{ 640.00\\ \\mathrm{mm} }{ 870.00\\ \\mathrm{mm} } \\right) \\right) \\\\&= 0.01  \\\\[10pt]\n",
       "\\\\[10pt]\n",
       "\\varepsilon_{s} &= \\left( \\varepsilon_{tot} \\cdot \\left( \\frac{ d_{s} }{ h } \\right) \\right)  = \\left( 0.01 \\cdot \\left( \\frac{ 825.00\\ \\mathrm{mm} }{ 870.00\\ \\mathrm{mm} } \\right) \\right) &= 0.00  \n",
       "\\\\[10pt]\n",
       "\\sigma_{p} &= \\varepsilon_{p} \\cdot E_{p}  = 0.01 \\cdot 195.00\\ \\mathrm{GPa} &= 1.39\\ \\mathrm{GPa}  \n",
       "\\\\[10pt]\n",
       "\\sigma_{s} &= \\varepsilon_{s} \\cdot E_{s}  = 0.00 \\cdot 205.00\\ \\mathrm{GPa} &= 390.00\\ \\mathrm{MPa}  \n",
       "\\\\[10pt]\n",
       "\\sigma_{p} &= 1.39\\ \\mathrm{GPa} \\; \n",
       "\\\\[10pt]\n",
       "\\sigma_{s} &= 390.00\\ \\mathrm{MPa} \\; \n",
       "\\end{aligned}\n",
       "\\]"
      ],
      "text/plain": [
       "<IPython.core.display.Latex object>"
      ]
     },
     "metadata": {},
     "output_type": "display_data"
    }
   ],
   "source": [
    "%%render 2\n",
    "varepsilon_p = ((0.677 * f_pd * (P_inf / P_0))/E_p ) + (varepsilon_tot * (d_p / h))\n",
    "varepsilon_s = (varepsilon_tot * (d_s / h))\n",
    "sigma_p = varepsilon_p * E_p\n",
    "sigma_s = varepsilon_s * E_s\n",
    "if sigma_p > f_pd:\n",
    "     sigma_p = f_pd\n",
    "if sigma_s > f_sd:\n",
    "     sigma_s = f_sd  "
   ]
  },
  {
   "cell_type": "code",
   "execution_count": 160,
   "metadata": {},
   "outputs": [
    {
     "data": {
      "text/latex": [
       "\\[\n",
       "\\begin{aligned}\n",
       "Max_{\\varepsilon_{p}} &= \\varepsilon_{p} \\gt \\varepsilon_{ud}  = 0.00748 \\gt 0.02000 &= False  \n",
       "\\\\[10pt]\n",
       "Max_{\\varepsilon_{s}} &= \\varepsilon_{s} \\gt \\varepsilon_{ud}  = 0.00493 \\gt 0.02000 &= False  \n",
       "\\end{aligned}\n",
       "\\]"
      ],
      "text/plain": [
       "<IPython.core.display.Latex object>"
      ]
     },
     "metadata": {},
     "output_type": "display_data"
    }
   ],
   "source": [
    "%%render short 5\n",
    "Max_varepsilon_p = varepsilon_p > varepsilon_ud\n",
    "Max_varepsilon_s = varepsilon_s > varepsilon_ud"
   ]
  },
  {
   "cell_type": "code",
   "execution_count": 161,
   "metadata": {},
   "outputs": [
    {
     "data": {
      "text/latex": [
       "\\[\n",
       "\\begin{aligned}\n",
       "Z_{sdo} &= \\sigma_{s} \\cdot A_{so}  = 390.00\\ \\mathrm{MPa} \\cdot 2853.00\\ \\mathrm{mm}^{2} &= 1.11\\ \\mathrm{MN}  \n",
       "\\\\[10pt]\n",
       "Z_{pd} &= \\sigma_{p} \\cdot A_{p}  = 1.39\\ \\mathrm{GPa} \\cdot 10800.00\\ \\mathrm{mm}^{2} &= 15.01\\ \\mathrm{MN}  \n",
       "\\\\[10pt]\n",
       "x &= \\left( \\frac{ h \\cdot \\varepsilon_{c} }{ \\varepsilon_{tot} + \\varepsilon_{c} } \\right)  = \\left( \\frac{ 870.00\\ \\mathrm{mm} \\cdot 0.00 }{ 0.01 + 0.00 } \\right) &= 318.29\\ \\mathrm{mm}  \n",
       "\\end{aligned}\n",
       "\\]"
      ],
      "text/plain": [
       "<IPython.core.display.Latex object>"
      ]
     },
     "metadata": {},
     "output_type": "display_data"
    }
   ],
   "source": [
    "%%render 2\n",
    "Z_sdo = sigma_s * A_so\n",
    "Z_pd = sigma_p * A_p\n",
    "x = ((h*varepsilon_c)/(varepsilon_tot + varepsilon_c))"
   ]
  },
  {
   "cell_type": "code",
   "execution_count": 162,
   "metadata": {},
   "outputs": [
    {
     "data": {
      "text/latex": [
       "\\[\n",
       "\\begin{aligned}\n",
       "D_{cd} &= 13.99\\ \\mathrm{MN} \\; \n",
       "\\\\[10pt]\n",
       "Z_{tot} &= Z_{sdo} + Z_{pd} \\\\&= 1.11\\ \\mathrm{MN} + 15.01\\ \\mathrm{MN} \\\\&= 16.12\\ \\mathrm{MN}  \\\\[10pt]\n",
       "\\\\[10pt]\n",
       "M_{Rd} &= D_{cd} \\cdot \\left( z_{inf} - 0.425 \\cdot x \\right) + \\left( d_{s} - z_{inf} \\right) \\cdot Z_{sdo} + Z_{pd} \\cdot \\left( d_{p} - z_{inf} \\right) \\\\&= 13.99\\ \\mathrm{MN} \\cdot \\left( 540.00\\ \\mathrm{mm} - 0.425 \\cdot 318.29\\ \\mathrm{mm} \\right) + \\left( 825.00\\ \\mathrm{mm} - 540.00\\ \\mathrm{mm} \\right) \\cdot 1.11\\ \\mathrm{MN} + 15.01\\ \\mathrm{MN} \\cdot \\left( 640.00\\ \\mathrm{mm} - 540.00\\ \\mathrm{mm} \\right) \\\\&= 7.48\\ \\mathrm{MN} \\cdot \\mathrm{m}  \\\\[10pt]\n",
       "\\\\[10pt]\n",
       "n &= \\frac{ M_{Rd} }{ M_{EdEff} } \\\\&= \\frac{ 7.48\\ \\mathrm{MN} \\cdot \\mathrm{m} }{ 4.26\\ \\mathrm{MN} \\cdot \\mathrm{m} } \\\\&= 1.76  \\\\[10pt]\n",
       "\\\\[10pt]\n",
       "\\mathrm{Verformungsv} &= \\frac{ x }{ d_{s} } \\\\&= \\frac{ 318.29\\ \\mathrm{mm} }{ 825.00\\ \\mathrm{mm} } \\\\&= 0.39  \\\\[10pt]\n",
       "\\end{aligned}\n",
       "\\]"
      ],
      "text/plain": [
       "<IPython.core.display.Latex object>"
      ]
     },
     "metadata": {},
     "output_type": "display_data"
    }
   ],
   "source": [
    "%%render  Long  2\n",
    "D_cd = (0.85*x * b_u * f_cd)\n",
    "Z_tot = Z_sdo + Z_pd\n",
    "M_Rd = D_cd * (z_inf - 0.425 * x) + (d_s - z_inf) * Z_sdo + Z_pd * (d_p - z_inf)\n",
    "n = M_Rd/ M_EdEff\n",
    "Verformungsv = x/d_s"
   ]
  },
  {
   "cell_type": "markdown",
   "metadata": {},
   "source": [
    "## Querkraftnachweis Stütze"
   ]
  },
  {
   "cell_type": "code",
   "execution_count": 163,
   "metadata": {},
   "outputs": [
    {
     "data": {
      "text/latex": [
       "\\[\n",
       "\\begin{aligned}\n",
       "A_{sw} &= 628.00\\ \\mathrm{mm}^{2} \\; \n",
       " &\\beta_{p} &= 0.01 \\; \n",
       " &z &= 480.00\\ \\mathrm{mm} \\; \n",
       "\\\\[10pt]\n",
       "\\end{aligned}\n",
       "\\]"
      ],
      "text/plain": [
       "<IPython.core.display.Latex object>"
      ]
     },
     "metadata": {},
     "output_type": "display_data"
    }
   ],
   "source": [
    "%%render params 2\n",
    "A_sw = 78.5 *mm**2 * 8\n",
    "beta_p = 0.8/180* pi\n",
    "z = 480 *mm"
   ]
  },
  {
   "cell_type": "markdown",
   "metadata": {},
   "source": [
    "### V_Rd (10 mm)"
   ]
  },
  {
   "cell_type": "code",
   "execution_count": 164,
   "metadata": {},
   "outputs": [
    {
     "data": {
      "text/latex": [
       "\\[\n",
       "\\begin{aligned}\n",
       "\\Delta_{V_{RdP}} &= P_{inf} \\cdot \\sin \\left( \\beta_{p} \\right) \\\\&= 10.66\\ \\mathrm{MN} \\cdot \\sin \\left( 0.01 \\right) \\\\&= 148.84\\ \\mathrm{kN}  \\\\[10pt]\n",
       "\\\\[10pt]\n",
       "V_{Rds} &= \\frac{ \\left( \\frac{ A_{sw} }{ s } \\right) \\cdot z \\cdot f_{sd} \\cdot \\operatorname{cot} \\left( \\alpha \\right) }{ 4 } \\\\&= \\frac{ \\left( \\frac{ 628.00\\ \\mathrm{mm}^{2} }{ 200.00\\ \\mathrm{mm} } \\right) \\cdot 480.00\\ \\mathrm{mm} \\cdot 390.00\\ \\mathrm{MPa} \\cdot \\operatorname{cot} \\left( 0.44 \\right) }{ 4 } \\\\&= 315.14\\ \\mathrm{kN}  \\\\[10pt]\n",
       "\\\\[10pt]\n",
       "V_{Rds10} &= \\frac{ \\left( \\frac{ A_{sw} }{ s } \\right) \\cdot z \\cdot f_{sd} \\cdot \\operatorname{cot} \\left( \\alpha \\right) }{ 4 } \\\\&= \\frac{ \\left( \\frac{ 628.00\\ \\mathrm{mm}^{2} }{ 200.00\\ \\mathrm{mm} } \\right) \\cdot 480.00\\ \\mathrm{mm} \\cdot 390.00\\ \\mathrm{MPa} \\cdot \\operatorname{cot} \\left( 0.44 \\right) }{ 4 } \\\\&= 315.14\\ \\mathrm{kN}  \\\\[10pt]\n",
       "\\\\[10pt]\n",
       "V_{Rdc} &= \\left( b_{wnom} \\cdot z \\cdot k_{c} \\cdot f_{cd} \\cdot \\sin \\left( \\alpha \\right) \\cdot \\cos \\left( \\alpha \\right) \\right) \\\\&= \\left( 164.40\\ \\mathrm{mm} \\cdot 480.00\\ \\mathrm{mm} \\cdot 0.55 \\cdot 22.00\\ \\mathrm{MPa} \\cdot \\sin \\left( 0.44 \\right) \\cdot \\cos \\left( 0.44 \\right) \\right) \\\\&= 365.72\\ \\mathrm{kN}  \\\\[10pt]\n",
       "\\end{aligned}\n",
       "\\]"
      ],
      "text/plain": [
       "<IPython.core.display.Latex object>"
      ]
     },
     "metadata": {},
     "output_type": "display_data"
    }
   ],
   "source": [
    "%%render  Long 2\n",
    "Delta_V_RdP = P_inf * sin(beta_p)\n",
    "V_Rds =  ((A_sw/s) * z * f_sd * (cot(alpha)))/4\n",
    "V_Rds10 = ((A_sw/s) * z * f_sd * (cot(alpha)) )/4\n",
    "V_Rdc = (b_wnom * z* k_c* f_cd *sin(alpha)*cos(alpha))"
   ]
  },
  {
   "cell_type": "code",
   "execution_count": 165,
   "metadata": {},
   "outputs": [
    {
     "data": {
      "text/latex": [
       "\\[\n",
       "\\begin{aligned}\n",
       "\\mathrm{ns} &= \\frac{ V_{Rds10} }{ V_{Ed} }  = \\frac{ 315.14\\ \\mathrm{kN} }{ 1.97\\ \\mathrm{MN} } &= 0.16  \n",
       "\\\\[10pt]\n",
       "\\mathrm{nc} &= \\frac{ V_{Rdc} }{ V_{Ed} }  = \\frac{ 365.72\\ \\mathrm{kN} }{ 1.97\\ \\mathrm{MN} } &= 0.19  \n",
       "\\end{aligned}\n",
       "\\]"
      ],
      "text/plain": [
       "<IPython.core.display.Latex object>"
      ]
     },
     "metadata": {},
     "output_type": "display_data"
    }
   ],
   "source": [
    "%%render 2\n",
    "ns = V_Rds10/V_Ed\n",
    "nc = V_Rdc/V_Ed"
   ]
  },
  {
   "cell_type": "markdown",
   "metadata": {},
   "source": [
    "### T_Rd (10 mm)"
   ]
  },
  {
   "cell_type": "code",
   "execution_count": 166,
   "metadata": {},
   "outputs": [
    {
     "data": {
      "text/latex": [
       "\\[\n",
       "\\begin{aligned}\n",
       "T_{Rds10} &= \\frac{ 2 \\cdot A_{k} \\cdot A_{sw} \\cdot \\left( \\frac{ 1 }{ 4 } \\right) \\cdot f_{sd} \\cdot \\operatorname{cot} \\left( \\alpha \\right) }{ s } \\\\&= \\frac{ 2 \\cdot 1.74\\ \\mathrm{m}^{2} \\cdot 628.00\\ \\mathrm{mm}^{2} \\cdot \\left( \\frac{ 1 }{ 4 } \\right) \\cdot 390.00\\ \\mathrm{MPa} \\cdot \\operatorname{cot} \\left( 0.44 \\right) }{ 200.00\\ \\mathrm{mm} } \\\\&= 2.29\\ \\mathrm{MN} \\cdot \\mathrm{m}  \\\\[10pt]\n",
       "\\\\[10pt]\n",
       "n &= \\frac{ T_{Rds10} }{ T_{Ed} }  = \\frac{ 2.29\\ \\mathrm{MN} \\cdot \\mathrm{m} }{ 644.00\\ \\mathrm{kN} \\cdot \\mathrm{m} } &= 3.56  \n",
       "\\end{aligned}\n",
       "\\]"
      ],
      "text/plain": [
       "<IPython.core.display.Latex object>"
      ]
     },
     "metadata": {},
     "output_type": "display_data"
    }
   ],
   "source": [
    "%%render 2\n",
    "T_Rds10 = (2*A_k * A_sw*(1/4) * f_sd * cot(alpha))/s\n",
    "n= T_Rds10/T_Ed"
   ]
  },
  {
   "cell_type": "markdown",
   "metadata": {},
   "source": [
    "### V_Rd + V(T_d) (10 mm)"
   ]
  },
  {
   "cell_type": "code",
   "execution_count": 167,
   "metadata": {},
   "outputs": [
    {
     "data": {
      "text/latex": [
       "\\[\n",
       "\\begin{aligned}\n",
       "V_{T_{d}} &= \\frac{ T_{Ed} }{ 2 \\cdot A_{k} } \\cdot d_{eff} \\\\&= \\frac{ 644.00\\ \\mathrm{kN} \\cdot \\mathrm{m} }{ 2 \\cdot 1.74\\ \\mathrm{m}^{2} } \\cdot 773.75\\ \\mathrm{mm} \\\\&= 142.87\\ \\mathrm{kN}  \\\\[10pt]\n",
       "\\\\[10pt]\n",
       "V_{Edrest} &= V_{Ed} - \\frac{ 6 }{ 8 } \\cdot V_{Rds10} \\\\&= 1.97\\ \\mathrm{MN} - \\frac{ 6 }{ 8 } \\cdot 315.14\\ \\mathrm{kN} \\\\&= 1.73\\ \\mathrm{MN}  \\\\[10pt]\n",
       "\\\\[10pt]\n",
       "V_{dEff} &= \\left( V_{Edrest} \\cdot 0.5 \\right) + V_{T_{d}} \\\\&= \\left( 1.73\\ \\mathrm{MN} \\cdot 0.5 \\right) + 142.87\\ \\mathrm{kN} \\\\&= 1.01\\ \\mathrm{MN}  \\\\[10pt]\n",
       "\\\\[10pt]\n",
       "n &= \\frac{ \\frac{ 1 }{ 8 } \\cdot V_{Rds10} }{ V_{dEff} } \\\\&= \\frac{ \\frac{ 1 }{ 8 } \\cdot 315.14\\ \\mathrm{kN} }{ 1.01\\ \\mathrm{MN} } \\\\&= 0.04  \\\\[10pt]\n",
       "\\end{aligned}\n",
       "\\]"
      ],
      "text/plain": [
       "<IPython.core.display.Latex object>"
      ]
     },
     "metadata": {},
     "output_type": "display_data"
    }
   ],
   "source": [
    "%%render  Long 2\n",
    "V_T_d = T_Ed/(2*A_k) * d_eff\n",
    "V_Edrest = V_Ed - 6/8 * V_Rds10\n",
    "if V_Edrest < 0: V_Edrest = 0\n",
    "V_dEff =(V_Edrest * 0.5) + V_T_d\n",
    "n = (1/8 * V_Rds10) / V_dEff"
   ]
  },
  {
   "cell_type": "markdown",
   "metadata": {},
   "source": [
    "# Nebem Stütze (NS 4)"
   ]
  },
  {
   "cell_type": "markdown",
   "metadata": {},
   "source": [
    "## Querkraftnachweis"
   ]
  },
  {
   "cell_type": "code",
   "execution_count": 168,
   "metadata": {},
   "outputs": [
    {
     "data": {
      "text/latex": [
       "\\[\n",
       "\\begin{aligned}\n",
       "V_{Ed} &= 1.49\\ \\mathrm{MN} \\; \n",
       " &T_{Ed} &= 507.00\\ \\mathrm{kN} \\cdot \\mathrm{m} \\; \n",
       " &A_{sw} &= 402.40\\ \\mathrm{mm}^{2} \\; \n",
       "\\\\[10pt]\n",
       " z &= 680.00\\ \\mathrm{mm} \\; \\;\\textrm{(Aus fagus)}\n",
       " &\\beta_{p} &= 0.07 \\;\n",
       "\\end{aligned}\n",
       "\\]"
      ],
      "text/plain": [
       "<IPython.core.display.Latex object>"
      ]
     },
     "metadata": {},
     "output_type": "display_data"
    }
   ],
   "source": [
    "%%render params 2\n",
    "V_Ed =  1493 * kN\n",
    "T_Ed = 507 *kN*m\n",
    "\n",
    "A_sw = 50.3*mm**2 * 8\n",
    "\n",
    "z = 680 * mm # Aus fagus\n",
    "beta_p = 4/180* pi"
   ]
  },
  {
   "cell_type": "code",
   "execution_count": null,
   "metadata": {},
   "outputs": [],
   "source": []
  },
  {
   "cell_type": "markdown",
   "metadata": {},
   "source": [
    "### V_Rd (8 mm)"
   ]
  },
  {
   "cell_type": "code",
   "execution_count": 169,
   "metadata": {},
   "outputs": [
    {
     "data": {
      "text/latex": [
       "\\[\n",
       "\\begin{aligned}\n",
       "\\Delta_{V_{RdP}} &= P_{inf} \\cdot \\sin \\left( \\beta_{p} \\right) \\\\&= 10.66\\ \\mathrm{MN} \\cdot \\sin \\left( 0.07 \\right) \\\\&= 743.60\\ \\mathrm{kN}  \\\\[10pt]\n",
       "\\\\[10pt]\n",
       "V_{Rds} &= \\frac{ \\left( \\frac{ A_{sw} }{ s } \\right) \\cdot z \\cdot f_{sd} \\cdot \\operatorname{cot} \\left( \\alpha \\right) }{ 4 } \\\\&= \\frac{ \\left( \\frac{ 402.40\\ \\mathrm{mm}^{2} }{ 200.00\\ \\mathrm{mm} } \\right) \\cdot 680.00\\ \\mathrm{mm} \\cdot 390.00\\ \\mathrm{MPa} \\cdot \\operatorname{cot} \\left( 0.44 \\right) }{ 4 } \\\\&= 286.07\\ \\mathrm{kN}  \\\\[10pt]\n",
       "\\\\[10pt]\n",
       "V_{Rds8} &= \\left( \\frac{ A_{sw} }{ s } \\right) \\cdot z \\cdot f_{sd} \\cdot \\operatorname{cot} \\left( \\alpha \\right) + \\operatorname{abs} \\left( \\Delta_{V_{RdP}} \\right) \\\\&= \\left( \\frac{ 402.40\\ \\mathrm{mm}^{2} }{ 200.00\\ \\mathrm{mm} } \\right) \\cdot 680.00\\ \\mathrm{mm} \\cdot 390.00\\ \\mathrm{MPa} \\cdot \\operatorname{cot} \\left( 0.44 \\right) + \\operatorname{abs} \\left( 743.60\\ \\mathrm{kN} \\right) \\\\&= 1.89\\ \\mathrm{MN}  \\\\[10pt]\n",
       "\\\\[10pt]\n",
       "V_{Rdc} &= b_{wnom} \\cdot z \\cdot k_{c} \\cdot f_{cd} \\cdot \\sin \\left( \\alpha \\right) \\cdot \\cos \\left( \\alpha \\right) \\\\&= 164.40\\ \\mathrm{mm} \\cdot 680.00\\ \\mathrm{mm} \\cdot 0.55 \\cdot 22.00\\ \\mathrm{MPa} \\cdot \\sin \\left( 0.44 \\right) \\cdot \\cos \\left( 0.44 \\right) \\\\&= 518.11\\ \\mathrm{kN}  \\\\[10pt]\n",
       "\\\\[10pt]\n",
       "\\mathrm{ns} &= \\frac{ V_{Rds8} }{ V_{Ed} } \\\\&= \\frac{ 1.89\\ \\mathrm{MN} }{ 1.49\\ \\mathrm{MN} } \\\\&= 1.26  \\\\[10pt]\n",
       "\\\\[10pt]\n",
       "\\mathrm{nc} &= \\frac{ V_{Rdc} }{ V_{Ed} } \\\\&= \\frac{ 518.11\\ \\mathrm{kN} }{ 1.49\\ \\mathrm{MN} } \\\\&= 0.35  \\\\[10pt]\n",
       "\\end{aligned}\n",
       "\\]"
      ],
      "text/plain": [
       "<IPython.core.display.Latex object>"
      ]
     },
     "metadata": {},
     "output_type": "display_data"
    }
   ],
   "source": [
    "%%render  Long 2\n",
    "Delta_V_RdP = P_inf * sin(beta_p)\n",
    "V_Rds =  ((A_sw/s) * z * f_sd * (cot(alpha)))/4\n",
    "V_Rds8 = (A_sw/s) * z * f_sd * (cot(alpha)) + abs(Delta_V_RdP)\n",
    "V_Rdc = b_wnom * z * k_c* f_cd *sin(alpha)*cos(alpha)\n",
    "ns = V_Rds8/V_Ed\n",
    "nc = V_Rdc/V_Ed"
   ]
  },
  {
   "cell_type": "markdown",
   "metadata": {},
   "source": [
    "### T_Rd (8 mm)"
   ]
  },
  {
   "cell_type": "code",
   "execution_count": 170,
   "metadata": {},
   "outputs": [
    {
     "data": {
      "text/latex": [
       "\\[\n",
       "\\begin{aligned}\n",
       "T_{Rds8} &= \\frac{ 2 \\cdot A_{k} \\cdot A_{sw} \\cdot \\left( \\frac{ 1 }{ 4 } \\right) \\cdot f_{sd} \\cdot \\operatorname{cot} \\left( \\alpha \\right) }{ s } \\\\&= \\frac{ 2 \\cdot 1.74\\ \\mathrm{m}^{2} \\cdot 402.40\\ \\mathrm{mm}^{2} \\cdot \\left( \\frac{ 1 }{ 4 } \\right) \\cdot 390.00\\ \\mathrm{MPa} \\cdot \\operatorname{cot} \\left( 0.44 \\right) }{ 200.00\\ \\mathrm{mm} } \\\\&= 1.47\\ \\mathrm{MN} \\cdot \\mathrm{m}  \\\\[10pt]\n",
       "\\\\[10pt]\n",
       "n &= \\frac{ T_{Rds8} }{ T_{Ed} }  = \\frac{ 1.47\\ \\mathrm{MN} \\cdot \\mathrm{m} }{ 507.00\\ \\mathrm{kN} \\cdot \\mathrm{m} } &= 2.89  \n",
       "\\end{aligned}\n",
       "\\]"
      ],
      "text/plain": [
       "<IPython.core.display.Latex object>"
      ]
     },
     "metadata": {},
     "output_type": "display_data"
    }
   ],
   "source": [
    "%%render 2\n",
    "T_Rds8 = (2*A_k * A_sw*(1/4) * f_sd * cot(alpha))/s\n",
    "n= T_Rds8/T_Ed"
   ]
  },
  {
   "cell_type": "markdown",
   "metadata": {},
   "source": [
    "### V_Rd + V(T_d) (8 mm)"
   ]
  },
  {
   "cell_type": "code",
   "execution_count": 171,
   "metadata": {},
   "outputs": [
    {
     "data": {
      "text/latex": [
       "\\[\n",
       "\\begin{aligned}\n",
       "V_{T_{d}} &= \\frac{ T_{Ed} }{ 2 \\cdot A_{k} } \\cdot d_{eff} \\\\&= \\frac{ 507.00\\ \\mathrm{kN} \\cdot \\mathrm{m} }{ 2 \\cdot 1.74\\ \\mathrm{m}^{2} } \\cdot 773.75\\ \\mathrm{mm} \\\\&= 112.48\\ \\mathrm{kN}  \\\\[10pt]\n",
       "\\\\[10pt]\n",
       "V_{Edrest} &= V_{Ed} - \\frac{ 6 }{ 8 } \\cdot V_{Rds8} \\\\&= 1.49\\ \\mathrm{MN} - \\frac{ 6 }{ 8 } \\cdot 1.89\\ \\mathrm{MN} \\\\&= 77.09\\ \\mathrm{kN}  \\\\[10pt]\n",
       "\\\\[10pt]\n",
       "V_{dEff} &= \\left( V_{Edrest} \\cdot 0.5 \\right) + V_{T_{d}} \\\\&= \\left( 77.09\\ \\mathrm{kN} \\cdot 0.5 \\right) + 112.48\\ \\mathrm{kN} \\\\&= 151.03\\ \\mathrm{kN}  \\\\[10pt]\n",
       "\\\\[10pt]\n",
       "n &= \\frac{ \\frac{ 1 }{ 8 } \\cdot V_{Rds8} }{ V_{dEff} } \\\\&= \\frac{ \\frac{ 1 }{ 8 } \\cdot 1.89\\ \\mathrm{MN} }{ 151.03\\ \\mathrm{kN} } \\\\&= 1.56  \\\\[10pt]\n",
       "\\end{aligned}\n",
       "\\]"
      ],
      "text/plain": [
       "<IPython.core.display.Latex object>"
      ]
     },
     "metadata": {},
     "output_type": "display_data"
    }
   ],
   "source": [
    "%%render  Long 2\n",
    "V_T_d = T_Ed/(2*A_k) * d_eff\n",
    "V_Edrest = V_Ed - 6/8 * V_Rds8\n",
    "if V_Edrest < 0: V_Edrest = 0\n",
    "V_dEff =(V_Edrest * 0.5) + V_T_d\n",
    "n = (1/8 * V_Rds8) / V_dEff"
   ]
  },
  {
   "cell_type": "markdown",
   "metadata": {},
   "source": [
    "# Widerlage Nebem Widerlage (NS 2)"
   ]
  },
  {
   "cell_type": "markdown",
   "metadata": {},
   "source": [
    "## Querkraftnachweiss Widerlage"
   ]
  },
  {
   "cell_type": "code",
   "execution_count": 172,
   "metadata": {},
   "outputs": [
    {
     "data": {
      "text/latex": [
       "\\[\n",
       "\\begin{aligned}\n",
       "V_{Ed} &= 1.42\\ \\mathrm{MN} \\; \n",
       " &T_{Ed} &= 627.00\\ \\mathrm{kN} \\cdot \\mathrm{m} \\; \n",
       " &A_{sw} &= 402.40\\ \\mathrm{mm}^{2} \\; \n",
       "\\\\[10pt]\n",
       " z &= 270.00\\ \\mathrm{mm} \\; \\;\\textrm{(Aus fagus)}\n",
       " &\\beta_{p} &= 0.07 \\;\n",
       "\\end{aligned}\n",
       "\\]"
      ],
      "text/plain": [
       "<IPython.core.display.Latex object>"
      ]
     },
     "metadata": {},
     "output_type": "display_data"
    }
   ],
   "source": [
    "%%render params 2\n",
    "V_Ed =  1416 * kN\n",
    "T_Ed = 627 *kN*m\n",
    "\n",
    "A_sw = 50.3*mm**2 * 8\n",
    "\n",
    "z = 270 * mm # Aus fagus\n",
    "beta_p = 4/180* pi"
   ]
  },
  {
   "cell_type": "markdown",
   "metadata": {},
   "source": [
    "### V_Rd (8 mm)"
   ]
  },
  {
   "cell_type": "code",
   "execution_count": 173,
   "metadata": {},
   "outputs": [
    {
     "data": {
      "text/latex": [
       "\\[\n",
       "\\begin{aligned}\n",
       "\\Delta_{V_{RdP}} &= P_{inf} \\cdot \\sin \\left( \\beta_{p} \\right) \\\\&= 10.66\\ \\mathrm{MN} \\cdot \\sin \\left( 0.07 \\right) \\\\&= 743.60\\ \\mathrm{kN}  \\\\[10pt]\n",
       "\\\\[10pt]\n",
       "V_{Rds} &= \\left( \\frac{ A_{sw} }{ s } \\right) \\cdot z \\cdot f_{sd} \\cdot \\operatorname{cot} \\left( \\alpha \\right) \\\\&= \\left( \\frac{ 402.40\\ \\mathrm{mm}^{2} }{ 200.00\\ \\mathrm{mm} } \\right) \\cdot 270.00\\ \\mathrm{mm} \\cdot 390.00\\ \\mathrm{MPa} \\cdot \\operatorname{cot} \\left( 0.44 \\right) \\\\&= 454.34\\ \\mathrm{kN}  \\\\[10pt]\n",
       "\\\\[10pt]\n",
       "V_{Rds8} &= \\left( \\frac{ A_{sw} }{ s } \\right) \\cdot z \\cdot f_{sd} \\cdot \\operatorname{cot} \\left( \\alpha \\right) + \\Delta_{V_{RdP}} \\\\&= \\left( \\frac{ 402.40\\ \\mathrm{mm}^{2} }{ 200.00\\ \\mathrm{mm} } \\right) \\cdot 270.00\\ \\mathrm{mm} \\cdot 390.00\\ \\mathrm{MPa} \\cdot \\operatorname{cot} \\left( 0.44 \\right) + 743.60\\ \\mathrm{kN} \\\\&= 1.20\\ \\mathrm{MN}  \\\\[10pt]\n",
       "\\\\[10pt]\n",
       "V_{Rdc} &= b_{wnom} \\cdot z \\cdot k_{c} \\cdot f_{cd} \\cdot \\sin \\left( \\alpha \\right) \\cdot \\cos \\left( \\alpha \\right) \\\\&= 164.40\\ \\mathrm{mm} \\cdot 270.00\\ \\mathrm{mm} \\cdot 0.55 \\cdot 22.00\\ \\mathrm{MPa} \\cdot \\sin \\left( 0.44 \\right) \\cdot \\cos \\left( 0.44 \\right) \\\\&= 205.72\\ \\mathrm{kN}  \\\\[10pt]\n",
       "\\\\[10pt]\n",
       "\\mathrm{ns} &= \\frac{ V_{Rds8} }{ V_{Ed} } \\\\&= \\frac{ 1.20\\ \\mathrm{MN} }{ 1.42\\ \\mathrm{MN} } \\\\&= 0.85  \\\\[10pt]\n",
       "\\\\[10pt]\n",
       "\\mathrm{nc} &= \\frac{ V_{Rdc} }{ V_{Ed} } \\\\&= \\frac{ 205.72\\ \\mathrm{kN} }{ 1.42\\ \\mathrm{MN} } \\\\&= 0.15  \\\\[10pt]\n",
       "\\end{aligned}\n",
       "\\]"
      ],
      "text/plain": [
       "<IPython.core.display.Latex object>"
      ]
     },
     "metadata": {},
     "output_type": "display_data"
    }
   ],
   "source": [
    "%%render  Long 2\n",
    "Delta_V_RdP = P_inf * sin(beta_p)\n",
    "V_Rds =  (A_sw/s) * z * f_sd * (cot(alpha)) \n",
    "V_Rds8 = (A_sw/s) * z * f_sd * (cot(alpha)) + Delta_V_RdP\n",
    "V_Rdc = b_wnom * z* k_c* f_cd *sin(alpha)*cos(alpha)\n",
    "ns = V_Rds8/V_Ed\n",
    "nc = V_Rdc/V_Ed"
   ]
  },
  {
   "cell_type": "markdown",
   "metadata": {},
   "source": [
    "### T_Rd (8 mm)"
   ]
  },
  {
   "cell_type": "code",
   "execution_count": 174,
   "metadata": {},
   "outputs": [
    {
     "data": {
      "text/latex": [
       "\\[\n",
       "\\begin{aligned}\n",
       "T_{Rds8} &= \\frac{ 2 \\cdot A_{k} \\cdot A_{sw} \\cdot \\left( \\frac{ 1 }{ 4 } \\right) \\cdot f_{sd} \\cdot \\operatorname{cot} \\left( \\alpha \\right) }{ s } \\\\&= \\frac{ 2 \\cdot 1.74\\ \\mathrm{m}^{2} \\cdot 402.40\\ \\mathrm{mm}^{2} \\cdot \\left( \\frac{ 1 }{ 4 } \\right) \\cdot 390.00\\ \\mathrm{MPa} \\cdot \\operatorname{cot} \\left( 0.44 \\right) }{ 200.00\\ \\mathrm{mm} } \\\\&= 1.47\\ \\mathrm{MN} \\cdot \\mathrm{m}  \\\\[10pt]\n",
       "\\\\[10pt]\n",
       "n &= \\frac{ T_{Rds8} }{ T_{Ed} }  = \\frac{ 1.47\\ \\mathrm{MN} \\cdot \\mathrm{m} }{ 627.00\\ \\mathrm{kN} \\cdot \\mathrm{m} } &= 2.34  \n",
       "\\end{aligned}\n",
       "\\]"
      ],
      "text/plain": [
       "<IPython.core.display.Latex object>"
      ]
     },
     "metadata": {},
     "output_type": "display_data"
    }
   ],
   "source": [
    "%%render 2\n",
    "T_Rds8 = (2*A_k * A_sw*(1/4) * f_sd * cot(alpha))/s\n",
    "n= T_Rds8/T_Ed"
   ]
  },
  {
   "cell_type": "markdown",
   "metadata": {},
   "source": [
    "### V_Rd + V(T_d) (8 mm)"
   ]
  },
  {
   "cell_type": "code",
   "execution_count": 175,
   "metadata": {},
   "outputs": [
    {
     "data": {
      "text/latex": [
       "\\[\n",
       "\\begin{aligned}\n",
       "V_{T_{d}} &= \\frac{ T_{Ed} }{ 2 \\cdot A_{k} } \\cdot d_{eff} \\\\&= \\frac{ 627.00\\ \\mathrm{kN} \\cdot \\mathrm{m} }{ 2 \\cdot 1.74\\ \\mathrm{m}^{2} } \\cdot 773.75\\ \\mathrm{mm} \\\\&= 139.10\\ \\mathrm{kN}  \\\\[10pt]\n",
       "\\\\[10pt]\n",
       "V_{Edrest} &= V_{Ed} - \\frac{ 6 }{ 8 } \\cdot V_{Rds8} \\\\&= 1.42\\ \\mathrm{MN} - \\frac{ 6 }{ 8 } \\cdot 1.20\\ \\mathrm{MN} \\\\&= 517.54\\ \\mathrm{kN}  \\\\[10pt]\n",
       "\\\\[10pt]\n",
       "V_{dEff} &= \\left( V_{Edrest} \\cdot 0.5 \\right) + V_{T_{d}} \\\\&= \\left( 517.54\\ \\mathrm{kN} \\cdot 0.5 \\right) + 139.10\\ \\mathrm{kN} \\\\&= 397.87\\ \\mathrm{kN}  \\\\[10pt]\n",
       "\\\\[10pt]\n",
       "n &= \\frac{ \\frac{ 1 }{ 8 } \\cdot V_{Rds8} }{ V_{dEff} } \\\\&= \\frac{ \\frac{ 1 }{ 8 } \\cdot 1.20\\ \\mathrm{MN} }{ 397.87\\ \\mathrm{kN} } \\\\&= 0.38  \\\\[10pt]\n",
       "\\end{aligned}\n",
       "\\]"
      ],
      "text/plain": [
       "<IPython.core.display.Latex object>"
      ]
     },
     "metadata": {},
     "output_type": "display_data"
    }
   ],
   "source": [
    "%%render  Long 2\n",
    "V_T_d = T_Ed/(2*A_k) * d_eff\n",
    "V_Edrest = V_Ed - 6/8 * V_Rds8\n",
    "if V_Edrest < 0: V_Edrest = 0\n",
    "V_dEff =(V_Edrest * 0.5) + V_T_d\n",
    "n = (1/8 * V_Rds8) / V_dEff"
   ]
  },
  {
   "cell_type": "markdown",
   "metadata": {},
   "source": [
    "# WiderlageNebem Widerlage (NS 1)"
   ]
  },
  {
   "cell_type": "markdown",
   "metadata": {},
   "source": [
    "## Querkraftnachweis"
   ]
  },
  {
   "cell_type": "code",
   "execution_count": 176,
   "metadata": {},
   "outputs": [
    {
     "data": {
      "text/latex": [
       "\\[\n",
       "\\begin{aligned}\n",
       "V_{Ed} &= 1.54\\ \\mathrm{MN} \\; \n",
       " &T_{Ed} &= 649.00\\ \\mathrm{kN} \\cdot \\mathrm{m} \\; \n",
       " &A_{sw} &= 628.00\\ \\mathrm{mm}^{2} \\; \n",
       "\\\\[10pt]\n",
       " z &= 130.00\\ \\mathrm{mm} \\; \\;\\textrm{(Aus fagus)}\n",
       " &\\beta_{p} &= 0.10 \\;\n",
       "\\end{aligned}\n",
       "\\]"
      ],
      "text/plain": [
       "<IPython.core.display.Latex object>"
      ]
     },
     "metadata": {},
     "output_type": "display_data"
    }
   ],
   "source": [
    "%%render params 2\n",
    "V_Ed =  1542 * kN\n",
    "T_Ed = 649 *kN*m\n",
    "\n",
    "A_sw = 78.5 *mm**2 * 8\n",
    "\n",
    "z = 130 * mm # Aus fagus\n",
    "beta_p = 5.5/180* pi"
   ]
  },
  {
   "cell_type": "markdown",
   "metadata": {},
   "source": [
    "### V_Rd (10 mm)"
   ]
  },
  {
   "cell_type": "code",
   "execution_count": 177,
   "metadata": {},
   "outputs": [
    {
     "data": {
      "text/latex": [
       "\\[\n",
       "\\begin{aligned}\n",
       "\\Delta_{V_{RdP}} &= P_{inf} \\cdot \\sin \\left( \\beta_{p} \\right) \\\\&= 10.66\\ \\mathrm{MN} \\cdot \\sin \\left( 0.10 \\right) \\\\&= 1.02\\ \\mathrm{MN}  \\\\[10pt]\n",
       "\\\\[10pt]\n",
       "V_{Rds} &= \\left( \\frac{ A_{sw} }{ s } \\right) \\cdot z \\cdot f_{sd} \\cdot \\operatorname{cot} \\left( \\alpha \\right) \\\\&= \\left( \\frac{ 628.00\\ \\mathrm{mm}^{2} }{ 200.00\\ \\mathrm{mm} } \\right) \\cdot 130.00\\ \\mathrm{mm} \\cdot 390.00\\ \\mathrm{MPa} \\cdot \\operatorname{cot} \\left( 0.44 \\right) \\\\&= 341.40\\ \\mathrm{kN}  \\\\[10pt]\n",
       "\\\\[10pt]\n",
       "V_{Rds10} &= \\left( \\frac{ A_{sw} }{ s } \\right) \\cdot z \\cdot f_{sd} \\cdot \\operatorname{cot} \\left( \\alpha \\right) + \\Delta_{V_{RdP}} \\\\&= \\left( \\frac{ 628.00\\ \\mathrm{mm}^{2} }{ 200.00\\ \\mathrm{mm} } \\right) \\cdot 130.00\\ \\mathrm{mm} \\cdot 390.00\\ \\mathrm{MPa} \\cdot \\operatorname{cot} \\left( 0.44 \\right) + 1.02\\ \\mathrm{MN} \\\\&= 1.36\\ \\mathrm{MN}  \\\\[10pt]\n",
       "\\\\[10pt]\n",
       "V_{Rdc} &= b_{wnom} \\cdot z \\cdot k_{c} \\cdot f_{cd} \\cdot \\sin \\left( \\alpha \\right) \\cdot \\cos \\left( \\alpha \\right) + \\Delta_{V_{RdP}} \\\\&= 164.40\\ \\mathrm{mm} \\cdot 130.00\\ \\mathrm{mm} \\cdot 0.55 \\cdot 22.00\\ \\mathrm{MPa} \\cdot \\sin \\left( 0.44 \\right) \\cdot \\cos \\left( 0.44 \\right) + 1.02\\ \\mathrm{MN} \\\\&= 1.12\\ \\mathrm{MN}  \\\\[10pt]\n",
       "\\\\[10pt]\n",
       "\\mathrm{ns} &= \\frac{ V_{Rds10} }{ V_{Ed} } \\\\&= \\frac{ 1.36\\ \\mathrm{MN} }{ 1.54\\ \\mathrm{MN} } \\\\&= 0.88  \\\\[10pt]\n",
       "\\\\[10pt]\n",
       "\\mathrm{nc} &= \\frac{ V_{Rdc} }{ V_{Ed} } \\\\&= \\frac{ 1.12\\ \\mathrm{MN} }{ 1.54\\ \\mathrm{MN} } \\\\&= 0.73  \\\\[10pt]\n",
       "\\end{aligned}\n",
       "\\]"
      ],
      "text/plain": [
       "<IPython.core.display.Latex object>"
      ]
     },
     "metadata": {},
     "output_type": "display_data"
    }
   ],
   "source": [
    "%%render  Long 2\n",
    "Delta_V_RdP = P_inf * sin(beta_p)\n",
    "V_Rds =  (A_sw/s) * z * f_sd * (cot(alpha)) \n",
    "V_Rds10 = (A_sw/s) * z * f_sd * (cot(alpha)) + Delta_V_RdP\n",
    "V_Rdc = b_wnom * z* k_c* f_cd *sin(alpha)*cos(alpha) + Delta_V_RdP\n",
    "ns = V_Rds10/V_Ed\n",
    "nc = V_Rdc/V_Ed"
   ]
  },
  {
   "cell_type": "markdown",
   "metadata": {},
   "source": [
    "### T_Rd (10 mm)"
   ]
  },
  {
   "cell_type": "code",
   "execution_count": 178,
   "metadata": {},
   "outputs": [
    {
     "data": {
      "text/latex": [
       "\\[\n",
       "\\begin{aligned}\n",
       "T_{Rds10} &= \\frac{ 2 \\cdot A_{k} \\cdot A_{sw} \\cdot \\left( \\frac{ 1 }{ 4 } \\right) \\cdot f_{sd} \\cdot \\operatorname{cot} \\left( \\alpha \\right) }{ s } \\\\&= \\frac{ 2 \\cdot 1.74\\ \\mathrm{m}^{2} \\cdot 628.00\\ \\mathrm{mm}^{2} \\cdot \\left( \\frac{ 1 }{ 4 } \\right) \\cdot 390.00\\ \\mathrm{MPa} \\cdot \\operatorname{cot} \\left( 0.44 \\right) }{ 200.00\\ \\mathrm{mm} } \\\\&= 2.29\\ \\mathrm{MN} \\cdot \\mathrm{m}  \\\\[10pt]\n",
       "\\\\[10pt]\n",
       "n &= \\frac{ T_{Rds10} }{ T_{Ed} }  = \\frac{ 2.29\\ \\mathrm{MN} \\cdot \\mathrm{m} }{ 649.00\\ \\mathrm{kN} \\cdot \\mathrm{m} } &= 3.53  \n",
       "\\end{aligned}\n",
       "\\]"
      ],
      "text/plain": [
       "<IPython.core.display.Latex object>"
      ]
     },
     "metadata": {},
     "output_type": "display_data"
    }
   ],
   "source": [
    "%%render 2\n",
    "T_Rds10 = (2*A_k * A_sw*(1/4) * f_sd * cot(alpha))/s\n",
    "n= T_Rds10/T_Ed"
   ]
  },
  {
   "cell_type": "markdown",
   "metadata": {},
   "source": [
    "### V_Rd + V(T_d) (10 mm)"
   ]
  },
  {
   "cell_type": "code",
   "execution_count": 179,
   "metadata": {},
   "outputs": [
    {
     "data": {
      "text/latex": [
       "\\[\n",
       "\\begin{aligned}\n",
       "V_{T_{d}} &= \\frac{ T_{Ed} }{ 2 \\cdot A_{k} } \\cdot z \\\\&= \\frac{ 649.00\\ \\mathrm{kN} \\cdot \\mathrm{m} }{ 2 \\cdot 1.74\\ \\mathrm{m}^{2} } \\cdot 130.00\\ \\mathrm{mm} \\\\&= 24.19\\ \\mathrm{kN}  \\\\[10pt]\n",
       "\\\\[10pt]\n",
       "V_{Edrest} &= V_{Ed} - \\frac{ 6 }{ 8 } \\cdot V_{Rds10} \\\\&= 1.54\\ \\mathrm{MN} - \\frac{ 6 }{ 8 } \\cdot 1.36\\ \\mathrm{MN} \\\\&= 519.66\\ \\mathrm{kN}  \\\\[10pt]\n",
       "\\\\[10pt]\n",
       "V_{dEff} &= \\left( V_{Edrest} \\cdot 0.5 \\right) + V_{T_{d}} \\\\&= \\left( 519.66\\ \\mathrm{kN} \\cdot 0.5 \\right) + 24.19\\ \\mathrm{kN} \\\\&= 284.02\\ \\mathrm{kN}  \\\\[10pt]\n",
       "\\\\[10pt]\n",
       "n &= \\frac{ \\frac{ 1 }{ 8 } \\cdot V_{Rds10} }{ V_{dEff} } \\\\&= \\frac{ \\frac{ 1 }{ 8 } \\cdot 1.36\\ \\mathrm{MN} }{ 284.02\\ \\mathrm{kN} } \\\\&= 0.60  \\\\[10pt]\n",
       "\\end{aligned}\n",
       "\\]"
      ],
      "text/plain": [
       "<IPython.core.display.Latex object>"
      ]
     },
     "metadata": {},
     "output_type": "display_data"
    }
   ],
   "source": [
    "%%render  Long 2\n",
    "V_T_d = T_Ed/(2*A_k) *z\n",
    "V_Edrest = V_Ed - 6/8 * V_Rds10\n",
    "if V_Edrest < 0: V_Edrest = 0\n",
    "V_dEff =(V_Edrest * 0.5) + V_T_d\n",
    "n = (1/8 * V_Rds10) / V_dEff"
   ]
  }
 ],
 "metadata": {
  "kernelspec": {
   "display_name": "Python 3",
   "language": "python",
   "name": "python3"
  },
  "language_info": {
   "codemirror_mode": {
    "name": "ipython",
    "version": 3
   },
   "file_extension": ".py",
   "mimetype": "text/x-python",
   "name": "python",
   "nbconvert_exporter": "python",
   "pygments_lexer": "ipython3",
   "version": "3.10.10"
  }
 },
 "nbformat": 4,
 "nbformat_minor": 2
}

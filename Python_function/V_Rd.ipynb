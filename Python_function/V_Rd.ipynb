{
 "cells": [
  {
   "cell_type": "code",
   "execution_count": 29,
   "id": "27fbefe2",
   "metadata": {},
   "outputs": [],
   "source": [
    "import numpy, scipy, math, handcalcs.render, forallpeople\n",
    "from math import sqrt, pi, sin, tan, cos\n",
    "forallpeople.environment('structural', top_level=True)\n",
    "handcalcs.save_config()\n",
    "cm = 10 *mm\n",
    "t = 1000 * kg\n",
    "def cot(x):\n",
    "    cotx = 1/tan(x)\n",
    "    return cotx"
   ]
  },
  {
   "cell_type": "code",
   "execution_count": 30,
   "id": "672d3abc",
   "metadata": {},
   "outputs": [
    {
     "data": {
      "text/latex": [
       "\\[\n",
       "\\begin{aligned}\n",
       "d_{vertikal} &= 10.00\\ \\mathrm{mm} \\; \n",
       " &d_{diagonal} &= 18.00\\ \\mathrm{mm} \\; \n",
       " &A_{s_{vertikal}} &= 78.54\\ \\mathrm{mm}^{2} \\; \n",
       "\\\\[10pt]\n",
       " A_{s_{diagonal}} &= 254.47\\ \\mathrm{mm}^{2} \\; \n",
       " &A_{sw} &= 157.08\\ \\mathrm{mm}^{2} \\; \n",
       " &n_{diagonal} &= 3 \\; \\;\\textrm{(Menge der vertikalen Stäbe)}\n",
       "\\\\[10pt]\n",
       " s &= 250.00\\ \\mathrm{mm} \\; \n",
       " &z &= 220.00\\ \\mathrm{mm} \\; \n",
       " &f_{sd} &= 300.00\\ \\mathrm{MPa} \\; \n",
       "\\\\[10pt]\n",
       " b_{w} &= 300.00\\ \\mathrm{mm} \\; \n",
       " &k_{c} &= 0.55 \\; \n",
       " &f_{cd} &= 16.00\\ \\mathrm{MPa} \\; \n",
       "\\\\[10pt]\n",
       " \\alpha &= 0.52 \\; \n",
       " &\\beta &= 0.79 \\; \n",
       " &V_{Ed} &= 174.30\\ \\mathrm{kN} \\; \n",
       "\\\\[10pt]\n",
       "\\end{aligned}\n",
       "\\]"
      ],
      "text/plain": [
       "<IPython.core.display.Latex object>"
      ]
     },
     "metadata": {},
     "output_type": "display_data"
    }
   ],
   "source": [
    "%%render params 2\n",
    "d_vertikal = 10 * mm\n",
    "d_diagonal = 18 * mm\n",
    "A_s_vertikal = pi * (d_vertikal**2 / 4)\n",
    "A_s_diagonal = pi * (d_diagonal**2 / 4)\n",
    "A_sw = 2*A_s_vertikal\n",
    "n_diagonal = 3 # Menge der vertikalen Stäbe\n",
    "s = 250*mm\n",
    "z = 220*mm\n",
    "f_sd = 300 * N/mm**2\n",
    "b_w = 300*mm\n",
    "k_c = 0.55\n",
    "f_cd = 16 * N/mm**2\n",
    "\n",
    "alpha = math.radians(30)\n",
    "beta = math.radians(45)\n",
    "V_Ed = 174.3 * kN"
   ]
  },
  {
   "cell_type": "code",
   "execution_count": 31,
   "id": "fc916422",
   "metadata": {},
   "outputs": [
    {
     "data": {
      "text/latex": [
       "\\[\n",
       "\\begin{aligned}\n",
       "V_{Rds_{diagonal}} &= \\left( \\left( \\frac{ A_{s_{diagonal}} \\cdot n_{diagonal} }{ 1 \\cdot m } \\right) \\cdot z \\cdot f_{sd} \\cdot \\left( \\operatorname{cot} \\left( \\alpha \\right) + \\operatorname{cot} \\left( \\beta \\right) \\right) \\right) \\cdot \\sin \\left( \\beta \\right) \\\\&= \\left( \\left( \\frac{ 254.469\\ \\mathrm{mm}^{2} \\cdot 3 }{ 1 \\cdot m } \\right) \\cdot 220.000\\ \\mathrm{mm} \\cdot 300.000\\ \\mathrm{MPa} \\cdot \\left( \\operatorname{cot} \\left( 0.524 \\right) + \\operatorname{cot} \\left( 0.785 \\right) \\right) \\right) \\cdot \\sin \\left( 0.785 \\right) \\\\&= 97.336\\ \\mathrm{kN}  \\\\[10pt]\n",
       "\\\\[10pt]\n",
       "V_{Rds_{vertikal}} &= \\left( \\left( \\frac{ A_{sw} }{ s } \\right) \\cdot z \\cdot f_{sd} \\cdot \\operatorname{cot} \\left( \\alpha \\right) \\right)  = \\left( \\left( \\frac{ 157.080\\ \\mathrm{mm}^{2} }{ 250.000\\ \\mathrm{mm} } \\right) \\cdot 220.000\\ \\mathrm{mm} \\cdot 300.000\\ \\mathrm{MPa} \\cdot \\operatorname{cot} \\left( 0.524 \\right) \\right) &= 71.826\\ \\mathrm{kN}  \n",
       "\\\\[10pt]\n",
       "V_{Rds} &= V_{Rds_{vertikal}} + V_{Rds_{diagonal}}  = 71.826\\ \\mathrm{kN} + 97.336\\ \\mathrm{kN} &= 169.163\\ \\mathrm{kN}  \n",
       "\\\\[10pt]\n",
       "n_{SIA260} &= \\frac{ V_{Ed} }{ V_{Rds} }  = \\frac{ 174.300\\ \\mathrm{kN} }{ 169.163\\ \\mathrm{kN} } &= 1.030  \n",
       "\\\\[10pt]\n",
       "n_{SIA269} &= \\frac{ V_{Rds} }{ V_{Ed} }  = \\frac{ 169.163\\ \\mathrm{kN} }{ 174.300\\ \\mathrm{kN} } &= 0.971  \n",
       "\\end{aligned}\n",
       "\\]"
      ],
      "text/plain": [
       "<IPython.core.display.Latex object>"
      ]
     },
     "metadata": {},
     "output_type": "display_data"
    }
   ],
   "source": [
    "%%render\n",
    "V_Rds_diagonal =  (((A_s_diagonal*n_diagonal)/(1*m)) * z * f_sd * (cot(alpha)+cot(beta)))* sin(beta)\n",
    "V_Rds_vertikal =  ((A_sw/s) * z * f_sd * (cot(alpha)))\n",
    "V_Rds = V_Rds_vertikal + V_Rds_diagonal\n",
    "\n",
    "n_SIA260 = V_Ed/V_Rds\n",
    "n_SIA269 = V_Rds/V_Ed"
   ]
  },
  {
   "cell_type": "code",
   "execution_count": 32,
   "id": "58ab88b4",
   "metadata": {},
   "outputs": [
    {
     "data": {
      "text/latex": [
       "\\[\n",
       "\\begin{aligned}\n",
       "V_{Rdc} &= \\left( b_{w} \\cdot z \\cdot k_{c} \\cdot f_{cd} \\cdot \\sin \\left( \\alpha \\right) \\cdot \\cos \\left( \\alpha \\right) \\right) \\\\&= \\left( 300.000\\ \\mathrm{mm} \\cdot 220.000\\ \\mathrm{mm} \\cdot 0.550 \\cdot 16.000\\ \\mathrm{MPa} \\cdot \\sin \\left( 0.524 \\right) \\cdot \\cos \\left( 0.524 \\right) \\right) \\\\&= 251.494\\ \\mathrm{kN}  \\\\[10pt]\n",
       "\\\\[10pt]\n",
       "n_{SIA260} &= \\frac{ V_{Ed} }{ V_{Rdc} }  = \\frac{ 174.300\\ \\mathrm{kN} }{ 251.494\\ \\mathrm{kN} } &= 0.693  \n",
       "\\\\[10pt]\n",
       "n_{SIA269} &= \\frac{ V_{Rdc} }{ V_{Ed} }  = \\frac{ 251.494\\ \\mathrm{kN} }{ 174.300\\ \\mathrm{kN} } &= 1.443  \n",
       "\\end{aligned}\n",
       "\\]"
      ],
      "text/plain": [
       "<IPython.core.display.Latex object>"
      ]
     },
     "metadata": {},
     "output_type": "display_data"
    }
   ],
   "source": [
    "%%render\n",
    "V_Rdc = (b_w * z* k_c* f_cd *sin(alpha)*cos(alpha))\n",
    "n_SIA260 = V_Ed/V_Rdc\n",
    "n_SIA269 = V_Rdc/V_Ed"
   ]
  },
  {
   "cell_type": "code",
   "execution_count": null,
   "id": "a9ce4180",
   "metadata": {},
   "outputs": [],
   "source": []
  }
 ],
 "metadata": {
  "kernelspec": {
   "display_name": "Python 3",
   "language": "python",
   "name": "python3"
  },
  "language_info": {
   "codemirror_mode": {
    "name": "ipython",
    "version": 3
   },
   "file_extension": ".py",
   "mimetype": "text/x-python",
   "name": "python",
   "nbconvert_exporter": "python",
   "pygments_lexer": "ipython3",
   "version": "3.10.10"
  }
 },
 "nbformat": 4,
 "nbformat_minor": 5
}

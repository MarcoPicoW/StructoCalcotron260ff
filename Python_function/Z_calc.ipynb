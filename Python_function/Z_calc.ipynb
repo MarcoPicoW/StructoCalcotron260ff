{
 "cells": [
  {
   "cell_type": "code",
   "execution_count": 26,
   "metadata": {},
   "outputs": [],
   "source": [
    "import numpy as np, scipy, math, handcalcs.render, forallpeople, pandas as pd, csv, os, math\n",
    "from math import sqrt, pi, sin, tan, cos, atan\n",
    "forallpeople.environment('structural', top_level=True)\n",
    "handcalcs.save_config()\n",
    "cm = 10 *mm\n",
    "t = 1000 * kg\n",
    "def cot(x):\n",
    "    cotx = 1/tan(x)\n",
    "    return cotx"
   ]
  },
  {
   "cell_type": "code",
   "execution_count": 27,
   "metadata": {},
   "outputs": [
    {
     "data": {
      "text/latex": [
       "\\[\n",
       "\\begin{aligned}\n",
       "\\alpha &= 0.436 \\; \n",
       " &A_{sw} &= 157.000\\ \\mathrm{mm}^{2} \\; \n",
       " &s &= 200.000\\ \\mathrm{mm} \\; \n",
       "\\\\[10pt]\n",
       " f_{sd} &= 450.000\\ \\mathrm{MPa} \\; \n",
       " &V_{y} &= 330.000\\ \\mathrm{kN} \\; \n",
       " &k_{c} &= 0.550 \\; \n",
       "\\\\[10pt]\n",
       " f_{cd} &= 26.400\\ \\mathrm{MPa} \\; \n",
       " &b_{wnom} &= 314.000\\ \\mathrm{mm} \\;\n",
       "\\end{aligned}\n",
       "\\]"
      ],
      "text/plain": [
       "<IPython.core.display.Latex object>"
      ]
     },
     "metadata": {},
     "output_type": "display_data"
    }
   ],
   "source": [
    "%%render params\n",
    "alpha = math.radians(25)\n",
    "A_sw = 2*78.5 * mm**2\n",
    "s = 0.2 * m\n",
    "f_sd = 450 *MPa\n",
    "V_y = 330*kN\n",
    "k_c = 0.55\n",
    "f_cd = 26.4 *MPa\n",
    "b_wnom = 314*mm\n"
   ]
  },
  {
   "cell_type": "code",
   "execution_count": 28,
   "metadata": {},
   "outputs": [
    {
     "data": {
      "text/latex": [
       "\\[\n",
       "\\begin{aligned}\n",
       "z_{s} &= \\frac{ V_{y} \\cdot s }{ A_{sw} \\cdot f_{sd} \\cdot \\operatorname{cot} \\left( \\alpha \\right) }  = \\frac{ 330.000\\ \\mathrm{kN} \\cdot 200.000\\ \\mathrm{mm} }{ 157.000\\ \\mathrm{mm}^{2} \\cdot 450.000\\ \\mathrm{MPa} \\cdot \\operatorname{cot} \\left( 0.436 \\right) } &= 435.616\\ \\mathrm{mm}  \n",
       "\\\\[10pt]\n",
       "z_{c} &= \\frac{ V_{y} }{ b_{wnom} \\cdot k_{c} \\cdot f_{cd} \\cdot \\sin \\left( \\alpha \\right) \\cdot \\cos \\left( \\alpha \\right) }  = \\frac{ 330.000\\ \\mathrm{kN} }{ 314.000\\ \\mathrm{mm} \\cdot 0.550 \\cdot 26.400\\ \\mathrm{MPa} \\cdot \\sin \\left( 0.436 \\right) \\cdot \\cos \\left( 0.436 \\right) } &= 188.970\\ \\mathrm{mm}  \n",
       "\\end{aligned}\n",
       "\\]"
      ],
      "text/plain": [
       "<IPython.core.display.Latex object>"
      ]
     },
     "metadata": {},
     "output_type": "display_data"
    }
   ],
   "source": [
    "%%render \n",
    "z_s = (V_y * s)/ (A_sw * f_sd * cot(alpha))\n",
    "z_c = V_y / ( b_wnom * k_c * f_cd * sin(alpha) * cos(alpha) )"
   ]
  }
 ],
 "metadata": {
  "kernelspec": {
   "display_name": "Python 3",
   "language": "python",
   "name": "python3"
  },
  "language_info": {
   "codemirror_mode": {
    "name": "ipython",
    "version": 3
   },
   "file_extension": ".py",
   "mimetype": "text/x-python",
   "name": "python",
   "nbconvert_exporter": "python",
   "pygments_lexer": "ipython3",
   "version": "3.10.10"
  }
 },
 "nbformat": 4,
 "nbformat_minor": 2
}
